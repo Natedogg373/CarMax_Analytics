{
 "cells": [
  {
   "cell_type": "code",
   "execution_count": 1,
   "metadata": {},
   "outputs": [
    {
     "data": {
      "text/html": [
       "<div>\n",
       "<style scoped>\n",
       "    .dataframe tbody tr th:only-of-type {\n",
       "        vertical-align: middle;\n",
       "    }\n",
       "\n",
       "    .dataframe tbody tr th {\n",
       "        vertical-align: top;\n",
       "    }\n",
       "\n",
       "    .dataframe thead th {\n",
       "        text-align: right;\n",
       "    }\n",
       "</style>\n",
       "<table border=\"1\" class=\"dataframe\">\n",
       "  <thead>\n",
       "    <tr style=\"text-align: right;\">\n",
       "      <th></th>\n",
       "      <th>insert_num</th>\n",
       "      <th>purchase_make</th>\n",
       "      <th>purchase_model</th>\n",
       "      <th>purchase_vehicle_year</th>\n",
       "      <th>purchase_price</th>\n",
       "      <th>trade_in</th>\n",
       "      <th>vehicle_financing</th>\n",
       "      <th>customer_age</th>\n",
       "      <th>customer_income</th>\n",
       "      <th>customer_gender</th>\n",
       "      <th>customer_previous_purchase</th>\n",
       "      <th>customer_distance_to_dealer</th>\n",
       "      <th>vehicle_warranty_used</th>\n",
       "    </tr>\n",
       "  </thead>\n",
       "  <tbody>\n",
       "    <tr>\n",
       "      <td>0</td>\n",
       "      <td>81690</td>\n",
       "      <td>DODGE</td>\n",
       "      <td>CHARGER</td>\n",
       "      <td>2010</td>\n",
       "      <td>10001 - 15000</td>\n",
       "      <td>0</td>\n",
       "      <td>0</td>\n",
       "      <td>21 - 30</td>\n",
       "      <td>20001 - 40000</td>\n",
       "      <td>U</td>\n",
       "      <td>0</td>\n",
       "      <td>9</td>\n",
       "      <td>1</td>\n",
       "    </tr>\n",
       "    <tr>\n",
       "      <td>1</td>\n",
       "      <td>109994</td>\n",
       "      <td>FORD</td>\n",
       "      <td>EXPLORER SPORT TRAC</td>\n",
       "      <td>2007</td>\n",
       "      <td>15001 - 20000</td>\n",
       "      <td>0</td>\n",
       "      <td>1</td>\n",
       "      <td>61 - 70</td>\n",
       "      <td>20001 - 40000</td>\n",
       "      <td>M</td>\n",
       "      <td>1</td>\n",
       "      <td>15</td>\n",
       "      <td>0</td>\n",
       "    </tr>\n",
       "    <tr>\n",
       "      <td>2</td>\n",
       "      <td>11399</td>\n",
       "      <td>BMW</td>\n",
       "      <td>328</td>\n",
       "      <td>2010</td>\n",
       "      <td>20001 - 25000</td>\n",
       "      <td>1</td>\n",
       "      <td>1</td>\n",
       "      <td>31 - 40</td>\n",
       "      <td>80001 - 100000</td>\n",
       "      <td>F</td>\n",
       "      <td>1</td>\n",
       "      <td>18</td>\n",
       "      <td>0</td>\n",
       "    </tr>\n",
       "    <tr>\n",
       "      <td>4</td>\n",
       "      <td>36685</td>\n",
       "      <td>CHEVROLET</td>\n",
       "      <td>CRUZE</td>\n",
       "      <td>2012</td>\n",
       "      <td>10001 - 15000</td>\n",
       "      <td>1</td>\n",
       "      <td>1</td>\n",
       "      <td>21 - 30</td>\n",
       "      <td>40001 - 60000</td>\n",
       "      <td>M</td>\n",
       "      <td>0</td>\n",
       "      <td>2</td>\n",
       "      <td>0</td>\n",
       "    </tr>\n",
       "    <tr>\n",
       "      <td>5</td>\n",
       "      <td>256143</td>\n",
       "      <td>MITSUBISHI</td>\n",
       "      <td>OUTLANDER SPORT</td>\n",
       "      <td>2011</td>\n",
       "      <td>15001 - 20000</td>\n",
       "      <td>0</td>\n",
       "      <td>1</td>\n",
       "      <td>21 - 30</td>\n",
       "      <td>40001 - 60000</td>\n",
       "      <td>M</td>\n",
       "      <td>0</td>\n",
       "      <td>12</td>\n",
       "      <td>0</td>\n",
       "    </tr>\n",
       "  </tbody>\n",
       "</table>\n",
       "</div>"
      ],
      "text/plain": [
       "   insert_num purchase_make       purchase_model  purchase_vehicle_year  \\\n",
       "0       81690         DODGE              CHARGER                   2010   \n",
       "1      109994          FORD  EXPLORER SPORT TRAC                   2007   \n",
       "2       11399           BMW                  328                   2010   \n",
       "4       36685     CHEVROLET                CRUZE                   2012   \n",
       "5      256143    MITSUBISHI      OUTLANDER SPORT                   2011   \n",
       "\n",
       "  purchase_price  trade_in  vehicle_financing customer_age customer_income  \\\n",
       "0  10001 - 15000         0                  0      21 - 30   20001 - 40000   \n",
       "1  15001 - 20000         0                  1      61 - 70   20001 - 40000   \n",
       "2  20001 - 25000         1                  1      31 - 40  80001 - 100000   \n",
       "4  10001 - 15000         1                  1      21 - 30   40001 - 60000   \n",
       "5  15001 - 20000         0                  1      21 - 30   40001 - 60000   \n",
       "\n",
       "  customer_gender  customer_previous_purchase customer_distance_to_dealer  \\\n",
       "0               U                           0                           9   \n",
       "1               M                           1                          15   \n",
       "2               F                           1                          18   \n",
       "4               M                           0                           2   \n",
       "5               M                           0                          12   \n",
       "\n",
       "   vehicle_warranty_used  \n",
       "0                      1  \n",
       "1                      0  \n",
       "2                      0  \n",
       "4                      0  \n",
       "5                      0  "
      ]
     },
     "execution_count": 1,
     "metadata": {},
     "output_type": "execute_result"
    }
   ],
   "source": [
    "import pandas as pd\n",
    "import seaborn as sns\n",
    "\n",
    "data = pd.read_csv('CaseCompetitionData.csv', sep=',')\n",
    "data = data.loc[(data['purchase_price'] !='?') & (data['customer_income'] != '?') & (data['customer_distance_to_dealer'] != '?')]\n",
    "data.drop(columns=['post_purchase_satisfaction', 'subsequent_purchases'], inplace=True)\n",
    "data.head(5)"
   ]
  },
  {
   "cell_type": "code",
   "execution_count": 14,
   "metadata": {},
   "outputs": [
    {
     "name": "stdout",
     "output_type": "stream",
     "text": [
      "['21 - 30' '61 - 70' '31 - 40' '41 - 50' '51 - 60' '101+' '71 - 80'\n",
      " '0 - 20' '81 - 90' '?' '91 - 100']\n",
      "['20001 - 40000' '80001 - 100000' '40001 - 60000' '60001 - 80000'\n",
      " '120001 - 140000' '0 - 20000' '100001 - 120000' '160001 - 180000'\n",
      " '200001+' '140001 - 160000' '180001 - 200000']\n",
      "['10001 - 15000' '15001 - 20000' '20001 - 25000' '25001 - 30000'\n",
      " '30001 - 35000' '0 - 5000' '45001 - 50000' '35001 - 40000' '5001 - 10000'\n",
      " '40001 - 45000' '55001 - 60000' '50001 - 55000' '60001 - 65000'\n",
      " '65001 - 70000' '70001 - 75000' '75001 - 80000' '85001 - 90000'\n",
      " '90001 - 95000' '80001 - 85000']\n"
     ]
    }
   ],
   "source": []
  },
  {
   "cell_type": "code",
   "execution_count": 3,
   "metadata": {},
   "outputs": [],
   "source": [
    "from sklearn.ensemble import RandomForestClassifier\n",
    "from sklearn.model_selection import GridSearchCV\n",
    "from sklearn.model_selection import cross_val_score\n",
    "from sklearn.model_selection import train_test_split\n",
    "from sklearn import metrics\n",
    "from sklearn.preprocessing import OrdinalEncoder"
   ]
  },
  {
   "cell_type": "code",
   "execution_count": 4,
   "metadata": {},
   "outputs": [],
   "source": [
    "data[['purchase_make', 'purchase_model', 'purchase_price','customer_age', 'customer_income', 'customer_gender']] = data[['purchase_make', 'purchase_model', 'purchase_price', 'customer_age', 'customer_income', 'customer_gender']].astype('category')\n",
    "data['purchase_make_cat'] = data['purchase_make'].cat.codes\n",
    "data['purchase_model_cat'] = data['purchase_model'].cat.codes # mapping categoricals to numerical values\n",
    "data['customer_age_cat'] = data['customer_age'].cat.codes\n",
    "data['customer_income_cat'] = data['customer_income'].cat.codes\n",
    "data['customer_income_cat'] = data['customer_income'].cat.codes\n",
    "data['purchase_price'] = data['purchase_price'].cat.codes\n",
    "data['customer_distance_to_dealer'] = pd.to_numeric(data['customer_distance_to_dealer'])\n",
    "data.drop(columns=['purchase_make', 'purchase_model', 'purchase_price', 'customer_age', 'customer_income', 'customer_gender', 'insert_num'], inplace=True)"
   ]
  },
  {
   "cell_type": "code",
   "execution_count": 13,
   "metadata": {},
   "outputs": [],
   "source": [
    "features = data.drop(columns=['customer_previous_purchase'])\n",
    "labels = data['customer_previous_purchase']\n",
    "X_train, X_test, y_train, y_test = train_test_split(features, labels, test_size=0.4, random_state=42)\n",
    "X_test, X_val, y_test, y_val = train_test_split(X_test, y_test, test_size=0.5, random_state=42)\n",
    "\n",
    "\n"
   ]
  },
  {
   "cell_type": "code",
   "execution_count": 7,
   "metadata": {},
   "outputs": [
    {
     "name": "stderr",
     "output_type": "stream",
     "text": [
      "C:\\Users\\999Na\\Anaconda3\\lib\\site-packages\\sklearn\\ensemble\\forest.py:245: FutureWarning: The default value of n_estimators will change from 10 in version 0.20 to 100 in 0.22.\n",
      "  \"10 in version 0.20 to 100 in 0.22.\", FutureWarning)\n",
      "C:\\Users\\999Na\\Anaconda3\\lib\\site-packages\\sklearn\\ensemble\\forest.py:245: FutureWarning: The default value of n_estimators will change from 10 in version 0.20 to 100 in 0.22.\n",
      "  \"10 in version 0.20 to 100 in 0.22.\", FutureWarning)\n",
      "C:\\Users\\999Na\\Anaconda3\\lib\\site-packages\\sklearn\\ensemble\\forest.py:245: FutureWarning: The default value of n_estimators will change from 10 in version 0.20 to 100 in 0.22.\n",
      "  \"10 in version 0.20 to 100 in 0.22.\", FutureWarning)\n",
      "C:\\Users\\999Na\\Anaconda3\\lib\\site-packages\\sklearn\\ensemble\\forest.py:245: FutureWarning: The default value of n_estimators will change from 10 in version 0.20 to 100 in 0.22.\n",
      "  \"10 in version 0.20 to 100 in 0.22.\", FutureWarning)\n",
      "C:\\Users\\999Na\\Anaconda3\\lib\\site-packages\\sklearn\\ensemble\\forest.py:245: FutureWarning: The default value of n_estimators will change from 10 in version 0.20 to 100 in 0.22.\n",
      "  \"10 in version 0.20 to 100 in 0.22.\", FutureWarning)\n"
     ]
    },
    {
     "name": "stdout",
     "output_type": "stream",
     "text": [
      "[0.74962783 0.75141426 0.74732711 0.74929623 0.75050754]\n",
      "{'mean_fit_time': array([ 0.24356127,  2.04387741,  4.09180512,  0.62852259,  5.51601949,\n",
      "       11.15498824,  0.94460278,  9.5714375 , 19.72076759,  1.11748381,\n",
      "       10.662286  , 21.40773716]), 'std_fit_time': array([0.00731701, 0.11411252, 0.16153265, 0.07707893, 0.08462361,\n",
      "       0.37185312, 0.06791234, 0.7549086 , 1.5196368 , 0.07003978,\n",
      "       0.07825436, 0.20208843]), 'mean_score_time': array([0.01557956, 0.09698529, 0.19587646, 0.02807693, 0.25377321,\n",
      "       0.51297607, 0.0624156 , 0.59957247, 1.09955626, 0.07304492,\n",
      "       0.68711247, 1.31082044]), 'std_score_time': array([0.0003076 , 0.00565795, 0.00527461, 0.00621716, 0.00610382,\n",
      "       0.05839567, 0.0075601 , 0.06554372, 0.04486285, 0.00684195,\n",
      "       0.05686224, 0.01601018]), 'param_max_depth': masked_array(data=[2, 2, 2, 10, 10, 10, 20, 20, 20, None, None, None],\n",
      "             mask=[False, False, False, False, False, False, False, False,\n",
      "                   False, False, False, False],\n",
      "       fill_value='?',\n",
      "            dtype=object), 'param_n_estimators': masked_array(data=[5, 50, 100, 5, 50, 100, 5, 50, 100, 5, 50, 100],\n",
      "             mask=[False, False, False, False, False, False, False, False,\n",
      "                   False, False, False, False],\n",
      "       fill_value='?',\n",
      "            dtype=object), 'params': [{'max_depth': 2, 'n_estimators': 5}, {'max_depth': 2, 'n_estimators': 50}, {'max_depth': 2, 'n_estimators': 100}, {'max_depth': 10, 'n_estimators': 5}, {'max_depth': 10, 'n_estimators': 50}, {'max_depth': 10, 'n_estimators': 100}, {'max_depth': 20, 'n_estimators': 5}, {'max_depth': 20, 'n_estimators': 50}, {'max_depth': 20, 'n_estimators': 100}, {'max_depth': None, 'n_estimators': 5}, {'max_depth': None, 'n_estimators': 50}, {'max_depth': None, 'n_estimators': 100}], 'split0_test_score': array([0.77701989, 0.77685749, 0.77685749, 0.78286642, 0.78400325,\n",
      "       0.78373258, 0.76105021, 0.77626201, 0.77829206, 0.72610637,\n",
      "       0.75425633, 0.75441873]), 'split1_test_score': array([0.77685749, 0.77685749, 0.77685749, 0.78254162, 0.78335363,\n",
      "       0.78343484, 0.76086074, 0.77701989, 0.77791311, 0.72810935,\n",
      "       0.75455407, 0.75669238]), 'split2_test_score': array([0.77685749, 0.77685749, 0.77685749, 0.7816484 , 0.78275815,\n",
      "       0.78224388, 0.75644878, 0.77588307, 0.77588307, 0.72597104,\n",
      "       0.75117066, 0.75252402]), 'split3_test_score': array([0.77766349, 0.77687852, 0.77687852, 0.78221091, 0.78267107,\n",
      "       0.78294175, 0.76312798, 0.77639129, 0.77704093, 0.72688393,\n",
      "       0.75641511, 0.75581962]), 'split4_test_score': array([0.77687248, 0.77687248, 0.77687248, 0.78231329, 0.78358552,\n",
      "       0.78347725, 0.76138917, 0.77638524, 0.7776304 , 0.72904204,\n",
      "       0.75464905, 0.7547844 ]), 'mean_test_score': array([0.77705417, 0.77686469, 0.77686469, 0.78231613, 0.78327433,\n",
      "       0.78316605, 0.76057535, 0.7763883 , 0.77735191, 0.72722253,\n",
      "       0.75420903, 0.75484783]), 'std_test_score': array([3.10747300e-04, 9.02651138e-06, 9.02651138e-06, 4.02647749e-04,\n",
      "       5.02954905e-04, 5.27403615e-04, 2.21422444e-03, 3.66100411e-04,\n",
      "       8.40313805e-04, 1.18521533e-03, 1.69785207e-03, 1.40961759e-03]), 'rank_test_score': array([ 5,  6,  6,  3,  1,  2,  9,  8,  4, 12, 11, 10])}\n"
     ]
    },
    {
     "ename": "NameError",
     "evalue": "name 'results' is not defined",
     "output_type": "error",
     "traceback": [
      "\u001b[1;31m---------------------------------------------------------------------------\u001b[0m",
      "\u001b[1;31mNameError\u001b[0m                                 Traceback (most recent call last)",
      "\u001b[1;32m<ipython-input-7-493fb9079228>\u001b[0m in \u001b[0;36m<module>\u001b[1;34m\u001b[0m\n\u001b[0;32m     10\u001b[0m \u001b[0mcv\u001b[0m\u001b[1;33m.\u001b[0m\u001b[0mfit\u001b[0m\u001b[1;33m(\u001b[0m\u001b[0mX_train\u001b[0m\u001b[1;33m,\u001b[0m \u001b[0my_train\u001b[0m\u001b[1;33m.\u001b[0m\u001b[0mvalues\u001b[0m\u001b[1;33m.\u001b[0m\u001b[0mravel\u001b[0m\u001b[1;33m(\u001b[0m\u001b[1;33m)\u001b[0m\u001b[1;33m)\u001b[0m\u001b[1;33m\u001b[0m\u001b[1;33m\u001b[0m\u001b[0m\n\u001b[0;32m     11\u001b[0m \u001b[0mprint\u001b[0m\u001b[1;33m(\u001b[0m\u001b[0mcv\u001b[0m\u001b[1;33m.\u001b[0m\u001b[0mcv_results_\u001b[0m\u001b[1;33m)\u001b[0m\u001b[1;33m\u001b[0m\u001b[1;33m\u001b[0m\u001b[0m\n\u001b[1;32m---> 12\u001b[1;33m \u001b[0mprint\u001b[0m\u001b[1;33m(\u001b[0m\u001b[1;34m'BEST PARAMS: {}\\n'\u001b[0m\u001b[1;33m.\u001b[0m\u001b[0mformat\u001b[0m\u001b[1;33m(\u001b[0m\u001b[0mresults\u001b[0m\u001b[1;33m.\u001b[0m\u001b[0mbest_params_\u001b[0m\u001b[1;33m)\u001b[0m\u001b[1;33m)\u001b[0m\u001b[1;33m\u001b[0m\u001b[1;33m\u001b[0m\u001b[0m\n\u001b[0m\u001b[0;32m     13\u001b[0m \u001b[1;33m\u001b[0m\u001b[0m\n\u001b[0;32m     14\u001b[0m \u001b[0mmeans\u001b[0m \u001b[1;33m=\u001b[0m \u001b[0mresults\u001b[0m\u001b[1;33m.\u001b[0m\u001b[0mcv_results_\u001b[0m\u001b[1;33m[\u001b[0m\u001b[1;34m'mean_test_score'\u001b[0m\u001b[1;33m]\u001b[0m\u001b[1;33m\u001b[0m\u001b[1;33m\u001b[0m\u001b[0m\n",
      "\u001b[1;31mNameError\u001b[0m: name 'results' is not defined"
     ]
    }
   ],
   "source": [
    "rf = RandomForestClassifier()\n",
    "scores = cross_val_score(rf, X_train, y_train.values.ravel(), cv=5)\n",
    "print(scores)\n",
    "parameters = {\n",
    "    'n_estimators': [5, 50, 100],\n",
    "    'max_depth': [2, 10, 20, None]\n",
    "}\n",
    "\n",
    "cv = GridSearchCV(rf, parameters, cv=5)\n",
    "cv.fit(X_train, y_train.values.ravel())\n",
    "print(cv.cv_results_)\n",
    "print('BEST PARAMS: {}\\n'.format(results.best_params_))\n",
    "\n",
    "means = results.cv_results_['mean_test_score']\n",
    "stds = results.cv_results_['std_test_score']\n",
    "for mean, std, params in zip(means, stds, results.cv_results_['params']):\n",
    "    print('{} (+/-{}) for {}'.format(round(mean, 3), round(std * 2, 3), params))"
   ]
  },
  {
   "cell_type": "code",
   "execution_count": 8,
   "metadata": {},
   "outputs": [
    {
     "name": "stdout",
     "output_type": "stream",
     "text": [
      "0.7864195926852243\n",
      "0.784259590086725\n",
      "              precision    recall  f1-score   support\n",
      "\n",
      "           1       0.62      0.08      0.15     13709\n",
      "           0       0.79      0.99      0.88     47865\n",
      "\n",
      "    accuracy                           0.78     61574\n",
      "   macro avg       0.70      0.53      0.51     61574\n",
      "weighted avg       0.75      0.78      0.71     61574\n",
      "\n",
      "[0.08061635 0.17982183 0.10876264 0.04574059 0.00688823 0.031013\n",
      " 0.0441461  0.21847267 0.28453858]\n",
      "Index(['purchase_vehicle_year', 'trade_in', 'vehicle_financing',\n",
      "       'customer_distance_to_dealer', 'vehicle_warranty_used',\n",
      "       'purchase_make_cat', 'purchase_model_cat', 'customer_age_cat',\n",
      "       'customer_income_cat'],\n",
      "      dtype='object')\n",
      "[[ 1134 12575]\n",
      " [  709 47156]]\n"
     ]
    }
   ],
   "source": [
    "rf = RandomForestClassifier(n_estimators=50, max_depth=10)\n",
    "rf.fit(X_train, y_train)\n",
    "scores = rf.score(X_val, y_val)\n",
    "print(scores)\n",
    "predictions = rf.predict_proba(X_test)\n",
    "predictions2 = rf.predict(X_test)\n",
    "print(metrics.accuracy_score(y_test, predictions2))\n",
    "print(metrics.classification_report(y_test, predictions2, labels=[1,0]))\n",
    "print(rf.feature_importances_)\n",
    "print(X_test.columns)\n",
    "print(metrics.confusion_matrix(y_test, predictions2, labels=[1,0]))\n",
    "\n",
    "# looks like purchase year, trade in, financing, age, and income are the most telling for having a previous purchase"
   ]
  },
  {
   "cell_type": "code",
   "execution_count": 10,
   "metadata": {},
   "outputs": [
    {
     "name": "stdout",
     "output_type": "stream",
     "text": [
      "13709\n",
      "5992\n",
      "14622\n",
      "61574\n",
      "0.22245849464166895\n",
      "0.22264267385584824\n",
      "[6157, 6157, 6157, 6157, 6157, 6157, 6157, 6157, 6157, 6161]\n",
      "0.22264267385584824\n"
     ]
    },
    {
     "data": {
      "text/html": [
       "<div>\n",
       "<style scoped>\n",
       "    .dataframe tbody tr th:only-of-type {\n",
       "        vertical-align: middle;\n",
       "    }\n",
       "\n",
       "    .dataframe tbody tr th {\n",
       "        vertical-align: top;\n",
       "    }\n",
       "\n",
       "    .dataframe thead th {\n",
       "        text-align: right;\n",
       "    }\n",
       "</style>\n",
       "<table border=\"1\" class=\"dataframe\">\n",
       "  <thead>\n",
       "    <tr style=\"text-align: right;\">\n",
       "      <th></th>\n",
       "      <th>purchase_vehicle_year</th>\n",
       "      <th>trade_in</th>\n",
       "      <th>vehicle_financing</th>\n",
       "      <th>customer_distance_to_dealer</th>\n",
       "      <th>vehicle_warranty_used</th>\n",
       "      <th>purchase_make_cat</th>\n",
       "      <th>purchase_model_cat</th>\n",
       "      <th>customer_age_cat</th>\n",
       "      <th>customer_income_cat</th>\n",
       "      <th>prob_yes</th>\n",
       "      <th>actual</th>\n",
       "    </tr>\n",
       "  </thead>\n",
       "  <tbody>\n",
       "    <tr>\n",
       "      <td>295434</td>\n",
       "      <td>2008</td>\n",
       "      <td>0</td>\n",
       "      <td>1</td>\n",
       "      <td>5</td>\n",
       "      <td>0</td>\n",
       "      <td>5</td>\n",
       "      <td>334</td>\n",
       "      <td>2</td>\n",
       "      <td>7</td>\n",
       "      <td>0.052297</td>\n",
       "      <td>0</td>\n",
       "    </tr>\n",
       "    <tr>\n",
       "      <td>78292</td>\n",
       "      <td>2011</td>\n",
       "      <td>1</td>\n",
       "      <td>1</td>\n",
       "      <td>6</td>\n",
       "      <td>0</td>\n",
       "      <td>28</td>\n",
       "      <td>658</td>\n",
       "      <td>5</td>\n",
       "      <td>0</td>\n",
       "      <td>0.262080</td>\n",
       "      <td>0</td>\n",
       "    </tr>\n",
       "    <tr>\n",
       "      <td>143534</td>\n",
       "      <td>2011</td>\n",
       "      <td>1</td>\n",
       "      <td>1</td>\n",
       "      <td>71</td>\n",
       "      <td>0</td>\n",
       "      <td>9</td>\n",
       "      <td>257</td>\n",
       "      <td>3</td>\n",
       "      <td>1</td>\n",
       "      <td>0.349014</td>\n",
       "      <td>0</td>\n",
       "    </tr>\n",
       "    <tr>\n",
       "      <td>146514</td>\n",
       "      <td>2011</td>\n",
       "      <td>1</td>\n",
       "      <td>1</td>\n",
       "      <td>7</td>\n",
       "      <td>0</td>\n",
       "      <td>32</td>\n",
       "      <td>137</td>\n",
       "      <td>5</td>\n",
       "      <td>6</td>\n",
       "      <td>0.422948</td>\n",
       "      <td>0</td>\n",
       "    </tr>\n",
       "    <tr>\n",
       "      <td>199272</td>\n",
       "      <td>2011</td>\n",
       "      <td>0</td>\n",
       "      <td>1</td>\n",
       "      <td>7</td>\n",
       "      <td>1</td>\n",
       "      <td>28</td>\n",
       "      <td>504</td>\n",
       "      <td>3</td>\n",
       "      <td>8</td>\n",
       "      <td>0.155000</td>\n",
       "      <td>0</td>\n",
       "    </tr>\n",
       "  </tbody>\n",
       "</table>\n",
       "</div>"
      ],
      "text/plain": [
       "        purchase_vehicle_year  trade_in  vehicle_financing  \\\n",
       "295434                   2008         0                  1   \n",
       "78292                    2011         1                  1   \n",
       "143534                   2011         1                  1   \n",
       "146514                   2011         1                  1   \n",
       "199272                   2011         0                  1   \n",
       "\n",
       "        customer_distance_to_dealer  vehicle_warranty_used  purchase_make_cat  \\\n",
       "295434                            5                      0                  5   \n",
       "78292                             6                      0                 28   \n",
       "143534                           71                      0                  9   \n",
       "146514                            7                      0                 32   \n",
       "199272                            7                      1                 28   \n",
       "\n",
       "        purchase_model_cat  customer_age_cat  customer_income_cat  prob_yes  \\\n",
       "295434                 334                 2                    7  0.052297   \n",
       "78292                  658                 5                    0  0.262080   \n",
       "143534                 257                 3                    1  0.349014   \n",
       "146514                 137                 5                    6  0.422948   \n",
       "199272                 504                 3                    8  0.155000   \n",
       "\n",
       "        actual  \n",
       "295434       0  \n",
       "78292        0  \n",
       "143534       0  \n",
       "146514       0  \n",
       "199272       0  "
      ]
     },
     "execution_count": 10,
     "metadata": {},
     "output_type": "execute_result"
    },
    {
     "data": {
      "image/png": "[encoded data removed]",
      "text/plain": [
       "<Figure size 432x288 with 1 Axes>"
      ]
     },
     "metadata": {
      "needs_background": "light"
     },
     "output_type": "display_data"
    }
   ],
   "source": [
    "results = {'actual':y_test, 'prob_not':predictions[:,0], 'prob_yes':predictions[:,1]}\n",
    "results = pd.DataFrame(results)\n",
    "repeats = results[results['actual'] == 1]\n",
    "print(len(repeats))\n",
    "print(len(repeats[repeats['prob_yes'] >= .3]))\n",
    "print(len(results[results['prob_yes'] >= .3]))\n",
    "print(len(results))\n",
    "print(results['prob_yes'].mean())\n",
    "x = round(len(results)/10)\n",
    "\n",
    "recreate = X_test\n",
    "recreate['prob_yes'] = predictions[:,1]\n",
    "recreate['actual'] = y_test\n",
    "print(recreate['actual'].mean())\n",
    "\n",
    "results.sort_values(by=['prob_yes'], ascending=False, inplace=True)\n",
    "results.reset_index(inplace=True)\n",
    "results.rename(columns={'index':'customer'}, inplace=True)\n",
    "results\n",
    "rank = []\n",
    "repeat_rate = []\n",
    "sales_rank_probs = []\n",
    "lengths = []\n",
    "\n",
    "for num in range(1,11):\n",
    "    if num == 10:\n",
    "        y = results.iloc[x*(num-1):]\n",
    "        rr = len(results.iloc[x*(num-1):])\n",
    "    else:\n",
    "        y = results.iloc[x*(num-1):x*num]\n",
    "        rr = len(results.iloc[x*(num-1):x*num])\n",
    "    z = y['actual'].sum()/len(y)\n",
    "    sales_rank_probs.append(results.iloc[x*(num-1)]['prob_yes'])\n",
    "    rank.append(num)\n",
    "    repeat_rate.append(z)\n",
    "    lengths.append(rr)\n",
    "\n",
    "sales_rank_probs.append(0)\n",
    "sales_rank = {'rank':rank, 'repeat_rate':repeat_rate}\n",
    "sales_rank = pd.DataFrame(sales_rank)\n",
    "print(lengths)\n",
    "sales_rank.head(10)\n",
    "print(results['actual'].mean())\n",
    "sns.barplot(x='rank', y='repeat_rate', data=sales_rank)\n",
    "recreate.head()"
   ]
  },
  {
   "cell_type": "code",
   "execution_count": null,
   "metadata": {},
   "outputs": [],
   "source": [
    "features = data.drop(columns=['customer_previous_purchase'])\n",
    "labels = data['customer_previous_purchase']\n",
    "X_train, X_test, y_train, y_test = train_test_split(features, labels, test_size=0.4, random_state=42)\n",
    "X_test, X_val, y_test, y_val = train_test_split(X_test, y_test, test_size=0.5, random_state=42)"
   ]
  },
  {
   "cell_type": "code",
   "execution_count": 14,
   "metadata": {},
   "outputs": [
    {
     "name": "stderr",
     "output_type": "stream",
     "text": [
      "C:\\Users\\999Na\\Anaconda3\\lib\\site-packages\\sklearn\\linear_model\\logistic.py:432: FutureWarning: Default solver will be changed to 'lbfgs' in 0.22. Specify a solver to silence this warning.\n",
      "  FutureWarning)\n"
     ]
    },
    {
     "name": "stdout",
     "output_type": "stream",
     "text": [
      "[0.         0.         0.         ... 0.99995822 0.99995822 1.        ]\n",
      "[0.00000000e+00 7.29447808e-05 2.18834342e-04 ... 9.99927055e-01\n",
      " 1.00000000e+00 1.00000000e+00]\n",
      "[1.77091097 0.77091097 0.7442213  ... 0.03246229 0.03184639 0.02795813]\n"
     ]
    }
   ],
   "source": [
    "from sklearn.metrics import roc_auc_score\n",
    "from sklearn.metrics import roc_curve\n",
    "from sklearn.linear_model import LogisticRegression\n",
    "logreg = LogisticRegression()\n",
    "logreg.fit(X_train,y_train)\n",
    "fpr, tpr, thresholds = roc_curve(y_test, logreg.predict_proba(X_test)[:,1])\n",
    "print(fpr)\n",
    "print(tpr)\n",
    "print(thresholds)"
   ]
  },
  {
   "cell_type": "code",
   "execution_count": 15,
   "metadata": {},
   "outputs": [],
   "source": [
    "logit__roc_auc1 = roc_auc_score(y_test, logreg.predict(X_test))\n"
   ]
  },
  {
   "cell_type": "code",
   "execution_count": 16,
   "metadata": {},
   "outputs": [
    {
     "data": {
      "image/png": "[encoded data removed]",
      "text/plain": [
       "<Figure size 432x288 with 1 Axes>"
      ]
     },
     "metadata": {
      "needs_background": "light"
     },
     "output_type": "display_data"
    }
   ],
   "source": [
    "import matplotlib.pyplot as plt\n",
    "plt.figure()\n",
    "plt.plot(fpr, tpr, label='Logistic Regression (Sensitivity = %0.3f)' % logit__roc_auc1)\n",
    "plt.plot([0,1], [0,1], 'r--')\n",
    "plt.xlim([0,1.0])\n",
    "plt.ylim([0,1.05])\n",
    "plt.xlabel('False Positive Rate')\n",
    "plt.ylabel('True Positive Rate')\n",
    "plt.title('Reciever Operating Characteristic')\n",
    "plt.show()"
   ]
  },
  {
   "cell_type": "code",
   "execution_count": 30,
   "metadata": {},
   "outputs": [],
   "source": [
    "data = pd.read_csv('CaseCompetitionData.csv', sep=',')\n",
    "data = data.loc[(data['purchase_price'] !='?') & (data['customer_income'] != '?') & (data['customer_distance_to_dealer'] != '?')]\n",
    "data['customer_age'] = data['customer_age'].map({'21 - 30':25, '61 - 70':65, '31 - 40':35, '41 - 50':45, '51 - 60':55, '101+':102, '71 - 80':75,\n",
    " '0 - 20':10, '81 - 90':85, '?':'?', '91 - 100':95})\n",
    "data['customer_income'] = data['customer_income'].map({'20001 - 40000':30000, '80001 - 100000':90000, '40001 - 60000':50000, '60001 - 80000':70000,\n",
    " '120001 - 140000':130000, '0 - 20000':10000, '100001 - 120000':110000, '160001 - 180000':170000,\n",
    " '200001+':220000, '140001 - 160000':150000, '180001 - 200000':190000})\n",
    "data['purchase_price'] = data['purchase_price'].map({'10001 - 15000':12500, '15001 - 20000':17500, \n",
    " '20001 - 25000':22500, '25001 - 30000':27500, '30001 - 35000':32500, '0 - 5000':2500, '45001 - 50000':47500, \n",
    " '35001 - 40000':27500, '5001 - 10000':7500, '40001 - 45000':47500, '55001 - 60000':57500, '50001 - 55000':52500, \n",
    " '60001 - 65000':62500, '65001 - 70000':67500, '70001 - 75000':72500, '75001 - 80000':77500, '85001 - 90000':87500,\n",
    " '90001 - 95000':92500, '80001 - 85000':82500})"
   ]
  },
  {
   "cell_type": "code",
   "execution_count": 31,
   "metadata": {},
   "outputs": [
    {
     "data": {
      "text/plain": [
       "<matplotlib.axes._subplots.AxesSubplot at 0x1d5e30bf9c8>"
      ]
     },
     "execution_count": 31,
     "metadata": {},
     "output_type": "execute_result"
    },
    {
     "data": {
      "image/png": "[encoded data removed]",
      "text/plain": [
       "<Figure size 432x288 with 1 Axes>"
      ]
     },
     "metadata": {
      "needs_background": "light"
     },
     "output_type": "display_data"
    }
   ],
   "source": [
    "cust_pp_year_ratio = data.loc[data['purchase_vehicle_year'] >= 2000].groupby('purchase_vehicle_year')['customer_previous_purchase'].mean().to_frame().reset_index()\n",
    "sns.barplot(x='purchase_vehicle_year',y='customer_previous_purchase', data=cust_pp_year_ratio)\n",
    "# [2000, 2001, 2013, 2014] has the most significant correlation"
   ]
  },
  {
   "cell_type": "code",
   "execution_count": 32,
   "metadata": {},
   "outputs": [
    {
     "name": "stdout",
     "output_type": "stream",
     "text": [
      "   customer_previous_purchase  customer_distance_to_dealer\n",
      "0                           0                     7.889848\n",
      "1                           1                     7.988304\n"
     ]
    },
    {
     "data": {
      "image/png": "[encoded data removed]",
      "text/plain": [
       "<Figure size 432x288 with 1 Axes>"
      ]
     },
     "metadata": {
      "needs_background": "light"
     },
     "output_type": "display_data"
    }
   ],
   "source": [
    "cust_dist = data[data['customer_distance_to_dealer'] != '?']\n",
    "cust_dist['customer_distance_to_dealer'] = pd.to_numeric(cust_dist['customer_distance_to_dealer'])\n",
    "cust_dist = cust_dist.loc[cust_dist['customer_distance_to_dealer'] <= 20]\n",
    "sns.violinplot(x='customer_previous_purchase', y='customer_distance_to_dealer', data=cust_dist)\n",
    "print(cust_dist.groupby('customer_previous_purchase')['customer_distance_to_dealer'].mean().to_frame().reset_index())"
   ]
  },
  {
   "cell_type": "code",
   "execution_count": 7,
   "metadata": {},
   "outputs": [
    {
     "data": {
      "text/plain": [
       "<matplotlib.axes._subplots.AxesSubplot at 0x1d5e4223448>"
      ]
     },
     "execution_count": 7,
     "metadata": {},
     "output_type": "execute_result"
    },
    {
     "data": {
      "image/png": "[encoded data removed]",
      "text/plain": [
       "<Figure size 432x288 with 1 Axes>"
      ]
     },
     "metadata": {
      "needs_background": "light"
     },
     "output_type": "display_data"
    }
   ],
   "source": [
    "cust_dist_mean = cust_dist.groupby('customer_distance_to_dealer')['customer_previous_purchase'].mean().to_frame().reset_index()\n",
    "sns.barplot(x='customer_distance_to_dealer', y='customer_previous_purchase', data=cust_dist_mean)\n",
    "# really close people are likely to be repeat customers"
   ]
  },
  {
   "cell_type": "code",
   "execution_count": 33,
   "metadata": {},
   "outputs": [
    {
     "data": {
      "text/plain": [
       "<matplotlib.axes._subplots.AxesSubplot at 0x1d5e3521a88>"
      ]
     },
     "execution_count": 33,
     "metadata": {},
     "output_type": "execute_result"
    },
    {
     "data": {
      "image/png": "[encoded data removed]",
      "text/plain": [
       "<Figure size 432x288 with 1 Axes>"
      ]
     },
     "metadata": {
      "needs_background": "light"
     },
     "output_type": "display_data"
    }
   ],
   "source": [
    "cust_dist_count = cust_dist.groupby('customer_distance_to_dealer')['customer_previous_purchase'].count().to_frame().reset_index()\n",
    "sns.barplot(x='customer_distance_to_dealer', y='customer_previous_purchase', data=cust_dist_count)\n",
    "# super close people are likely to repeat but there aren't a ton of them"
   ]
  },
  {
   "cell_type": "code",
   "execution_count": 27,
   "metadata": {},
   "outputs": [
    {
     "name": "stdout",
     "output_type": "stream",
     "text": [
      "['21 - 30' '61 - 70' '31 - 40' '41 - 50' '51 - 60' '101+' '71 - 80'\n",
      " '0 - 20' '81 - 90' '?' '91 - 100']\n",
      "['20001 - 40000' '80001 - 100000' '40001 - 60000' '60001 - 80000'\n",
      " '120001 - 140000' '0 - 20000' '100001 - 120000' '160001 - 180000'\n",
      " '200001+' '140001 - 160000' '180001 - 200000']\n",
      "['10001 - 15000' '15001 - 20000' '20001 - 25000' '25001 - 30000'\n",
      " '30001 - 35000' '0 - 5000' '45001 - 50000' '35001 - 40000' '5001 - 10000'\n",
      " '40001 - 45000' '55001 - 60000' '50001 - 55000' '60001 - 65000'\n",
      " '65001 - 70000' '70001 - 75000' '75001 - 80000' '85001 - 90000'\n",
      " '90001 - 95000' '80001 - 85000']\n"
     ]
    }
   ],
   "source": []
  },
  {
   "cell_type": "code",
   "execution_count": 35,
   "metadata": {},
   "outputs": [
    {
     "name": "stdout",
     "output_type": "stream",
     "text": [
      "    customer_income  customer_previous_purchase\n",
      "0             10000                    0.268625\n",
      "1             30000                    0.112370\n",
      "2             50000                    0.188871\n",
      "3             70000                    0.252691\n",
      "4             90000                    0.301484\n",
      "5            110000                    0.319916\n",
      "6            130000                    0.353410\n",
      "7            150000                    0.372285\n",
      "8            170000                    0.379870\n",
      "9            190000                    0.386266\n",
      "10           220000                    0.394018\n"
     ]
    },
    {
     "data": {
      "text/plain": [
       "<matplotlib.axes._subplots.AxesSubplot at 0x1d5e364a108>"
      ]
     },
     "execution_count": 35,
     "metadata": {},
     "output_type": "execute_result"
    },
    {
     "data": {
      "image/png": "[encoded data removed]",
      "text/plain": [
       "<Figure size 432x288 with 1 Axes>"
      ]
     },
     "metadata": {
      "needs_background": "light"
     },
     "output_type": "display_data"
    }
   ],
   "source": [
    "cust_income = data.groupby('customer_income')['customer_previous_purchase'].mean().to_frame().reset_index()\n",
    "print(cust_income)\n",
    "sns.barplot(x='customer_income', y='customer_previous_purchase', data=cust_income)\n",
    "# 120k + likely"
   ]
  },
  {
   "cell_type": "code",
   "execution_count": 36,
   "metadata": {},
   "outputs": [
    {
     "data": {
      "text/html": [
       "<div>\n",
       "<style scoped>\n",
       "    .dataframe tbody tr th:only-of-type {\n",
       "        vertical-align: middle;\n",
       "    }\n",
       "\n",
       "    .dataframe tbody tr th {\n",
       "        vertical-align: top;\n",
       "    }\n",
       "\n",
       "    .dataframe thead th {\n",
       "        text-align: right;\n",
       "    }\n",
       "</style>\n",
       "<table border=\"1\" class=\"dataframe\">\n",
       "  <thead>\n",
       "    <tr style=\"text-align: right;\">\n",
       "      <th></th>\n",
       "      <th>customer_income</th>\n",
       "      <th>insert_num</th>\n",
       "    </tr>\n",
       "  </thead>\n",
       "  <tbody>\n",
       "    <tr>\n",
       "      <td>0</td>\n",
       "      <td>10000</td>\n",
       "      <td>32912</td>\n",
       "    </tr>\n",
       "    <tr>\n",
       "      <td>1</td>\n",
       "      <td>30000</td>\n",
       "      <td>79799</td>\n",
       "    </tr>\n",
       "    <tr>\n",
       "      <td>2</td>\n",
       "      <td>50000</td>\n",
       "      <td>76555</td>\n",
       "    </tr>\n",
       "    <tr>\n",
       "      <td>3</td>\n",
       "      <td>70000</td>\n",
       "      <td>42451</td>\n",
       "    </tr>\n",
       "    <tr>\n",
       "      <td>4</td>\n",
       "      <td>90000</td>\n",
       "      <td>29441</td>\n",
       "    </tr>\n",
       "    <tr>\n",
       "      <td>5</td>\n",
       "      <td>110000</td>\n",
       "      <td>15676</td>\n",
       "    </tr>\n",
       "    <tr>\n",
       "      <td>6</td>\n",
       "      <td>130000</td>\n",
       "      <td>7405</td>\n",
       "    </tr>\n",
       "    <tr>\n",
       "      <td>7</td>\n",
       "      <td>150000</td>\n",
       "      <td>7505</td>\n",
       "    </tr>\n",
       "    <tr>\n",
       "      <td>8</td>\n",
       "      <td>170000</td>\n",
       "      <td>3696</td>\n",
       "    </tr>\n",
       "    <tr>\n",
       "      <td>9</td>\n",
       "      <td>190000</td>\n",
       "      <td>1631</td>\n",
       "    </tr>\n",
       "    <tr>\n",
       "      <td>10</td>\n",
       "      <td>220000</td>\n",
       "      <td>10799</td>\n",
       "    </tr>\n",
       "  </tbody>\n",
       "</table>\n",
       "</div>"
      ],
      "text/plain": [
       "    customer_income  insert_num\n",
       "0             10000       32912\n",
       "1             30000       79799\n",
       "2             50000       76555\n",
       "3             70000       42451\n",
       "4             90000       29441\n",
       "5            110000       15676\n",
       "6            130000        7405\n",
       "7            150000        7505\n",
       "8            170000        3696\n",
       "9            190000        1631\n",
       "10           220000       10799"
      ]
     },
     "execution_count": 36,
     "metadata": {},
     "output_type": "execute_result"
    },
    {
     "data": {
      "image/png": "[encoded data removed]",
      "text/plain": [
       "<Figure size 432x288 with 1 Axes>"
      ]
     },
     "metadata": {
      "needs_background": "light"
     },
     "output_type": "display_data"
    }
   ],
   "source": [
    "cust_income_dist = data_numeric.groupby('customer_income')['insert_num'].count().to_frame().reset_index()\n",
    "sns.barplot(x='customer_income', y='insert_num', data=cust_income_dist)\n",
    "cust_income_dist"
   ]
  },
  {
   "cell_type": "code",
   "execution_count": 37,
   "metadata": {},
   "outputs": [
    {
     "data": {
      "text/html": [
       "<div>\n",
       "<style scoped>\n",
       "    .dataframe tbody tr th:only-of-type {\n",
       "        vertical-align: middle;\n",
       "    }\n",
       "\n",
       "    .dataframe tbody tr th {\n",
       "        vertical-align: top;\n",
       "    }\n",
       "\n",
       "    .dataframe thead th {\n",
       "        text-align: right;\n",
       "    }\n",
       "</style>\n",
       "<table border=\"1\" class=\"dataframe\">\n",
       "  <thead>\n",
       "    <tr style=\"text-align: right;\">\n",
       "      <th></th>\n",
       "      <th>customer_age</th>\n",
       "      <th>customer_previous_purchase</th>\n",
       "    </tr>\n",
       "  </thead>\n",
       "  <tbody>\n",
       "    <tr>\n",
       "      <td>0</td>\n",
       "      <td>10</td>\n",
       "      <td>0.044659</td>\n",
       "    </tr>\n",
       "    <tr>\n",
       "      <td>1</td>\n",
       "      <td>25</td>\n",
       "      <td>0.114982</td>\n",
       "    </tr>\n",
       "    <tr>\n",
       "      <td>2</td>\n",
       "      <td>35</td>\n",
       "      <td>0.231208</td>\n",
       "    </tr>\n",
       "    <tr>\n",
       "      <td>3</td>\n",
       "      <td>45</td>\n",
       "      <td>0.281080</td>\n",
       "    </tr>\n",
       "    <tr>\n",
       "      <td>4</td>\n",
       "      <td>55</td>\n",
       "      <td>0.287139</td>\n",
       "    </tr>\n",
       "    <tr>\n",
       "      <td>5</td>\n",
       "      <td>65</td>\n",
       "      <td>0.275553</td>\n",
       "    </tr>\n",
       "    <tr>\n",
       "      <td>6</td>\n",
       "      <td>75</td>\n",
       "      <td>0.218667</td>\n",
       "    </tr>\n",
       "    <tr>\n",
       "      <td>7</td>\n",
       "      <td>85</td>\n",
       "      <td>0.223133</td>\n",
       "    </tr>\n",
       "    <tr>\n",
       "      <td>8</td>\n",
       "      <td>95</td>\n",
       "      <td>0.312500</td>\n",
       "    </tr>\n",
       "    <tr>\n",
       "      <td>9</td>\n",
       "      <td>102</td>\n",
       "      <td>0.370607</td>\n",
       "    </tr>\n",
       "    <tr>\n",
       "      <td>10</td>\n",
       "      <td>?</td>\n",
       "      <td>0.376374</td>\n",
       "    </tr>\n",
       "  </tbody>\n",
       "</table>\n",
       "</div>"
      ],
      "text/plain": [
       "   customer_age  customer_previous_purchase\n",
       "0            10                    0.044659\n",
       "1            25                    0.114982\n",
       "2            35                    0.231208\n",
       "3            45                    0.281080\n",
       "4            55                    0.287139\n",
       "5            65                    0.275553\n",
       "6            75                    0.218667\n",
       "7            85                    0.223133\n",
       "8            95                    0.312500\n",
       "9           102                    0.370607\n",
       "10            ?                    0.376374"
      ]
     },
     "execution_count": 37,
     "metadata": {},
     "output_type": "execute_result"
    },
    {
     "data": {
      "image/png": "[encoded data removed]",
      "text/plain": [
       "<Figure size 432x288 with 1 Axes>"
      ]
     },
     "metadata": {
      "needs_background": "light"
     },
     "output_type": "display_data"
    }
   ],
   "source": [
    "cust_age = data.groupby('customer_age')['customer_previous_purchase'].mean().to_frame().reset_index()\n",
    "sns.barplot(x='customer_age', y='customer_previous_purchase', data=cust_age)\n",
    "cust_age\n",
    "# ? is high again, very old more likely, 40-70 likely"
   ]
  },
  {
   "cell_type": "code",
   "execution_count": 38,
   "metadata": {},
   "outputs": [
    {
     "data": {
      "text/html": [
       "<div>\n",
       "<style scoped>\n",
       "    .dataframe tbody tr th:only-of-type {\n",
       "        vertical-align: middle;\n",
       "    }\n",
       "\n",
       "    .dataframe tbody tr th {\n",
       "        vertical-align: top;\n",
       "    }\n",
       "\n",
       "    .dataframe thead th {\n",
       "        text-align: right;\n",
       "    }\n",
       "</style>\n",
       "<table border=\"1\" class=\"dataframe\">\n",
       "  <thead>\n",
       "    <tr style=\"text-align: right;\">\n",
       "      <th></th>\n",
       "      <th>trade_in</th>\n",
       "      <th>customer_previous_purchase</th>\n",
       "    </tr>\n",
       "  </thead>\n",
       "  <tbody>\n",
       "    <tr>\n",
       "      <td>0</td>\n",
       "      <td>0</td>\n",
       "      <td>0.161767</td>\n",
       "    </tr>\n",
       "    <tr>\n",
       "      <td>1</td>\n",
       "      <td>1</td>\n",
       "      <td>0.290469</td>\n",
       "    </tr>\n",
       "  </tbody>\n",
       "</table>\n",
       "</div>"
      ],
      "text/plain": [
       "   trade_in  customer_previous_purchase\n",
       "0         0                    0.161767\n",
       "1         1                    0.290469"
      ]
     },
     "execution_count": 38,
     "metadata": {},
     "output_type": "execute_result"
    }
   ],
   "source": [
    "data.groupby('trade_in')['customer_previous_purchase'].mean().to_frame().reset_index()"
   ]
  },
  {
   "cell_type": "code",
   "execution_count": 39,
   "metadata": {},
   "outputs": [
    {
     "data": {
      "text/plain": [
       "<matplotlib.axes._subplots.AxesSubplot at 0x1d5e3aeb4c8>"
      ]
     },
     "execution_count": 39,
     "metadata": {},
     "output_type": "execute_result"
    },
    {
     "data": {
      "image/png": "[encoded data removed]",
      "text/plain": [
       "<Figure size 432x288 with 1 Axes>"
      ]
     },
     "metadata": {
      "needs_background": "light"
     },
     "output_type": "display_data"
    }
   ],
   "source": [
    "trade_income = data.groupby('customer_income')['trade_in'].mean().to_frame().reset_index()\n",
    "sns.barplot(x='customer_income', y='trade_in', data=trade_income)"
   ]
  },
  {
   "cell_type": "code",
   "execution_count": 40,
   "metadata": {},
   "outputs": [
    {
     "name": "stdout",
     "output_type": "stream",
     "text": [
      "   vehicle_financing  customer_previous_purchase\n",
      "0                  0                    0.348591\n",
      "1                  1                    0.205581\n"
     ]
    },
    {
     "data": {
      "text/plain": [
       "<matplotlib.axes._subplots.AxesSubplot at 0x1d5e3ba6cc8>"
      ]
     },
     "execution_count": 40,
     "metadata": {},
     "output_type": "execute_result"
    },
    {
     "data": {
      "image/png": "[encoded data removed]",
      "text/plain": [
       "<Figure size 432x288 with 1 Axes>"
      ]
     },
     "metadata": {
      "needs_background": "light"
     },
     "output_type": "display_data"
    }
   ],
   "source": [
    "print(data.groupby('vehicle_financing')['customer_previous_purchase'].mean().to_frame().reset_index())\n",
    "finance_income = data.groupby('customer_age')['vehicle_financing'].mean().to_frame().reset_index()\n",
    "sns.barplot(x='customer_age', y='vehicle_financing', data=finance_income)"
   ]
  },
  {
   "cell_type": "code",
   "execution_count": 46,
   "metadata": {},
   "outputs": [
    {
     "data": {
      "image/png": "[encoded data removed]",
      "text/plain": [
       "<Figure size 2376x432 with 22 Axes>"
      ]
     },
     "metadata": {
      "needs_background": "light"
     },
     "output_type": "display_data"
    }
   ],
   "source": [
    "#ten = data.loc[data['customer_age'] == 10].groupby('customer_income')['customer_previous_purchase'].mean().to_frame().reset_index()\n",
    "#twenty_five = data.loc[data['customer_age'] == 10].groupby('customer_income')['customer_previous_purchase'].mean().to_frame().reset_index()\n",
    "#thirty_five = data.loc[data['customer_age'] == 10].groupby('customer_income')['customer_previous_purchase'].mean().to_frame().reset_index()\n",
    "#forty_five = data.loc[data['customer_age'] == 10].groupby('customer_income')['customer_previous_purchase'].mean().to_frame().reset_index()\n",
    "#fifty_five = data.loc[data['customer_age'] == 10].groupby('customer_income')['customer_previous_purchase'].mean().to_frame().reset_index()\n",
    "#sixty_five = data.loc[data['customer_age'] == 10].groupby('customer_income')['customer_previous_purchase'].mean().to_frame().reset_index()\n",
    "#seventy_five = data.loc[data['customer_age'] == 10].groupby('customer_income')['customer_previous_purchase'].mean().to_frame().reset_index()\n",
    "#eighty_five = data.loc[data['customer_age'] == 10].groupby('customer_income')['customer_previous_purchase'].mean().to_frame().reset_index()\n",
    "#ninety_five = data.loc[data['customer_age'] == 10].groupby('customer_income')['customer_previous_purchase'].mean().to_frame().reset_index()\n",
    "#one_hundred = data.loc[data['customer_age'] == 10].groupby('customer_income')['customer_previous_purchase'].mean().to_frame().reset_index()\n",
    "#unknown = data.loc[data['customer_age'] == 10].groupby('customer_income')['customer_previous_purchase'].mean().to_frame().reset_index()\n",
    "import matplotlib.pyplot as plt\n",
    "g = sns.FacetGrid(data, col='customer_age', row='customer_previous_purchase')\n",
    "g = g.map(plt.hist, \"customer_income\")"
   ]
  },
  {
   "cell_type": "code",
   "execution_count": null,
   "metadata": {},
   "outputs": [],
   "source": []
  },
  {
   "cell_type": "code",
   "execution_count": null,
   "metadata": {},
   "outputs": [],
   "source": []
  },
  {
   "cell_type": "code",
   "execution_count": null,
   "metadata": {},
   "outputs": [],
   "source": []
  },
  {
   "cell_type": "code",
   "execution_count": null,
   "metadata": {},
   "outputs": [],
   "source": []
  }
 ],
 "metadata": {
  "kernelspec": {
   "display_name": "Python 3",
   "language": "python",
   "name": "python3"
  },
  "language_info": {
   "codemirror_mode": {
    "name": "ipython",
    "version": 3
   },
   "file_extension": ".py",
   "mimetype": "text/x-python",
   "name": "python",
   "nbconvert_exporter": "python",
   "pygments_lexer": "ipython3",
   "version": "3.7.4"
  }
 },
 "nbformat": 4,
 "nbformat_minor": 2
}
