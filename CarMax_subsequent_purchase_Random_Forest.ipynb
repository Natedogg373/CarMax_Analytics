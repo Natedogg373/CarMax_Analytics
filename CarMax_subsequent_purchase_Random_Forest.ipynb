{
 "cells": [
  {
   "cell_type": "code",
   "execution_count": 58,
   "metadata": {},
   "outputs": [
    {
     "name": "stdout",
     "output_type": "stream",
     "text": [
      "insert_num                     0\n",
      "purchase_make                  0\n",
      "purchase_model                 0\n",
      "purchase_vehicle_year          0\n",
      "purchase_price                 0\n",
      "trade_in                       0\n",
      "vehicle_financing              0\n",
      "customer_age                   0\n",
      "customer_income                0\n",
      "customer_gender                0\n",
      "customer_previous_purchase     0\n",
      "customer_distance_to_dealer    0\n",
      "vehicle_warranty_used          0\n",
      "subsequent_purchases           0\n",
      "actual                         0\n",
      "income_marker                  0\n",
      "dtype: int64\n"
     ]
    },
    {
     "data": {
      "text/plain": [
       "insert_num                      int64\n",
       "purchase_make                  object\n",
       "purchase_model                 object\n",
       "purchase_vehicle_year           int32\n",
       "purchase_price                 object\n",
       "trade_in                        int32\n",
       "vehicle_financing               int32\n",
       "customer_age                   object\n",
       "customer_income                object\n",
       "customer_gender                object\n",
       "customer_previous_purchase      int32\n",
       "customer_distance_to_dealer     int32\n",
       "vehicle_warranty_used           int64\n",
       "subsequent_purchases            int64\n",
       "actual                          int64\n",
       "income_marker                   int32\n",
       "dtype: object"
      ]
     },
     "execution_count": 58,
     "metadata": {},
     "output_type": "execute_result"
    }
   ],
   "source": [
    "import pandas as pd\n",
    "import seaborn as sns\n",
    "import plotly.express as px\n",
    "import plotly.offline as py\n",
    "import matplotlib as plt\n",
    "import numpy as np\n",
    "\n",
    "data = pd.read_csv('CaseCompetitionData.csv', sep=',')\n",
    "data['actual'] = 1\n",
    "data.loc[data['subsequent_purchases'] == 0, 'actual'] = 0\n",
    "data.loc[data['customer_income'] == '?', 'customer_income'] = 0\n",
    "data.loc[data['customer_income'] == '?', 'income_marker'] = 1\n",
    "data['income_marker'].fillna(value=0, inplace=True)\n",
    "data = data.loc[(data['purchase_price'] != '?') & (data['customer_distance_to_dealer'] != '?')]\n",
    "data.drop(columns=['post_purchase_satisfaction'], inplace=True)\n",
    "def randomboolean(rand):\n",
    "    if rand > 0.6:\n",
    "        return 'F';\n",
    "    else:\n",
    "        return 'M';\n",
    "#data['customer_gender'].fillna(randomboolean(np.random.rand()), inplace=True)\n",
    "data.loc[data['customer_gender'] == 'U', 'customer_gender'] = randomboolean(np.random.rand())\n",
    "print(data.isna().sum())\n",
    "data[['purchase_vehicle_year', 'trade_in', 'vehicle_financing', 'customer_previous_purchase', 'customer_distance_to_dealer', 'income_marker']] = data[['purchase_vehicle_year', 'trade_in', 'vehicle_financing', 'customer_previous_purchase', 'customer_distance_to_dealer', 'income_marker']].astype(np.int32)\n",
    "data.head(5)\n",
    "data.dtypes"
   ]
  },
  {
   "cell_type": "code",
   "execution_count": 39,
   "metadata": {},
   "outputs": [],
   "source": [
    "from sklearn.ensemble import RandomForestClassifier\n",
    "from sklearn.model_selection import GridSearchCV\n",
    "from sklearn.model_selection import cross_val_score\n",
    "from sklearn.model_selection import train_test_split\n",
    "from sklearn import metrics\n",
    "from sklearn.preprocessing import OrdinalEncoder\n",
    "from xgboost import XGBClassifier"
   ]
  },
  {
   "cell_type": "code",
   "execution_count": 40,
   "metadata": {},
   "outputs": [
    {
     "data": {
      "text/plain": [
       "purchase_vehicle_year          int32\n",
       "trade_in                       int32\n",
       "vehicle_financing              int32\n",
       "customer_gender                 int8\n",
       "customer_previous_purchase     int32\n",
       "customer_distance_to_dealer    int32\n",
       "vehicle_warranty_used          int64\n",
       "actual                         int64\n",
       "income_marker                  int32\n",
       "purchase_make_cat               int8\n",
       "purchase_model_cat             int16\n",
       "customer_age_cat                int8\n",
       "customer_income_cat             int8\n",
       "purchase_price_price            int8\n",
       "dtype: object"
      ]
     },
     "execution_count": 40,
     "metadata": {},
     "output_type": "execute_result"
    }
   ],
   "source": [
    "data[['purchase_make', 'purchase_model', 'purchase_price','customer_age', 'customer_income', 'customer_gender']] = data[['purchase_make', 'purchase_model', 'purchase_price', 'customer_age', 'customer_income', 'customer_gender']].astype('category')\n",
    "data['purchase_make_cat'] = data['purchase_make'].cat.codes\n",
    "data['purchase_model_cat'] = data['purchase_model'].cat.codes # mapping categoricals to numerical values\n",
    "data['customer_age_cat'] = data['customer_age'].cat.codes\n",
    "data['customer_income_cat'] = data['customer_income'].cat.codes\n",
    "data['purchase_price_price'] = data['purchase_price'].cat.codes\n",
    "data['customer_gender'] = data['customer_gender'].cat.codes\n",
    "data['customer_distance_to_dealer'] = pd.to_numeric(data['customer_distance_to_dealer'])\n",
    "data.drop(columns=['purchase_make', 'purchase_model', 'purchase_price', 'customer_age', 'customer_income', 'subsequent_purchases', 'insert_num'], inplace=True)\n",
    "data.dtypes"
   ]
  },
  {
   "cell_type": "code",
   "execution_count": 41,
   "metadata": {},
   "outputs": [],
   "source": [
    "features = data.drop(columns=['actual'])\n",
    "labels = data['actual']\n",
    "X_train, X_test, y_train, y_test = train_test_split(features, labels, test_size=0.4, random_state=42)\n",
    "X_test, X_val, y_test, y_val = train_test_split(X_test, y_test, test_size=0.5, random_state=42)\n",
    "\n",
    "\n"
   ]
  },
  {
   "cell_type": "code",
   "execution_count": 47,
   "metadata": {},
   "outputs": [
    {
     "name": "stderr",
     "output_type": "stream",
     "text": [
      "C:\\Users\\999Na\\Anaconda3\\lib\\site-packages\\sklearn\\ensemble\\forest.py:245: FutureWarning:\n",
      "\n",
      "The default value of n_estimators will change from 10 in version 0.20 to 100 in 0.22.\n",
      "\n",
      "C:\\Users\\999Na\\Anaconda3\\lib\\site-packages\\sklearn\\ensemble\\forest.py:245: FutureWarning:\n",
      "\n",
      "The default value of n_estimators will change from 10 in version 0.20 to 100 in 0.22.\n",
      "\n",
      "C:\\Users\\999Na\\Anaconda3\\lib\\site-packages\\sklearn\\ensemble\\forest.py:245: FutureWarning:\n",
      "\n",
      "The default value of n_estimators will change from 10 in version 0.20 to 100 in 0.22.\n",
      "\n",
      "C:\\Users\\999Na\\Anaconda3\\lib\\site-packages\\sklearn\\ensemble\\forest.py:245: FutureWarning:\n",
      "\n",
      "The default value of n_estimators will change from 10 in version 0.20 to 100 in 0.22.\n",
      "\n",
      "C:\\Users\\999Na\\Anaconda3\\lib\\site-packages\\sklearn\\ensemble\\forest.py:245: FutureWarning:\n",
      "\n",
      "The default value of n_estimators will change from 10 in version 0.20 to 100 in 0.22.\n",
      "\n"
     ]
    },
    {
     "name": "stdout",
     "output_type": "stream",
     "text": [
      "[0.63484806 0.632855   0.63240087 0.63324501 0.63124326]\n",
      "{'mean_fit_time': array([ 0.28443766,  2.33186817,  4.64375367,  0.65522976,  6.55805979,\n",
      "       13.27822237,  1.12155924, 10.88137593, 22.54552412,  1.502742  ,\n",
      "       14.97965035, 30.7304462 ]), 'std_fit_time': array([0.01917785, 0.11418306, 0.06617752, 0.02444111, 0.133983  ,\n",
      "       0.26952199, 0.08813452, 0.04594779, 0.9330872 , 0.06360857,\n",
      "       0.03502285, 0.73791222]), 'mean_score_time': array([0.02039566, 0.11733336, 0.22806988, 0.03438396, 0.29163356,\n",
      "       0.53429804, 0.06596375, 0.60165758, 1.18872142, 0.10635099,\n",
      "       0.96825128, 2.05163317]), 'std_score_time': array([0.00080065, 0.00249716, 0.00457527, 0.00049282, 0.05870318,\n",
      "       0.05071869, 0.00199776, 0.02817642, 0.0650348 , 0.00435551,\n",
      "       0.00444545, 0.11312447]), 'param_max_depth': masked_array(data=[2, 2, 2, 10, 10, 10, 20, 20, 20, None, None, None],\n",
      "             mask=[False, False, False, False, False, False, False, False,\n",
      "                   False, False, False, False],\n",
      "       fill_value='?',\n",
      "            dtype=object), 'param_n_estimators': masked_array(data=[5, 50, 100, 5, 50, 100, 5, 50, 100, 5, 50, 100],\n",
      "             mask=[False, False, False, False, False, False, False, False,\n",
      "                   False, False, False, False],\n",
      "       fill_value='?',\n",
      "            dtype=object), 'params': [{'max_depth': 2, 'n_estimators': 5}, {'max_depth': 2, 'n_estimators': 50}, {'max_depth': 2, 'n_estimators': 100}, {'max_depth': 10, 'n_estimators': 5}, {'max_depth': 10, 'n_estimators': 50}, {'max_depth': 10, 'n_estimators': 100}, {'max_depth': 20, 'n_estimators': 5}, {'max_depth': 20, 'n_estimators': 50}, {'max_depth': 20, 'n_estimators': 100}, {'max_depth': None, 'n_estimators': 5}, {'max_depth': None, 'n_estimators': 50}, {'max_depth': None, 'n_estimators': 100}], 'split0_test_score': array([0.67236447, 0.6714969 , 0.67112174, 0.6736541 , 0.67384168,\n",
      "       0.6741465 , 0.65238698, 0.67238792, 0.67280998, 0.59812887,\n",
      "       0.64289064, 0.64328925]), 'split1_test_score': array([0.67201276, 0.67166104, 0.67163759, 0.67348996, 0.67499062,\n",
      "       0.67506096, 0.65044082, 0.67227068, 0.67442787, 0.60192741,\n",
      "       0.64047552, 0.64267961]), 'split2_test_score': array([0.67127817, 0.67198162, 0.67177058, 0.67317748, 0.67366989,\n",
      "       0.6735292 , 0.65069055, 0.67139541, 0.67179403, 0.59786151,\n",
      "       0.6389664 , 0.6410064 ]), 'split3_test_score': array([0.67024644, 0.67160644, 0.6715361 , 0.67336507, 0.67427955,\n",
      "       0.67420921, 0.6549347 , 0.67205196, 0.67308369, 0.60163669,\n",
      "       0.64323399, 0.64679813]), 'split4_test_score': array([0.67352155, 0.67267739, 0.67227876, 0.67392018, 0.67492848,\n",
      "       0.6745064 , 0.65061202, 0.67026216, 0.67195048, 0.59785208,\n",
      "       0.64106833, 0.64081039]), 'mean_test_score': array([0.67188467, 0.67188467, 0.67166895, 0.67352136, 0.67434204,\n",
      "       0.67429046, 0.65181301, 0.67167364, 0.67281322, 0.59948133,\n",
      "       0.64132698, 0.64291677]), 'std_test_score': array([0.00109339, 0.00042792, 0.00037424, 0.00025312, 0.00054233,\n",
      "       0.00049943, 0.00171228, 0.00078478, 0.00094481, 0.00188342,\n",
      "       0.00157772, 0.00216084]), 'rank_test_score': array([ 5,  5,  8,  3,  1,  2,  9,  7,  4, 12, 11, 10])}\n"
     ]
    },
    {
     "ename": "NameError",
     "evalue": "name 'results' is not defined",
     "output_type": "error",
     "traceback": [
      "\u001b[1;31m---------------------------------------------------------------------------\u001b[0m",
      "\u001b[1;31mNameError\u001b[0m                                 Traceback (most recent call last)",
      "\u001b[1;32m<ipython-input-47-9521e3b38637>\u001b[0m in \u001b[0;36m<module>\u001b[1;34m\u001b[0m\n\u001b[0;32m     11\u001b[0m \u001b[0mcv\u001b[0m\u001b[1;33m.\u001b[0m\u001b[0mfit\u001b[0m\u001b[1;33m(\u001b[0m\u001b[0mX_train\u001b[0m\u001b[1;33m,\u001b[0m \u001b[0my_train\u001b[0m\u001b[1;33m.\u001b[0m\u001b[0mvalues\u001b[0m\u001b[1;33m.\u001b[0m\u001b[0mravel\u001b[0m\u001b[1;33m(\u001b[0m\u001b[1;33m)\u001b[0m\u001b[1;33m)\u001b[0m\u001b[1;33m\u001b[0m\u001b[1;33m\u001b[0m\u001b[0m\n\u001b[0;32m     12\u001b[0m \u001b[0mprint\u001b[0m\u001b[1;33m(\u001b[0m\u001b[0mcv\u001b[0m\u001b[1;33m.\u001b[0m\u001b[0mcv_results_\u001b[0m\u001b[1;33m)\u001b[0m\u001b[1;33m\u001b[0m\u001b[1;33m\u001b[0m\u001b[0m\n\u001b[1;32m---> 13\u001b[1;33m \u001b[0mprint\u001b[0m\u001b[1;33m(\u001b[0m\u001b[1;34m'BEST PARAMS: {}\\n'\u001b[0m\u001b[1;33m.\u001b[0m\u001b[0mformat\u001b[0m\u001b[1;33m(\u001b[0m\u001b[0mresults\u001b[0m\u001b[1;33m.\u001b[0m\u001b[0mbest_params_\u001b[0m\u001b[1;33m)\u001b[0m\u001b[1;33m)\u001b[0m\u001b[1;33m\u001b[0m\u001b[1;33m\u001b[0m\u001b[0m\n\u001b[0m\u001b[0;32m     14\u001b[0m \u001b[1;33m\u001b[0m\u001b[0m\n\u001b[0;32m     15\u001b[0m \u001b[0mmeans\u001b[0m \u001b[1;33m=\u001b[0m \u001b[0mresults\u001b[0m\u001b[1;33m.\u001b[0m\u001b[0mcv_results_\u001b[0m\u001b[1;33m[\u001b[0m\u001b[1;34m'mean_test_score'\u001b[0m\u001b[1;33m]\u001b[0m\u001b[1;33m\u001b[0m\u001b[1;33m\u001b[0m\u001b[0m\n",
      "\u001b[1;31mNameError\u001b[0m: name 'results' is not defined"
     ]
    }
   ],
   "source": [
    "xgb = XGBClassifier()\n",
    "rf = RandomForestClassifier()\n",
    "scores = cross_val_score(rf, X_train, y_train, cv=5)\n",
    "print(scores)\n",
    "parameters = {\n",
    "    'n_estimators': [5, 50, 100],\n",
    "    'max_depth': [2, 10, 20, None]\n",
    "}\n",
    "\n",
    "cv = GridSearchCV(rf, parameters, cv=5)\n",
    "cv.fit(X_train, y_train.values.ravel())\n",
    "print(cv.cv_results_)\n",
    "print('BEST PARAMS: {}\\n'.format(results.best_params_))\n",
    "\n",
    "means = results.cv_results_['mean_test_score']\n",
    "stds = results.cv_results_['std_test_score']\n",
    "for mean, std, params in zip(means, stds, results.cv_results_['params']):\n",
    "    print('{} (+/-{}) for {}'.format(round(mean, 3), round(std * 2, 3), params))"
   ]
  },
  {
   "cell_type": "code",
   "execution_count": 49,
   "metadata": {
    "scrolled": true
   },
   "outputs": [
    {
     "name": "stdout",
     "output_type": "stream",
     "text": [
      "0.677555958862674\n",
      "0.6760787293012\n",
      "              precision    recall  f1-score   support\n",
      "\n",
      "           1       0.69      0.03      0.06     23460\n",
      "           0       0.68      0.99      0.80     47619\n",
      "\n",
      "    accuracy                           0.68     71079\n",
      "   macro avg       0.68      0.51      0.43     71079\n",
      "weighted avg       0.68      0.68      0.56     71079\n",
      "\n",
      "[0.16044685 0.09449377 0.02600466 0.0181977  0.08368021 0.12642933\n",
      " 0.04607556 0.         0.06265642 0.08822293 0.05579396 0.06554471\n",
      " 0.17245391]\n",
      "Index(['purchase_vehicle_year', 'trade_in', 'vehicle_financing',\n",
      "       'customer_gender', 'customer_previous_purchase',\n",
      "       'customer_distance_to_dealer', 'vehicle_warranty_used', 'income_marker',\n",
      "       'purchase_make_cat', 'purchase_model_cat', 'customer_age_cat',\n",
      "       'customer_income_cat', 'purchase_price_price'],\n",
      "      dtype='object')\n",
      "[[  800 22660]\n",
      " [  364 47255]]\n"
     ]
    }
   ],
   "source": [
    "\n",
    "#xgb = XGBClassifier()\n",
    "#gb.fit(X_train, y_train)\n",
    "rf = RandomForestClassifier(max_depth=10, n_estimators=50)\n",
    "rf.fit(X_train, y_train)\n",
    "scores = rf.score(X_val, y_val)\n",
    "print(scores)\n",
    "predictions = rf.predict_proba(X_test)\n",
    "predictions2 = rf.predict(X_test)\n",
    "print(metrics.accuracy_score(y_test, predictions2))\n",
    "print(metrics.classification_report(y_test, predictions2, labels=[1,0]))\n",
    "print(rf.feature_importances_)\n",
    "print(X_test.columns)\n",
    "print(metrics.confusion_matrix(y_test, predictions2, labels=[1,0]))\n",
    "#features = xgb.feature_importances_\n",
    "# looks like vehicle year, trade in, financing, previous purchase, distance, and warranty are most telling"
   ]
  },
  {
   "cell_type": "code",
   "execution_count": 51,
   "metadata": {},
   "outputs": [
    {
     "data": {
      "image/png": "[encoded data removed]",
      "text/plain": [
       "<Figure size 432x288 with 1 Axes>"
      ]
     },
     "metadata": {
      "needs_background": "light"
     },
     "output_type": "display_data"
    }
   ],
   "source": [
    "feat_imp = {'Importance':[0.16044685, 0.09449377, 0.02600466, 0.0181977,  0.08368021, 0.12642933, 0.04607556, 0, 0.06265642, 0.08822293, 0.05579396, 0.06554471, 0.17245391], 'Features':['purchase_vehicle_year', 'trade_in', 'vehicle_financing','customer_gender', 'customer_previous_purchase','customer_distance_to_dealer', 'vehicle_warranty_used', 'income_marker','purchase_make_cat', 'purchase_model_cat', 'customer_age_cat','customer_income_cat', 'purchase_price_price']}\n",
    "feat_imp = pd.DataFrame(feat_imp)\n",
    "feat_imp.sort_values(by=['Importance'], ascending=False, inplace=True)\n",
    "#feat_imp.to_csv('feat_imp.csv')\n",
    "fig = sns.barplot(data=feat_imp, x='Importance', y='Features')\n",
    "fig.figure.savefig('feat_imp.jpg')"
   ]
  },
  {
   "cell_type": "code",
   "execution_count": 79,
   "metadata": {},
   "outputs": [
    {
     "name": "stdout",
     "output_type": "stream",
     "text": [
      "20153\n",
      "18616\n",
      "56332\n",
      "61574\n",
      "0.3286918125157453\n",
      "0.3272972358462988\n",
      "[6157, 6157, 6157, 6157, 6157, 6157, 6157, 6157, 6157, 6161]\n"
     ]
    },
    {
     "data": {
      "text/html": [
       "<div>\n",
       "<style scoped>\n",
       "    .dataframe tbody tr th:only-of-type {\n",
       "        vertical-align: middle;\n",
       "    }\n",
       "\n",
       "    .dataframe tbody tr th {\n",
       "        vertical-align: top;\n",
       "    }\n",
       "\n",
       "    .dataframe thead th {\n",
       "        text-align: right;\n",
       "    }\n",
       "</style>\n",
       "<table border=\"1\" class=\"dataframe\">\n",
       "  <thead>\n",
       "    <tr style=\"text-align: right;\">\n",
       "      <th></th>\n",
       "      <th>purchase_vehicle_year</th>\n",
       "      <th>trade_in</th>\n",
       "      <th>vehicle_financing</th>\n",
       "      <th>customer_previous_purchase</th>\n",
       "      <th>customer_distance_to_dealer</th>\n",
       "      <th>vehicle_warranty_used</th>\n",
       "      <th>purchase_make_cat</th>\n",
       "      <th>purchase_model_cat</th>\n",
       "      <th>customer_age_cat</th>\n",
       "      <th>customer_income_cat</th>\n",
       "      <th>purchase_price_price</th>\n",
       "      <th>prob_yes</th>\n",
       "      <th>actual</th>\n",
       "    </tr>\n",
       "  </thead>\n",
       "  <tbody>\n",
       "    <tr>\n",
       "      <td>295434</td>\n",
       "      <td>2008</td>\n",
       "      <td>0</td>\n",
       "      <td>1</td>\n",
       "      <td>0</td>\n",
       "      <td>5</td>\n",
       "      <td>0</td>\n",
       "      <td>5</td>\n",
       "      <td>334</td>\n",
       "      <td>2</td>\n",
       "      <td>7</td>\n",
       "      <td>1</td>\n",
       "      <td>0.299084</td>\n",
       "      <td>0</td>\n",
       "    </tr>\n",
       "    <tr>\n",
       "      <td>78292</td>\n",
       "      <td>2011</td>\n",
       "      <td>1</td>\n",
       "      <td>1</td>\n",
       "      <td>0</td>\n",
       "      <td>6</td>\n",
       "      <td>0</td>\n",
       "      <td>28</td>\n",
       "      <td>658</td>\n",
       "      <td>5</td>\n",
       "      <td>0</td>\n",
       "      <td>1</td>\n",
       "      <td>0.333697</td>\n",
       "      <td>0</td>\n",
       "    </tr>\n",
       "    <tr>\n",
       "      <td>143534</td>\n",
       "      <td>2011</td>\n",
       "      <td>1</td>\n",
       "      <td>1</td>\n",
       "      <td>0</td>\n",
       "      <td>71</td>\n",
       "      <td>0</td>\n",
       "      <td>9</td>\n",
       "      <td>257</td>\n",
       "      <td>3</td>\n",
       "      <td>1</td>\n",
       "      <td>5</td>\n",
       "      <td>0.336463</td>\n",
       "      <td>0</td>\n",
       "    </tr>\n",
       "    <tr>\n",
       "      <td>146514</td>\n",
       "      <td>2011</td>\n",
       "      <td>1</td>\n",
       "      <td>1</td>\n",
       "      <td>0</td>\n",
       "      <td>7</td>\n",
       "      <td>0</td>\n",
       "      <td>32</td>\n",
       "      <td>137</td>\n",
       "      <td>5</td>\n",
       "      <td>6</td>\n",
       "      <td>11</td>\n",
       "      <td>0.346843</td>\n",
       "      <td>1</td>\n",
       "    </tr>\n",
       "    <tr>\n",
       "      <td>199272</td>\n",
       "      <td>2011</td>\n",
       "      <td>0</td>\n",
       "      <td>1</td>\n",
       "      <td>0</td>\n",
       "      <td>7</td>\n",
       "      <td>1</td>\n",
       "      <td>28</td>\n",
       "      <td>504</td>\n",
       "      <td>3</td>\n",
       "      <td>8</td>\n",
       "      <td>2</td>\n",
       "      <td>0.306913</td>\n",
       "      <td>1</td>\n",
       "    </tr>\n",
       "  </tbody>\n",
       "</table>\n",
       "</div>"
      ],
      "text/plain": [
       "        purchase_vehicle_year  trade_in  vehicle_financing  \\\n",
       "295434                   2008         0                  1   \n",
       "78292                    2011         1                  1   \n",
       "143534                   2011         1                  1   \n",
       "146514                   2011         1                  1   \n",
       "199272                   2011         0                  1   \n",
       "\n",
       "        customer_previous_purchase  customer_distance_to_dealer  \\\n",
       "295434                           0                            5   \n",
       "78292                            0                            6   \n",
       "143534                           0                           71   \n",
       "146514                           0                            7   \n",
       "199272                           0                            7   \n",
       "\n",
       "        vehicle_warranty_used  purchase_make_cat  purchase_model_cat  \\\n",
       "295434                      0                  5                 334   \n",
       "78292                       0                 28                 658   \n",
       "143534                      0                  9                 257   \n",
       "146514                      0                 32                 137   \n",
       "199272                      1                 28                 504   \n",
       "\n",
       "        customer_age_cat  customer_income_cat  purchase_price_price  prob_yes  \\\n",
       "295434                 2                    7                     1  0.299084   \n",
       "78292                  5                    0                     1  0.333697   \n",
       "143534                 3                    1                     5  0.336463   \n",
       "146514                 5                    6                    11  0.346843   \n",
       "199272                 3                    8                     2  0.306913   \n",
       "\n",
       "        actual  \n",
       "295434       0  \n",
       "78292        0  \n",
       "143534       0  \n",
       "146514       1  \n",
       "199272       1  "
      ]
     },
     "execution_count": 79,
     "metadata": {},
     "output_type": "execute_result"
    },
    {
     "data": {
      "image/png": "[encoded data removed]",
      "text/plain": [
       "<Figure size 432x288 with 1 Axes>"
      ]
     },
     "metadata": {
      "needs_background": "light"
     },
     "output_type": "display_data"
    }
   ],
   "source": [
    "results = {'actual':y_test, 'prob_not':predictions[:,0], 'prob_yes':predictions[:,1]}\n",
    "results = pd.DataFrame(results)\n",
    "repeats = results[results['actual'] == 1]\n",
    "print(len(repeats))\n",
    "print(len(repeats[repeats['prob_yes'] >= .3]))\n",
    "print(len(results[results['prob_yes'] >= .3]))\n",
    "print(len(results))\n",
    "print(results['prob_yes'].mean())\n",
    "x = round(len(results)/10)\n",
    "\n",
    "recreate = X_test\n",
    "recreate['prob_yes'] = predictions[:,1]\n",
    "recreate['actual'] = y_test\n",
    "print(recreate['actual'].mean())\n",
    "\n",
    "results.sort_values(by=['prob_yes'], ascending=False, inplace=True)\n",
    "results.reset_index(inplace=True)\n",
    "results.rename(columns={'index':'customer'}, inplace=True)\n",
    "results\n",
    "rank = []\n",
    "repeat_rate = []\n",
    "sales_rank_probs = []\n",
    "lengths = []\n",
    "\n",
    "for num in range(1,11):\n",
    "    if num == 10:\n",
    "        y = results.iloc[x*(num-1):]\n",
    "        rr = len(results.iloc[x*(num-1):])\n",
    "    else:\n",
    "        y = results.iloc[x*(num-1):x*num]\n",
    "        rr = len(results.iloc[x*(num-1):x*num])\n",
    "    z = y['actual'].sum()/len(y)\n",
    "    sales_rank_probs.append(results.iloc[x*(num-1)]['prob_yes'])\n",
    "    rank.append(num)\n",
    "    repeat_rate.append(z)\n",
    "    lengths.append(rr)\n",
    "\n",
    "sales_rank_probs.append(0)\n",
    "sales_rank = {'rank':rank, 'repeat_rate':repeat_rate}\n",
    "sales_rank = pd.DataFrame(sales_rank)\n",
    "print(lengths)\n",
    "sales_rank.head(10)\n",
    "\n",
    "sns.barplot(x='rank', y='repeat_rate', data=sales_rank)\n",
    "recreate.head()"
   ]
  },
  {
   "cell_type": "code",
   "execution_count": 84,
   "metadata": {},
   "outputs": [],
   "source": [
    "features = data.drop(columns=['actual'])\n",
    "labels = data['actual']\n",
    "X_train, X_test, y_train, y_test = train_test_split(features, labels, test_size=0.4, random_state=42)\n",
    "X_test, X_val, y_test, y_val = train_test_split(X_test, y_test, test_size=0.5, random_state=42)"
   ]
  },
  {
   "cell_type": "code",
   "execution_count": 85,
   "metadata": {},
   "outputs": [],
   "source": [
    "from sklearn.metrics import roc_auc_score\n",
    "from sklearn.metrics import roc_curve\n",
    "rf = RandomForestClassifier(n_estimators=100, max_depth=5)\n",
    "rf.fit(X_train,y_train)\n",
    "fpr, tpr, thresholds = roc_curve(y_test, rf.predict_proba(X_test)[:,1])\n"
   ]
  },
  {
   "cell_type": "code",
   "execution_count": 86,
   "metadata": {},
   "outputs": [],
   "source": [
    "logit__roc_auc1 = roc_auc_score(y_test, rf.predict(X_test))\n"
   ]
  },
  {
   "cell_type": "code",
   "execution_count": 87,
   "metadata": {
    "scrolled": true
   },
   "outputs": [
    {
     "data": {
      "image/png": "[encoded data removed]",
      "text/plain": [
       "<Figure size 432x288 with 1 Axes>"
      ]
     },
     "metadata": {
      "needs_background": "light"
     },
     "output_type": "display_data"
    }
   ],
   "source": [
    "import matplotlib.pyplot as plt\n",
    "plt.figure()\n",
    "plt.plot(fpr, tpr, label='Logistic Regression (Sensitivity = %0.3f)' % logit__roc_auc1)\n",
    "plt.plot([0,1], [0,1], 'r--')\n",
    "plt.xlim([0,1.0])\n",
    "plt.ylim([0,1.05])\n",
    "plt.xlabel('False Positive Rate')\n",
    "plt.ylabel('True Positive Rate')\n",
    "plt.title('Reciever Operating Characteristic')\n",
    "plt.show()"
   ]
  },
  {
   "cell_type": "code",
   "execution_count": 5,
   "metadata": {},
   "outputs": [
    {
     "name": "stdout",
     "output_type": "stream",
     "text": [
      "361556\n",
      "312468\n",
      "355397\n",
      "360405\n"
     ]
    }
   ],
   "source": [
    "data = pd.read_csv('CaseCompetitionData.csv', sep=',')\n",
    "data['actual'] = 1\n",
    "data.loc[data['subsequent_purchases'] == 0, 'actual'] = 0\n",
    "data['customer_age'] = data['customer_age'].map({'21 - 30':25, '61 - 70':65, '31 - 40':35, '41 - 50':45, '51 - 60':55, '101+':102, '71 - 80':75,\n",
    " '0 - 20':10, '81 - 90':85, '?':'?', '91 - 100':95})\n",
    "data['customer_income'] = data['customer_income'].map({'20001 - 40000':30000, '80001 - 100000':90000, '40001 - 60000':50000, '60001 - 80000':70000,\n",
    " '120001 - 140000':130000, '0 - 20000':10000, '100001 - 120000':110000, '160001 - 180000':170000,\n",
    " '200001+':220000, '140001 - 160000':150000, '180001 - 200000':190000, '?':'?'})\n",
    "data['purchase_price'] = data['purchase_price'].map({'10001 - 15000':12500, '15001 - 20000':17500, \n",
    " '20001 - 25000':22500, '25001 - 30000':27500, '30001 - 35000':32500, '0 - 5000':2500, '45001 - 50000':47500, \n",
    " '35001 - 40000':27500, '5001 - 10000':7500, '40001 - 45000':47500, '55001 - 60000':57500, '50001 - 55000':52500, \n",
    " '60001 - 65000':62500, '65001 - 70000':67500, '70001 - 75000':72500, '75001 - 80000':77500, '85001 - 90000':87500,\n",
    " '90001 - 95000':92500, '80001 - 85000':82500, '?':'?'})\n",
    "data['counter'] = 1\n",
    "price = data.loc[data['purchase_price'] != '?']\n",
    "income = data.loc[data['customer_income'] != '?']\n",
    "distance = data.loc[data['customer_distance_to_dealer'] != '?']\n",
    "age = data.loc[data['customer_age'] != '?']\n",
    "print(len(price))\n",
    "print(len(income))\n",
    "print(len(distance))\n",
    "print(len(age))"
   ]
  },
  {
   "cell_type": "code",
   "execution_count": 167,
   "metadata": {
    "scrolled": true
   },
   "outputs": [
    {
     "name": "stdout",
     "output_type": "stream",
     "text": [
      "0.3417284592556125\n"
     ]
    },
    {
     "data": {
      "text/plain": [
       "<matplotlib.axes._subplots.AxesSubplot at 0x19316b246c8>"
      ]
     },
     "execution_count": 167,
     "metadata": {},
     "output_type": "execute_result"
    },
    {
     "data": {
      "image/png": "[encoded data removed]",
      "text/plain": [
       "<Figure size 432x288 with 1 Axes>"
      ]
     },
     "metadata": {
      "needs_background": "light"
     },
     "output_type": "display_data"
    }
   ],
   "source": [
    "subs = data.loc[data['purchase_vehicle_year'] >= 2000]\n",
    "#sns.violinplot(x=subs['actual'], y=subs['purchase_vehicle_year']) # checking distribution of car year models against whether they are repeat customers\n",
    "#looks like a rather similar distribution so this might not be entirely too telling\n",
    "\n",
    "subs_ratio = data.loc[data['purchase_vehicle_year'] >= 2000].groupby('purchase_vehicle_year')['actual'].mean().to_frame().reset_index()\n",
    "print(data['actual'].mean())\n",
    "sns.barplot(x='purchase_vehicle_year', y='actual', data=subs_ratio)\n"
   ]
  },
  {
   "cell_type": "code",
   "execution_count": 168,
   "metadata": {},
   "outputs": [
    {
     "data": {
      "text/plain": [
       "<matplotlib.axes._subplots.AxesSubplot at 0x19316b112c8>"
      ]
     },
     "execution_count": 168,
     "metadata": {},
     "output_type": "execute_result"
    },
    {
     "data": {
      "image/png": "[encoded data removed]",
      "text/plain": [
       "<Figure size 432x288 with 1 Axes>"
      ]
     },
     "metadata": {
      "needs_background": "light"
     },
     "output_type": "display_data"
    }
   ],
   "source": [
    "sns.distplot(data.loc[data['purchase_vehicle_year'] >=2000]['purchase_vehicle_year'])"
   ]
  },
  {
   "cell_type": "code",
   "execution_count": 169,
   "metadata": {},
   "outputs": [
    {
     "name": "stdout",
     "output_type": "stream",
     "text": [
      "0.3417284592556125\n"
     ]
    },
    {
     "data": {
      "text/html": [
       "<div>\n",
       "<style scoped>\n",
       "    .dataframe tbody tr th:only-of-type {\n",
       "        vertical-align: middle;\n",
       "    }\n",
       "\n",
       "    .dataframe tbody tr th {\n",
       "        vertical-align: top;\n",
       "    }\n",
       "\n",
       "    .dataframe thead th {\n",
       "        text-align: right;\n",
       "    }\n",
       "</style>\n",
       "<table border=\"1\" class=\"dataframe\">\n",
       "  <thead>\n",
       "    <tr style=\"text-align: right;\">\n",
       "      <th></th>\n",
       "      <th>purchase_price</th>\n",
       "      <th>actual</th>\n",
       "    </tr>\n",
       "  </thead>\n",
       "  <tbody>\n",
       "    <tr>\n",
       "      <td>0</td>\n",
       "      <td>2500</td>\n",
       "      <td>0.665311</td>\n",
       "    </tr>\n",
       "    <tr>\n",
       "      <td>1</td>\n",
       "      <td>7500</td>\n",
       "      <td>0.374938</td>\n",
       "    </tr>\n",
       "    <tr>\n",
       "      <td>2</td>\n",
       "      <td>12500</td>\n",
       "      <td>0.333195</td>\n",
       "    </tr>\n",
       "    <tr>\n",
       "      <td>3</td>\n",
       "      <td>17500</td>\n",
       "      <td>0.334793</td>\n",
       "    </tr>\n",
       "    <tr>\n",
       "      <td>4</td>\n",
       "      <td>22500</td>\n",
       "      <td>0.337249</td>\n",
       "    </tr>\n",
       "    <tr>\n",
       "      <td>5</td>\n",
       "      <td>27500</td>\n",
       "      <td>0.342182</td>\n",
       "    </tr>\n",
       "    <tr>\n",
       "      <td>6</td>\n",
       "      <td>32500</td>\n",
       "      <td>0.340382</td>\n",
       "    </tr>\n",
       "    <tr>\n",
       "      <td>7</td>\n",
       "      <td>47500</td>\n",
       "      <td>0.369987</td>\n",
       "    </tr>\n",
       "    <tr>\n",
       "      <td>8</td>\n",
       "      <td>52500</td>\n",
       "      <td>0.365639</td>\n",
       "    </tr>\n",
       "    <tr>\n",
       "      <td>9</td>\n",
       "      <td>57500</td>\n",
       "      <td>0.420213</td>\n",
       "    </tr>\n",
       "    <tr>\n",
       "      <td>10</td>\n",
       "      <td>62500</td>\n",
       "      <td>0.466346</td>\n",
       "    </tr>\n",
       "    <tr>\n",
       "      <td>11</td>\n",
       "      <td>67500</td>\n",
       "      <td>0.397059</td>\n",
       "    </tr>\n",
       "    <tr>\n",
       "      <td>12</td>\n",
       "      <td>72500</td>\n",
       "      <td>0.390625</td>\n",
       "    </tr>\n",
       "    <tr>\n",
       "      <td>13</td>\n",
       "      <td>77500</td>\n",
       "      <td>0.450000</td>\n",
       "    </tr>\n",
       "    <tr>\n",
       "      <td>14</td>\n",
       "      <td>82500</td>\n",
       "      <td>0.428571</td>\n",
       "    </tr>\n",
       "    <tr>\n",
       "      <td>15</td>\n",
       "      <td>87500</td>\n",
       "      <td>0.294118</td>\n",
       "    </tr>\n",
       "    <tr>\n",
       "      <td>16</td>\n",
       "      <td>92500</td>\n",
       "      <td>0.750000</td>\n",
       "    </tr>\n",
       "  </tbody>\n",
       "</table>\n",
       "</div>"
      ],
      "text/plain": [
       "    purchase_price    actual\n",
       "0             2500  0.665311\n",
       "1             7500  0.374938\n",
       "2            12500  0.333195\n",
       "3            17500  0.334793\n",
       "4            22500  0.337249\n",
       "5            27500  0.342182\n",
       "6            32500  0.340382\n",
       "7            47500  0.369987\n",
       "8            52500  0.365639\n",
       "9            57500  0.420213\n",
       "10           62500  0.466346\n",
       "11           67500  0.397059\n",
       "12           72500  0.390625\n",
       "13           77500  0.450000\n",
       "14           82500  0.428571\n",
       "15           87500  0.294118\n",
       "16           92500  0.750000"
      ]
     },
     "execution_count": 169,
     "metadata": {},
     "output_type": "execute_result"
    },
    {
     "data": {
      "image/png": "[encoded data removed]",
      "text/plain": [
       "<Figure size 432x288 with 1 Axes>"
      ]
     },
     "metadata": {
      "needs_background": "light"
     },
     "output_type": "display_data"
    }
   ],
   "source": [
    "purch_ratio = price.groupby('purchase_price')['actual'].mean().to_frame().reset_index()\n",
    "print(data['actual'].mean())\n",
    "sns.barplot(x='purchase_price', y='actual', data=purch_ratio)\n",
    "purch_ratio\n",
    "\n",
    "#fig = px.pie(data, values='actual', names='purchase_price', title='Subsequent Buyers Purchase Price')\n",
    "#py.offline.plot(fig, filename='purchase_price_breakdown.html', auto_open=True)"
   ]
  },
  {
   "cell_type": "code",
   "execution_count": 170,
   "metadata": {},
   "outputs": [
    {
     "data": {
      "text/html": [
       "<div>\n",
       "<style scoped>\n",
       "    .dataframe tbody tr th:only-of-type {\n",
       "        vertical-align: middle;\n",
       "    }\n",
       "\n",
       "    .dataframe tbody tr th {\n",
       "        vertical-align: top;\n",
       "    }\n",
       "\n",
       "    .dataframe thead th {\n",
       "        text-align: right;\n",
       "    }\n",
       "</style>\n",
       "<table border=\"1\" class=\"dataframe\">\n",
       "  <thead>\n",
       "    <tr style=\"text-align: right;\">\n",
       "      <th></th>\n",
       "      <th>purchase_price</th>\n",
       "      <th>actual</th>\n",
       "    </tr>\n",
       "  </thead>\n",
       "  <tbody>\n",
       "    <tr>\n",
       "      <td>0</td>\n",
       "      <td>2500</td>\n",
       "      <td>2944</td>\n",
       "    </tr>\n",
       "    <tr>\n",
       "      <td>1</td>\n",
       "      <td>7500</td>\n",
       "      <td>3764</td>\n",
       "    </tr>\n",
       "    <tr>\n",
       "      <td>2</td>\n",
       "      <td>12500</td>\n",
       "      <td>33753</td>\n",
       "    </tr>\n",
       "    <tr>\n",
       "      <td>3</td>\n",
       "      <td>17500</td>\n",
       "      <td>39607</td>\n",
       "    </tr>\n",
       "    <tr>\n",
       "      <td>4</td>\n",
       "      <td>22500</td>\n",
       "      <td>22396</td>\n",
       "    </tr>\n",
       "    <tr>\n",
       "      <td>5</td>\n",
       "      <td>27500</td>\n",
       "      <td>13560</td>\n",
       "    </tr>\n",
       "    <tr>\n",
       "      <td>6</td>\n",
       "      <td>32500</td>\n",
       "      <td>5199</td>\n",
       "    </tr>\n",
       "    <tr>\n",
       "      <td>7</td>\n",
       "      <td>47500</td>\n",
       "      <td>1716</td>\n",
       "    </tr>\n",
       "    <tr>\n",
       "      <td>8</td>\n",
       "      <td>52500</td>\n",
       "      <td>249</td>\n",
       "    </tr>\n",
       "    <tr>\n",
       "      <td>9</td>\n",
       "      <td>57500</td>\n",
       "      <td>158</td>\n",
       "    </tr>\n",
       "    <tr>\n",
       "      <td>10</td>\n",
       "      <td>62500</td>\n",
       "      <td>97</td>\n",
       "    </tr>\n",
       "    <tr>\n",
       "      <td>11</td>\n",
       "      <td>67500</td>\n",
       "      <td>54</td>\n",
       "    </tr>\n",
       "    <tr>\n",
       "      <td>12</td>\n",
       "      <td>72500</td>\n",
       "      <td>25</td>\n",
       "    </tr>\n",
       "    <tr>\n",
       "      <td>13</td>\n",
       "      <td>77500</td>\n",
       "      <td>18</td>\n",
       "    </tr>\n",
       "    <tr>\n",
       "      <td>14</td>\n",
       "      <td>82500</td>\n",
       "      <td>6</td>\n",
       "    </tr>\n",
       "    <tr>\n",
       "      <td>15</td>\n",
       "      <td>87500</td>\n",
       "      <td>5</td>\n",
       "    </tr>\n",
       "    <tr>\n",
       "      <td>16</td>\n",
       "      <td>92500</td>\n",
       "      <td>3</td>\n",
       "    </tr>\n",
       "  </tbody>\n",
       "</table>\n",
       "</div>"
      ],
      "text/plain": [
       "    purchase_price  actual\n",
       "0             2500    2944\n",
       "1             7500    3764\n",
       "2            12500   33753\n",
       "3            17500   39607\n",
       "4            22500   22396\n",
       "5            27500   13560\n",
       "6            32500    5199\n",
       "7            47500    1716\n",
       "8            52500     249\n",
       "9            57500     158\n",
       "10           62500      97\n",
       "11           67500      54\n",
       "12           72500      25\n",
       "13           77500      18\n",
       "14           82500       6\n",
       "15           87500       5\n",
       "16           92500       3"
      ]
     },
     "execution_count": 170,
     "metadata": {},
     "output_type": "execute_result"
    },
    {
     "data": {
      "image/png": "[encoded data removed]",
      "text/plain": [
       "<Figure size 432x288 with 1 Axes>"
      ]
     },
     "metadata": {
      "needs_background": "light"
     },
     "output_type": "display_data"
    }
   ],
   "source": [
    "purch = price.loc[data['actual'] == 1].groupby('purchase_price')['actual'].sum().to_frame().reset_index()\n",
    "sns.barplot(x='purchase_price', y='actual', data=purch)\n",
    "purch"
   ]
  },
  {
   "cell_type": "code",
   "execution_count": 171,
   "metadata": {},
   "outputs": [
    {
     "data": {
      "text/html": [
       "<div>\n",
       "<style scoped>\n",
       "    .dataframe tbody tr th:only-of-type {\n",
       "        vertical-align: middle;\n",
       "    }\n",
       "\n",
       "    .dataframe tbody tr th {\n",
       "        vertical-align: top;\n",
       "    }\n",
       "\n",
       "    .dataframe thead th {\n",
       "        text-align: right;\n",
       "    }\n",
       "</style>\n",
       "<table border=\"1\" class=\"dataframe\">\n",
       "  <thead>\n",
       "    <tr style=\"text-align: right;\">\n",
       "      <th></th>\n",
       "      <th>purchase_price</th>\n",
       "      <th>insert_num</th>\n",
       "    </tr>\n",
       "  </thead>\n",
       "  <tbody>\n",
       "    <tr>\n",
       "      <td>0</td>\n",
       "      <td>2500</td>\n",
       "      <td>4425</td>\n",
       "    </tr>\n",
       "    <tr>\n",
       "      <td>1</td>\n",
       "      <td>7500</td>\n",
       "      <td>10039</td>\n",
       "    </tr>\n",
       "    <tr>\n",
       "      <td>2</td>\n",
       "      <td>12500</td>\n",
       "      <td>101301</td>\n",
       "    </tr>\n",
       "    <tr>\n",
       "      <td>3</td>\n",
       "      <td>17500</td>\n",
       "      <td>118303</td>\n",
       "    </tr>\n",
       "    <tr>\n",
       "      <td>4</td>\n",
       "      <td>22500</td>\n",
       "      <td>66408</td>\n",
       "    </tr>\n",
       "    <tr>\n",
       "      <td>5</td>\n",
       "      <td>27500</td>\n",
       "      <td>39628</td>\n",
       "    </tr>\n",
       "    <tr>\n",
       "      <td>6</td>\n",
       "      <td>32500</td>\n",
       "      <td>15274</td>\n",
       "    </tr>\n",
       "    <tr>\n",
       "      <td>7</td>\n",
       "      <td>47500</td>\n",
       "      <td>4638</td>\n",
       "    </tr>\n",
       "    <tr>\n",
       "      <td>8</td>\n",
       "      <td>52500</td>\n",
       "      <td>681</td>\n",
       "    </tr>\n",
       "    <tr>\n",
       "      <td>9</td>\n",
       "      <td>57500</td>\n",
       "      <td>376</td>\n",
       "    </tr>\n",
       "    <tr>\n",
       "      <td>10</td>\n",
       "      <td>62500</td>\n",
       "      <td>208</td>\n",
       "    </tr>\n",
       "    <tr>\n",
       "      <td>11</td>\n",
       "      <td>67500</td>\n",
       "      <td>136</td>\n",
       "    </tr>\n",
       "    <tr>\n",
       "      <td>12</td>\n",
       "      <td>72500</td>\n",
       "      <td>64</td>\n",
       "    </tr>\n",
       "    <tr>\n",
       "      <td>13</td>\n",
       "      <td>77500</td>\n",
       "      <td>40</td>\n",
       "    </tr>\n",
       "    <tr>\n",
       "      <td>14</td>\n",
       "      <td>82500</td>\n",
       "      <td>14</td>\n",
       "    </tr>\n",
       "    <tr>\n",
       "      <td>15</td>\n",
       "      <td>87500</td>\n",
       "      <td>17</td>\n",
       "    </tr>\n",
       "    <tr>\n",
       "      <td>16</td>\n",
       "      <td>92500</td>\n",
       "      <td>4</td>\n",
       "    </tr>\n",
       "  </tbody>\n",
       "</table>\n",
       "</div>"
      ],
      "text/plain": [
       "    purchase_price  insert_num\n",
       "0             2500        4425\n",
       "1             7500       10039\n",
       "2            12500      101301\n",
       "3            17500      118303\n",
       "4            22500       66408\n",
       "5            27500       39628\n",
       "6            32500       15274\n",
       "7            47500        4638\n",
       "8            52500         681\n",
       "9            57500         376\n",
       "10           62500         208\n",
       "11           67500         136\n",
       "12           72500          64\n",
       "13           77500          40\n",
       "14           82500          14\n",
       "15           87500          17\n",
       "16           92500           4"
      ]
     },
     "execution_count": 171,
     "metadata": {},
     "output_type": "execute_result"
    },
    {
     "data": {
      "image/png": "[encoded data removed]",
      "text/plain": [
       "<Figure size 432x288 with 1 Axes>"
      ]
     },
     "metadata": {
      "needs_background": "light"
     },
     "output_type": "display_data"
    }
   ],
   "source": [
    "purch_dist = price.groupby('purchase_price')['insert_num'].count().to_frame().reset_index()\n",
    "sns.barplot(x='purchase_price', y='insert_num', data=purch_dist)\n",
    "purch_dist"
   ]
  },
  {
   "cell_type": "code",
   "execution_count": 172,
   "metadata": {},
   "outputs": [
    {
     "name": "stdout",
     "output_type": "stream",
     "text": [
      "1154\n",
      "   customer_age  actual\n",
      "0            10    6343\n",
      "1            25   84906\n",
      "2            35   89749\n",
      "3            45   85678\n",
      "4            55   55469\n",
      "5            65   26325\n",
      "6            75    8217\n",
      "7            85    2243\n",
      "8            95     164\n",
      "9           102    1311\n"
     ]
    },
    {
     "data": {
      "text/plain": [
       "<matplotlib.axes._subplots.AxesSubplot at 0x19317c558c8>"
      ]
     },
     "execution_count": 172,
     "metadata": {},
     "output_type": "execute_result"
    },
    {
     "data": {
      "image/png": "[encoded data removed]",
      "text/plain": [
       "<Figure size 432x288 with 1 Axes>"
      ]
     },
     "metadata": {
      "needs_background": "light"
     },
     "output_type": "display_data"
    }
   ],
   "source": [
    "print(len(data[data['customer_age'] == '?'])) # only a couple people have unknown ages\n",
    "age_counts = age.groupby('customer_age')['actual'].count().to_frame().reset_index()\n",
    "print(age_counts.head(10))\n",
    "sns.barplot(x='customer_age', y='actual', data=age_counts)\n"
   ]
  },
  {
   "cell_type": "code",
   "execution_count": 173,
   "metadata": {},
   "outputs": [
    {
     "data": {
      "text/plain": [
       "1154"
      ]
     },
     "execution_count": 173,
     "metadata": {},
     "output_type": "execute_result"
    },
    {
     "data": {
      "image/png": "[encoded data removed]",
      "text/plain": [
       "<Figure size 432x288 with 1 Axes>"
      ]
     },
     "metadata": {
      "needs_background": "light"
     },
     "output_type": "display_data"
    }
   ],
   "source": [
    "age_buckets = age.groupby('customer_age')['actual'].mean().to_frame().reset_index()\n",
    "sns.barplot(x='customer_age', y='actual', data=age_buckets)\n",
    "#interesting that 101+ stands out as a higher liklihood to be a repeat\n",
    "age_buckets.head()\n",
    "len(data['customer_age'])-len(data[data['customer_age'] != '?'])\n",
    "#data[data['customer_age'] == '?'].head(25)\n"
   ]
  },
  {
   "cell_type": "code",
   "execution_count": 174,
   "metadata": {},
   "outputs": [
    {
     "name": "stdout",
     "output_type": "stream",
     "text": [
      "   trade_in    actual\n",
      "0         0  0.322550\n",
      "1         1  0.363858\n",
      "   customer_previous_purchase    actual\n",
      "0                           0  0.329577\n",
      "1                           1  0.387068\n",
      "   vehicle_warranty_used    actual\n",
      "0                      0  0.335684\n",
      "1                      1  0.359969\n",
      "   vehicle_financing    actual\n",
      "0                  0  0.370446\n",
      "1                  1  0.333032\n"
     ]
    }
   ],
   "source": [
    "trade_in = data.groupby('trade_in')['actual'].mean().to_frame().reset_index()\n",
    "print(trade_in.head())\n",
    "customer_previous_purchase = data.groupby('customer_previous_purchase')['actual'].mean().to_frame().reset_index()\n",
    "print(customer_previous_purchase.head())\n",
    "warranty_used = data.groupby('vehicle_warranty_used')['actual'].mean().to_frame().reset_index()\n",
    "print(warranty_used.head())\n",
    "financing = data.groupby('vehicle_financing')['actual'].mean().to_frame().reset_index()\n",
    "print(financing.head())"
   ]
  },
  {
   "cell_type": "code",
   "execution_count": 175,
   "metadata": {},
   "outputs": [
    {
     "data": {
      "text/plain": [
       "<matplotlib.axes._subplots.AxesSubplot at 0x19314900dc8>"
      ]
     },
     "execution_count": 175,
     "metadata": {},
     "output_type": "execute_result"
    },
    {
     "data": {
      "image/png": "[encoded data removed]",
      "text/plain": [
       "<Figure size 432x288 with 1 Axes>"
      ]
     },
     "metadata": {
      "needs_background": "light"
     },
     "output_type": "display_data"
    }
   ],
   "source": [
    "cust_income = income.groupby('customer_income')['actual'].mean().to_frame().reset_index()\n",
    "sns.barplot(x='customer_income', y='actual', data=cust_income)"
   ]
  },
  {
   "cell_type": "code",
   "execution_count": 176,
   "metadata": {},
   "outputs": [
    {
     "name": "stderr",
     "output_type": "stream",
     "text": [
      "C:\\Users\\999Na\\Anaconda3\\lib\\site-packages\\ipykernel_launcher.py:1: SettingWithCopyWarning:\n",
      "\n",
      "\n",
      "A value is trying to be set on a copy of a slice from a DataFrame.\n",
      "Try using .loc[row_indexer,col_indexer] = value instead\n",
      "\n",
      "See the caveats in the documentation: http://pandas.pydata.org/pandas-docs/stable/user_guide/indexing.html#returning-a-view-versus-a-copy\n",
      "\n",
      "C:\\Users\\999Na\\Anaconda3\\lib\\site-packages\\ipykernel_launcher.py:2: SettingWithCopyWarning:\n",
      "\n",
      "\n",
      "A value is trying to be set on a copy of a slice from a DataFrame.\n",
      "Try using .loc[row_indexer,col_indexer] = value instead\n",
      "\n",
      "See the caveats in the documentation: http://pandas.pydata.org/pandas-docs/stable/user_guide/indexing.html#returning-a-view-versus-a-copy\n",
      "\n"
     ]
    }
   ],
   "source": [
    "age['customer_age'] = pd.to_numeric(age['customer_age'])\n",
    "distance['customer_distance_to_dealer'] = pd.to_numeric(distance['customer_distance_to_dealer'])                                          "
   ]
  },
  {
   "cell_type": "code",
   "execution_count": 177,
   "metadata": {},
   "outputs": [
    {
     "data": {
      "text/plain": [
       "'parallel_cats.html'"
      ]
     },
     "execution_count": 177,
     "metadata": {},
     "output_type": "execute_result"
    }
   ],
   "source": [
    "par_cats = data[['actual', 'trade_in']]\n",
    "par_cats.dtypes\n",
    "fig = px.parallel_categories(par_cats)\n",
    "py.offline.plot(fig, filename='parallel_cats.html', auto_open=True)"
   ]
  },
  {
   "cell_type": "code",
   "execution_count": 178,
   "metadata": {},
   "outputs": [
    {
     "data": {
      "text/plain": [
       "'parallel_cats.html'"
      ]
     },
     "execution_count": 178,
     "metadata": {},
     "output_type": "execute_result"
    }
   ],
   "source": [
    "par_cats = data[['actual', 'vehicle_financing']]\n",
    "par_cats.dtypes\n",
    "fig = px.parallel_categories(par_cats)\n",
    "py.offline.plot(fig, filename='parallel_cats.html', auto_open=True)"
   ]
  },
  {
   "cell_type": "code",
   "execution_count": 225,
   "metadata": {},
   "outputs": [
    {
     "data": {
      "text/plain": [
       "'parallel_cats.html'"
      ]
     },
     "execution_count": 225,
     "metadata": {},
     "output_type": "execute_result"
    }
   ],
   "source": [
    "par_cats = data[['actual', 'customer_previous_purchase']]\n",
    "par_cats.dtypes\n",
    "fig = px.parallel_categories(par_cats)\n",
    "py.offline.plot(fig, filename='parallel_cats.html', auto_open=True)"
   ]
  },
  {
   "cell_type": "code",
   "execution_count": 180,
   "metadata": {},
   "outputs": [
    {
     "data": {
      "text/plain": [
       "'parallel_cats.html'"
      ]
     },
     "execution_count": 180,
     "metadata": {},
     "output_type": "execute_result"
    }
   ],
   "source": [
    "par_cats = data[['actual', 'vehicle_warranty_used']]\n",
    "par_cats.dtypes\n",
    "fig = px.parallel_categories(par_cats)\n",
    "py.offline.plot(fig, filename='parallel_cats.html', auto_open=True)"
   ]
  },
  {
   "cell_type": "code",
   "execution_count": 181,
   "metadata": {
    "scrolled": true
   },
   "outputs": [
    {
     "data": {
      "text/plain": [
       "'temp-plot.html'"
      ]
     },
     "execution_count": 181,
     "metadata": {},
     "output_type": "execute_result"
    }
   ],
   "source": [
    "purchase_year = data.loc[data['purchase_vehicle_year'] >= 2000].groupby(['trade_in', 'purchase_vehicle_year'])['actual'].mean().to_frame().reset_index()\n",
    "purchase_year\n",
    "fig = px.bar(purchase_year, x='purchase_vehicle_year', y='actual', facet_row='trade_in')\n",
    "py.offline.plot(fig, 'year_previous.html', auto_open=True)"
   ]
  },
  {
   "cell_type": "code",
   "execution_count": 234,
   "metadata": {},
   "outputs": [
    {
     "name": "stdout",
     "output_type": "stream",
     "text": [
      "[2010 2007 2008 2012 2011 2005 2013 2006 2004 2009 2002 2003 2014 2001\n",
      " 2000]\n"
     ]
    },
    {
     "data": {
      "text/plain": [
       "'parallel_cats.html'"
      ]
     },
     "execution_count": 234,
     "metadata": {},
     "output_type": "execute_result"
    }
   ],
   "source": [
    "par_cats = price.loc[price['purchase_vehicle_year'] >= 2000][['actual', 'purchase_vehicle_year', 'trade_in']]\n",
    "print(par_cats['purchase_vehicle_year'].unique())\n",
    "fig = px.parallel_categories(par_cats)\n",
    "py.offline.plot(fig, filename='parallel_cats.html', auto_open=True)"
   ]
  },
  {
   "cell_type": "code",
   "execution_count": 182,
   "metadata": {},
   "outputs": [
    {
     "data": {
      "text/plain": [
       "'temp-plot.html'"
      ]
     },
     "execution_count": 182,
     "metadata": {},
     "output_type": "execute_result"
    }
   ],
   "source": [
    "income_trade = income.groupby(['customer_income', 'trade_in'])['actual'].mean().to_frame().reset_index()\n",
    "purchase_year\n",
    "fig = px.bar(income_trade, x='customer_income', y='actual', facet_row='trade_in')\n",
    "py.offline.plot(fig, 'income_trade.html', auto_open=True)"
   ]
  },
  {
   "cell_type": "code",
   "execution_count": 183,
   "metadata": {},
   "outputs": [
    {
     "data": {
      "text/plain": [
       "0.3417284592556125"
      ]
     },
     "execution_count": 183,
     "metadata": {},
     "output_type": "execute_result"
    }
   ],
   "source": [
    "price_trade = price.groupby(['purchase_price', 'trade_in'])['actual'].mean().to_frame().reset_index()\n",
    "purchase_year\n",
    "fig = px.bar(price_trade, x='purchase_price', y='actual', facet_row='trade_in')\n",
    "py.offline.plot(fig, 'price_trade.html', auto_open=True)\n",
    "data['actual'].mean()"
   ]
  },
  {
   "cell_type": "code",
   "execution_count": 184,
   "metadata": {},
   "outputs": [
    {
     "data": {
      "text/plain": [
       "0.3417284592556125"
      ]
     },
     "execution_count": 184,
     "metadata": {},
     "output_type": "execute_result"
    }
   ],
   "source": [
    "age_trade = age.groupby(['customer_age', 'trade_in'])['actual'].mean().to_frame().reset_index()\n",
    "purchase_year\n",
    "fig = px.bar(age_trade, x='customer_age', y='actual', facet_row='trade_in')\n",
    "py.offline.plot(fig, 'age_trade.html', auto_open=True)\n",
    "data['actual'].mean()"
   ]
  },
  {
   "cell_type": "code",
   "execution_count": 185,
   "metadata": {},
   "outputs": [
    {
     "data": {
      "text/plain": [
       "'temp-plot.html'"
      ]
     },
     "execution_count": 185,
     "metadata": {},
     "output_type": "execute_result"
    }
   ],
   "source": [
    "dist_trade = distance.groupby(['customer_distance_to_dealer', 'trade_in'])['actual'].mean().to_frame().reset_index()\n",
    "purchase_year\n",
    "fig = px.bar(dist_trade, x='customer_distance_to_dealer', y='actual', facet_row='trade_in')\n",
    "py.offline.plot(fig, 'dist_trade.html', auto_open=True)\n"
   ]
  },
  {
   "cell_type": "code",
   "execution_count": 186,
   "metadata": {},
   "outputs": [
    {
     "data": {
      "text/plain": [
       "'temp-plot.html'"
      ]
     },
     "execution_count": 186,
     "metadata": {},
     "output_type": "execute_result"
    }
   ],
   "source": [
    "make_trade = data.groupby(['purchase_make', 'trade_in'])['actual'].mean().to_frame().reset_index()\n",
    "fig = px.bar(make_trade, x='purchase_make', y='actual', facet_row='trade_in')\n",
    "py.offline.plot(fig, 'make_trade.html', auto_open=True)"
   ]
  },
  {
   "cell_type": "code",
   "execution_count": 187,
   "metadata": {},
   "outputs": [
    {
     "data": {
      "text/plain": [
       "'temp-plot.html'"
      ]
     },
     "execution_count": 187,
     "metadata": {},
     "output_type": "execute_result"
    }
   ],
   "source": [
    "make_prev = data.groupby(['purchase_make', 'customer_previous_purchase'])['actual'].mean().to_frame().reset_index()\n",
    "fig = px.bar(make_prev, x='purchase_make', y='actual', facet_row='customer_previous_purchase')\n",
    "py.offline.plot(fig, 'make_prev.html', auto_open=True)"
   ]
  },
  {
   "cell_type": "code",
   "execution_count": 6,
   "metadata": {},
   "outputs": [
    {
     "data": {
      "text/plain": [
       "'temp-plot.html'"
      ]
     },
     "execution_count": 6,
     "metadata": {},
     "output_type": "execute_result"
    }
   ],
   "source": [
    "make_fin = data.groupby(['purchase_make', 'vehicle_financing'])['actual'].mean().to_frame().reset_index()\n",
    "fig = px.bar(make_fin, x='purchase_make', y='actual', facet_row='vehicle_financing')\n",
    "py.offline.plot(fig, 'make_fin.html', auto_open=True)"
   ]
  },
  {
   "cell_type": "code",
   "execution_count": null,
   "metadata": {},
   "outputs": [],
   "source": []
  },
  {
   "cell_type": "code",
   "execution_count": 189,
   "metadata": {},
   "outputs": [
    {
     "data": {
      "text/plain": [
       "<matplotlib.axes._subplots.AxesSubplot at 0x19316f6ad08>"
      ]
     },
     "execution_count": 189,
     "metadata": {},
     "output_type": "execute_result"
    },
    {
     "data": {
      "image/png": "[encoded data removed]",
      "text/plain": [
       "<Figure size 1152x792 with 1 Axes>"
      ]
     },
     "metadata": {
      "needs_background": "light"
     },
     "output_type": "display_data"
    }
   ],
   "source": [
    "makes = data.groupby('purchase_make')['actual'].mean().to_frame().reset_index()\n",
    "plt.figure(figsize=(16,11))\n",
    "sns.barplot(x='purchase_make', y='actual', data=makes)\n"
   ]
  },
  {
   "cell_type": "code",
   "execution_count": 1,
   "metadata": {},
   "outputs": [
    {
     "ename": "NameError",
     "evalue": "name 'data' is not defined",
     "output_type": "error",
     "traceback": [
      "\u001b[1;31m---------------------------------------------------------------------------\u001b[0m",
      "\u001b[1;31mNameError\u001b[0m                                 Traceback (most recent call last)",
      "\u001b[1;32m<ipython-input-1-7e702018f15f>\u001b[0m in \u001b[0;36m<module>\u001b[1;34m\u001b[0m\n\u001b[1;32m----> 1\u001b[1;33m \u001b[0mmakes\u001b[0m \u001b[1;33m=\u001b[0m \u001b[0mdata\u001b[0m\u001b[1;33m\u001b[0m\u001b[1;33m\u001b[0m\u001b[0m\n\u001b[0m\u001b[0;32m      2\u001b[0m \u001b[0mmakes\u001b[0m\u001b[1;33m[\u001b[0m\u001b[1;34m'counter'\u001b[0m\u001b[1;33m]\u001b[0m \u001b[1;33m=\u001b[0m \u001b[1;36m1\u001b[0m\u001b[1;33m\u001b[0m\u001b[1;33m\u001b[0m\u001b[0m\n\u001b[0;32m      3\u001b[0m \u001b[0mmakes\u001b[0m \u001b[1;33m=\u001b[0m \u001b[0mmakes\u001b[0m\u001b[1;33m.\u001b[0m\u001b[0mgroupby\u001b[0m\u001b[1;33m(\u001b[0m\u001b[1;34m'purchase_make'\u001b[0m\u001b[1;33m)\u001b[0m\u001b[1;33m[\u001b[0m\u001b[1;34m'counter'\u001b[0m\u001b[1;33m]\u001b[0m\u001b[1;33m.\u001b[0m\u001b[0msum\u001b[0m\u001b[1;33m(\u001b[0m\u001b[1;33m)\u001b[0m\u001b[1;33m.\u001b[0m\u001b[0mto_frame\u001b[0m\u001b[1;33m(\u001b[0m\u001b[1;33m)\u001b[0m\u001b[1;33m.\u001b[0m\u001b[0mreset_index\u001b[0m\u001b[1;33m(\u001b[0m\u001b[1;33m)\u001b[0m\u001b[1;33m\u001b[0m\u001b[1;33m\u001b[0m\u001b[0m\n\u001b[0;32m      4\u001b[0m \u001b[0mprint\u001b[0m\u001b[1;33m(\u001b[0m\u001b[0mmakes\u001b[0m\u001b[1;33m[\u001b[0m\u001b[1;34m'actual'\u001b[0m\u001b[1;33m]\u001b[0m\u001b[1;33m.\u001b[0m\u001b[0mmean\u001b[0m\u001b[1;33m(\u001b[0m\u001b[1;33m)\u001b[0m\u001b[1;33m)\u001b[0m\u001b[1;33m\u001b[0m\u001b[1;33m\u001b[0m\u001b[0m\n\u001b[0;32m      5\u001b[0m \u001b[0mlow_demand\u001b[0m \u001b[1;33m=\u001b[0m \u001b[0mmakes\u001b[0m\u001b[1;33m.\u001b[0m\u001b[0mloc\u001b[0m\u001b[1;33m[\u001b[0m\u001b[0mmakes\u001b[0m\u001b[1;33m[\u001b[0m\u001b[1;34m'counter'\u001b[0m\u001b[1;33m]\u001b[0m \u001b[1;33m<\u001b[0m \u001b[1;36m2000\u001b[0m\u001b[1;33m]\u001b[0m\u001b[1;33m\u001b[0m\u001b[1;33m\u001b[0m\u001b[0m\n",
      "\u001b[1;31mNameError\u001b[0m: name 'data' is not defined"
     ]
    }
   ],
   "source": [
    "makes = data\n",
    "makes['counter'] = 1\n",
    "makes = makes.groupby('purchase_make')['counter'].sum().to_frame().reset_index()\n",
    "print(makes['actual'].mean())\n",
    "low_demand = makes.loc[makes['counter'] < 2000]\n",
    "low_make = data.loc[data.purchase_make.isin(low_demand['purchase_make'].unique())].groupby('purchase_make')['actual'].mean().to_frame().reset_index()\n",
    "sns.barplot(x='purchase_make', y='actual', data=low_make)\n",
    "print(low_make['actual'].mean())\n",
    "#low_make.to_csv()"
   ]
  },
  {
   "cell_type": "code",
   "execution_count": 191,
   "metadata": {},
   "outputs": [
    {
     "data": {
      "text/plain": [
       "'temp-plot.html'"
      ]
     },
     "execution_count": 191,
     "metadata": {},
     "output_type": "execute_result"
    }
   ],
   "source": [
    "warranty_price = price.groupby(['vehicle_warranty_used', 'purchase_price'])['actual'].mean().to_frame().reset_index()\n",
    "fig = px.bar(warranty_price, x='purchase_price', y='actual', facet_row='vehicle_warranty_used')\n",
    "py.offline.plot(fig, 'warranty_price.html', auto_open=True)"
   ]
  },
  {
   "cell_type": "code",
   "execution_count": 192,
   "metadata": {},
   "outputs": [
    {
     "data": {
      "text/plain": [
       "'temp-plot.html'"
      ]
     },
     "execution_count": 192,
     "metadata": {},
     "output_type": "execute_result"
    }
   ],
   "source": [
    "warranty_year = data.loc[data['purchase_vehicle_year'] >= 2000].groupby(['vehicle_warranty_used', 'purchase_vehicle_year'])['actual'].mean().to_frame().reset_index()\n",
    "fig = px.bar(warranty_year, x='purchase_vehicle_year', y='actual', facet_row='vehicle_warranty_used')\n",
    "py.offline.plot(fig, 'warranty_year.html', auto_open=True)\n"
   ]
  },
  {
   "cell_type": "code",
   "execution_count": 202,
   "metadata": {},
   "outputs": [
    {
     "data": {
      "text/plain": [
       "'temp-plot.html'"
      ]
     },
     "execution_count": 202,
     "metadata": {},
     "output_type": "execute_result"
    }
   ],
   "source": [
    "warranty_year = data.loc[data['purchase_vehicle_year'] >= 2000]#.groupby(['vehicle_warranty_used', 'purchase_vehicle_year'])['counter'].sum().to_frame().reset_index()\n",
    "#warranty_year.head()\n",
    "fig = px.histogram(warranty_year, x='purchase_vehicle_year', y='counter', facet_row='vehicle_warranty_used')\n",
    "py.offline.plot(fig, 'warranty_price_dist.html', auto_open=True)"
   ]
  },
  {
   "cell_type": "code",
   "execution_count": 193,
   "metadata": {},
   "outputs": [
    {
     "data": {
      "text/plain": [
       "'temp-plot.html'"
      ]
     },
     "execution_count": 193,
     "metadata": {},
     "output_type": "execute_result"
    }
   ],
   "source": [
    "warranty_income = income.groupby(['vehicle_warranty_used', 'customer_income'])['actual'].mean().to_frame().reset_index()\n",
    "fig = px.bar(warranty_income, x='customer_income', y='actual', facet_row='vehicle_warranty_used')\n",
    "py.offline.plot(fig, 'warranty_income.html', auto_open=True)"
   ]
  },
  {
   "cell_type": "code",
   "execution_count": 194,
   "metadata": {},
   "outputs": [
    {
     "data": {
      "text/plain": [
       "'temp-plot.html'"
      ]
     },
     "execution_count": 194,
     "metadata": {},
     "output_type": "execute_result"
    }
   ],
   "source": [
    "warranty_age = age.groupby(['vehicle_warranty_used', 'customer_age'])['actual'].mean().to_frame().reset_index()\n",
    "fig = px.bar(warranty_age, x='customer_age', y='actual', facet_row='vehicle_warranty_used')\n",
    "py.offline.plot(fig, 'warranty_age.html', auto_open=True)"
   ]
  },
  {
   "cell_type": "code",
   "execution_count": 212,
   "metadata": {},
   "outputs": [
    {
     "data": {
      "text/plain": [
       "'temp-plot.html'"
      ]
     },
     "execution_count": 212,
     "metadata": {},
     "output_type": "execute_result"
    }
   ],
   "source": [
    "price_year = price.loc[price['purchase_vehicle_year'] > 2000].groupby(['purchase_vehicle_year', 'purchase_price'])['actual'].mean().to_frame().reset_index()\n",
    "fig = px.bar(price_year, x='purchase_price', y='actual', facet_row='purchase_vehicle_year', width=1600, height=1600)\n",
    "py.offline.plot(fig, 'price_year.html', auto_open=True)"
   ]
  },
  {
   "cell_type": "code",
   "execution_count": 227,
   "metadata": {},
   "outputs": [
    {
     "data": {
      "text/plain": [
       "'parallel_cats.html'"
      ]
     },
     "execution_count": 227,
     "metadata": {},
     "output_type": "execute_result"
    }
   ],
   "source": [
    "par_cats = price[['actual', 'purchase_price']]\n",
    "par_cats.dtypes\n",
    "fig = px.parallel_categories(par_cats)\n",
    "py.offline.plot(fig, filename='parallel_cats.html', auto_open=True)"
   ]
  },
  {
   "cell_type": "code",
   "execution_count": 224,
   "metadata": {},
   "outputs": [
    {
     "data": {
      "text/html": [
       "<div>\n",
       "<style scoped>\n",
       "    .dataframe tbody tr th:only-of-type {\n",
       "        vertical-align: middle;\n",
       "    }\n",
       "\n",
       "    .dataframe tbody tr th {\n",
       "        vertical-align: top;\n",
       "    }\n",
       "\n",
       "    .dataframe thead th {\n",
       "        text-align: right;\n",
       "    }\n",
       "</style>\n",
       "<table border=\"1\" class=\"dataframe\">\n",
       "  <thead>\n",
       "    <tr style=\"text-align: right;\">\n",
       "      <th></th>\n",
       "      <th>purchase_vehicle_year</th>\n",
       "      <th>purchase_price</th>\n",
       "      <th>counter</th>\n",
       "    </tr>\n",
       "  </thead>\n",
       "  <tbody>\n",
       "    <tr>\n",
       "      <td>0</td>\n",
       "      <td>2000</td>\n",
       "      <td>2500</td>\n",
       "      <td>597</td>\n",
       "    </tr>\n",
       "    <tr>\n",
       "      <td>1</td>\n",
       "      <td>2000</td>\n",
       "      <td>7500</td>\n",
       "      <td>75</td>\n",
       "    </tr>\n",
       "    <tr>\n",
       "      <td>2</td>\n",
       "      <td>2000</td>\n",
       "      <td>12500</td>\n",
       "      <td>16</td>\n",
       "    </tr>\n",
       "    <tr>\n",
       "      <td>3</td>\n",
       "      <td>2000</td>\n",
       "      <td>17500</td>\n",
       "      <td>2</td>\n",
       "    </tr>\n",
       "    <tr>\n",
       "      <td>4</td>\n",
       "      <td>2000</td>\n",
       "      <td>27500</td>\n",
       "      <td>1</td>\n",
       "    </tr>\n",
       "    <tr>\n",
       "      <td>...</td>\n",
       "      <td>...</td>\n",
       "      <td>...</td>\n",
       "      <td>...</td>\n",
       "    </tr>\n",
       "    <tr>\n",
       "      <td>138</td>\n",
       "      <td>2012</td>\n",
       "      <td>67500</td>\n",
       "      <td>51</td>\n",
       "    </tr>\n",
       "    <tr>\n",
       "      <td>139</td>\n",
       "      <td>2012</td>\n",
       "      <td>72500</td>\n",
       "      <td>26</td>\n",
       "    </tr>\n",
       "    <tr>\n",
       "      <td>140</td>\n",
       "      <td>2012</td>\n",
       "      <td>77500</td>\n",
       "      <td>12</td>\n",
       "    </tr>\n",
       "    <tr>\n",
       "      <td>141</td>\n",
       "      <td>2012</td>\n",
       "      <td>82500</td>\n",
       "      <td>2</td>\n",
       "    </tr>\n",
       "    <tr>\n",
       "      <td>142</td>\n",
       "      <td>2012</td>\n",
       "      <td>87500</td>\n",
       "      <td>6</td>\n",
       "    </tr>\n",
       "  </tbody>\n",
       "</table>\n",
       "<p>143 rows × 3 columns</p>\n",
       "</div>"
      ],
      "text/plain": [
       "     purchase_vehicle_year  purchase_price  counter\n",
       "0                     2000            2500      597\n",
       "1                     2000            7500       75\n",
       "2                     2000           12500       16\n",
       "3                     2000           17500        2\n",
       "4                     2000           27500        1\n",
       "..                     ...             ...      ...\n",
       "138                   2012           67500       51\n",
       "139                   2012           72500       26\n",
       "140                   2012           77500       12\n",
       "141                   2012           82500        2\n",
       "142                   2012           87500        6\n",
       "\n",
       "[143 rows x 3 columns]"
      ]
     },
     "execution_count": 224,
     "metadata": {},
     "output_type": "execute_result"
    }
   ],
   "source": [
    "price_year = price.loc[data['purchase_vehicle_year'] >= 2000].groupby(['purchase_vehicle_year', 'purchase_price'])['counter'].sum().to_frame().reset_index()\n",
    "price_year.head(-25)\n",
    "#fig = px.bar(price_year, x='purchase_price', y='counter', facet_row='purchase_vehicle_year', width=400, height=1600)\n",
    "#py.offline.plot(fig, 'price_year_dist.html', auto_open=True)"
   ]
  },
  {
   "cell_type": "code",
   "execution_count": 63,
   "metadata": {},
   "outputs": [
    {
     "data": {
      "text/plain": [
       "<matplotlib.axes._subplots.AxesSubplot at 0x2a2803ebe48>"
      ]
     },
     "execution_count": 63,
     "metadata": {},
     "output_type": "execute_result"
    },
    {
     "data": {
      "image/png": "[encoded data removed]",
      "text/plain": [
       "<Figure size 432x288 with 2 Axes>"
      ]
     },
     "metadata": {
      "needs_background": "light"
     },
     "output_type": "display_data"
    }
   ],
   "source": [
    "\n",
    "income = data.loc[(data['customer_income'] != '?') & (data['purchase_price'] != '?')]\n",
    "#age['customer_age'].fillna(value=age['customer_age'].median(), inplace=True)\n",
    "#age = age.groupby(['purchase_price', 'customer_age'])['actual'].mean().to_frame().reset_index()\n",
    "sns.heatmap(income.pivot_table(index='purchase_price',columns=['customer_income'],values='actual',aggfunc='mean'),cmap='Blues',square=True)"
   ]
  },
  {
   "cell_type": "code",
   "execution_count": 64,
   "metadata": {},
   "outputs": [
    {
     "data": {
      "text/plain": [
       "<matplotlib.axes._subplots.AxesSubplot at 0x2a2804d30c8>"
      ]
     },
     "execution_count": 64,
     "metadata": {},
     "output_type": "execute_result"
    },
    {
     "data": {
      "image/png": "[encoded data removed]",
      "text/plain": [
       "<Figure size 432x288 with 2 Axes>"
      ]
     },
     "metadata": {
      "needs_background": "light"
     },
     "output_type": "display_data"
    }
   ],
   "source": [
    "subs = data.loc[data['purchase_price'] != '?']\n",
    "sns.heatmap(subs.pivot_table(index='subsequent_purchases',columns=['purchase_price'],values='trade_in',aggfunc='mean'),cmap='Blues',square=True)"
   ]
  },
  {
   "cell_type": "code",
   "execution_count": 65,
   "metadata": {},
   "outputs": [
    {
     "data": {
      "text/plain": [
       "<matplotlib.axes._subplots.AxesSubplot at 0x2a2802e9708>"
      ]
     },
     "execution_count": 65,
     "metadata": {},
     "output_type": "execute_result"
    },
    {
     "data": {
      "image/png": "[encoded data removed]",
      "text/plain": [
       "<Figure size 432x288 with 2 Axes>"
      ]
     },
     "metadata": {
      "needs_background": "light"
     },
     "output_type": "display_data"
    }
   ],
   "source": [
    "subs = data.loc[data['purchase_price'] != '?']\n",
    "sns.heatmap(subs.pivot_table(index='subsequent_purchases',columns=['purchase_price'],values='customer_previous_purchase',aggfunc='mean'),cmap='Blues',square=True)"
   ]
  },
  {
   "cell_type": "code",
   "execution_count": 66,
   "metadata": {},
   "outputs": [
    {
     "name": "stderr",
     "output_type": "stream",
     "text": [
      "C:\\Users\\999Na\\Anaconda3\\lib\\site-packages\\pandas\\core\\ops\\__init__.py:1115: FutureWarning:\n",
      "\n",
      "elementwise comparison failed; returning scalar instead, but in the future will perform elementwise comparison\n",
      "\n"
     ]
    },
    {
     "data": {
      "text/plain": [
       "<matplotlib.axes._subplots.AxesSubplot at 0x2a28243a408>"
      ]
     },
     "execution_count": 66,
     "metadata": {},
     "output_type": "execute_result"
    },
    {
     "data": {
      "image/png": "[encoded data removed]",
      "text/plain": [
       "<Figure size 432x288 with 2 Axes>"
      ]
     },
     "metadata": {
      "needs_background": "light"
     },
     "output_type": "display_data"
    }
   ],
   "source": [
    "dist = data.loc[data['customer_distance_to_dealer'] != '?']\n",
    "distance_bins = [-1,.1, 1.1, 5.1, 10.1, 25.1, 50.1, 100.1, 2500.1]\n",
    "distance_labels = [1,2,3,4,5,6,7,8]\n",
    "dist['distance_binned'] = pd.cut(dist['customer_distance_to_dealer'], bins=distance_bins, labels=distance_labels)\n",
    "\n",
    "sns.heatmap(dist.pivot_table(index='distance_binned', columns=['subsequent_purchases'], values='trade_in', aggfunc='mean'),cmap='Blues', square=True)\n"
   ]
  },
  {
   "cell_type": "code",
   "execution_count": 68,
   "metadata": {},
   "outputs": [
    {
     "data": {
      "text/plain": [
       "<matplotlib.axes._subplots.AxesSubplot at 0x2a282579408>"
      ]
     },
     "execution_count": 68,
     "metadata": {},
     "output_type": "execute_result"
    },
    {
     "data": {
      "image/png": "[encoded data removed]",
      "text/plain": [
       "<Figure size 432x288 with 2 Axes>"
      ]
     },
     "metadata": {
      "needs_background": "light"
     },
     "output_type": "display_data"
    }
   ],
   "source": [
    "sns.heatmap(dist.pivot_table(index='distance_binned', columns=['subsequent_purchases'], values='customer_previous_purchase', aggfunc='mean'),cmap='Blues', square=True)\n"
   ]
  }
 ],
 "metadata": {
  "kernelspec": {
   "display_name": "Python 3",
   "language": "python",
   "name": "python3"
  },
  "language_info": {
   "codemirror_mode": {
    "name": "ipython",
    "version": 3
   },
   "file_extension": ".py",
   "mimetype": "text/x-python",
   "name": "python",
   "nbconvert_exporter": "python",
   "pygments_lexer": "ipython3",
   "version": "3.7.4"
  }
 },
 "nbformat": 4,
 "nbformat_minor": 2
}
