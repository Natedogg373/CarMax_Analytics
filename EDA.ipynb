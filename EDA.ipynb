{
 "cells": [
  {
   "cell_type": "code",
   "execution_count": 2,
   "metadata": {},
   "outputs": [
    {
     "name": "stdout",
     "output_type": "stream",
     "text": [
      "insert_num                      int64\n",
      "purchase_make                  object\n",
      "purchase_model                 object\n",
      "purchase_vehicle_year           int64\n",
      "purchase_price                 object\n",
      "trade_in                        int64\n",
      "vehicle_financing               int64\n",
      "customer_age                   object\n",
      "customer_income                object\n",
      "customer_gender                object\n",
      "customer_previous_purchase      int64\n",
      "customer_distance_to_dealer    object\n",
      "post_purchase_satisfaction     object\n",
      "vehicle_warranty_used           int64\n",
      "subsequent_purchases            int64\n",
      "dtype: object\n"
     ]
    },
    {
     "data": {
      "text/html": [
       "<div>\n",
       "<style scoped>\n",
       "    .dataframe tbody tr th:only-of-type {\n",
       "        vertical-align: middle;\n",
       "    }\n",
       "\n",
       "    .dataframe tbody tr th {\n",
       "        vertical-align: top;\n",
       "    }\n",
       "\n",
       "    .dataframe thead th {\n",
       "        text-align: right;\n",
       "    }\n",
       "</style>\n",
       "<table border=\"1\" class=\"dataframe\">\n",
       "  <thead>\n",
       "    <tr style=\"text-align: right;\">\n",
       "      <th></th>\n",
       "      <th>insert_num</th>\n",
       "      <th>purchase_make</th>\n",
       "      <th>purchase_model</th>\n",
       "      <th>purchase_vehicle_year</th>\n",
       "      <th>purchase_price</th>\n",
       "      <th>trade_in</th>\n",
       "      <th>vehicle_financing</th>\n",
       "      <th>customer_age</th>\n",
       "      <th>customer_income</th>\n",
       "      <th>customer_gender</th>\n",
       "      <th>customer_previous_purchase</th>\n",
       "      <th>customer_distance_to_dealer</th>\n",
       "      <th>post_purchase_satisfaction</th>\n",
       "      <th>vehicle_warranty_used</th>\n",
       "      <th>subsequent_purchases</th>\n",
       "    </tr>\n",
       "  </thead>\n",
       "  <tbody>\n",
       "    <tr>\n",
       "      <td>3</td>\n",
       "      <td>360305</td>\n",
       "      <td>VOLVO</td>\n",
       "      <td>S40</td>\n",
       "      <td>2008</td>\n",
       "      <td>15001 - 20000</td>\n",
       "      <td>1</td>\n",
       "      <td>0</td>\n",
       "      <td>41 - 50</td>\n",
       "      <td>?</td>\n",
       "      <td>M</td>\n",
       "      <td>0</td>\n",
       "      <td>4</td>\n",
       "      <td>?</td>\n",
       "      <td>0</td>\n",
       "      <td>1</td>\n",
       "    </tr>\n",
       "    <tr>\n",
       "      <td>13</td>\n",
       "      <td>242460</td>\n",
       "      <td>MERCEDES-BENZ</td>\n",
       "      <td>CLK320</td>\n",
       "      <td>2005</td>\n",
       "      <td>15001 - 20000</td>\n",
       "      <td>0</td>\n",
       "      <td>0</td>\n",
       "      <td>41 - 50</td>\n",
       "      <td>?</td>\n",
       "      <td>F</td>\n",
       "      <td>1</td>\n",
       "      <td>6</td>\n",
       "      <td>?</td>\n",
       "      <td>1</td>\n",
       "      <td>0</td>\n",
       "    </tr>\n",
       "    <tr>\n",
       "      <td>17</td>\n",
       "      <td>109525</td>\n",
       "      <td>FORD</td>\n",
       "      <td>EXPLORER</td>\n",
       "      <td>2013</td>\n",
       "      <td>30001 - 35000</td>\n",
       "      <td>0</td>\n",
       "      <td>0</td>\n",
       "      <td>41 - 50</td>\n",
       "      <td>?</td>\n",
       "      <td>F</td>\n",
       "      <td>0</td>\n",
       "      <td>11</td>\n",
       "      <td>?</td>\n",
       "      <td>0</td>\n",
       "      <td>0</td>\n",
       "    </tr>\n",
       "    <tr>\n",
       "      <td>24</td>\n",
       "      <td>340117</td>\n",
       "      <td>TOYOTA</td>\n",
       "      <td>SIENNA</td>\n",
       "      <td>2011</td>\n",
       "      <td>20001 - 25000</td>\n",
       "      <td>0</td>\n",
       "      <td>0</td>\n",
       "      <td>41 - 50</td>\n",
       "      <td>?</td>\n",
       "      <td>M</td>\n",
       "      <td>0</td>\n",
       "      <td>13</td>\n",
       "      <td>?</td>\n",
       "      <td>0</td>\n",
       "      <td>0</td>\n",
       "    </tr>\n",
       "    <tr>\n",
       "      <td>28</td>\n",
       "      <td>58484</td>\n",
       "      <td>CHEVROLET</td>\n",
       "      <td>SILVERADO 2500</td>\n",
       "      <td>2005</td>\n",
       "      <td>20001 - 25000</td>\n",
       "      <td>1</td>\n",
       "      <td>0</td>\n",
       "      <td>71 - 80</td>\n",
       "      <td>?</td>\n",
       "      <td>M</td>\n",
       "      <td>0</td>\n",
       "      <td>140</td>\n",
       "      <td>?</td>\n",
       "      <td>0</td>\n",
       "      <td>0</td>\n",
       "    </tr>\n",
       "  </tbody>\n",
       "</table>\n",
       "</div>"
      ],
      "text/plain": [
       "    insert_num  purchase_make  purchase_model  purchase_vehicle_year  \\\n",
       "3       360305          VOLVO             S40                   2008   \n",
       "13      242460  MERCEDES-BENZ          CLK320                   2005   \n",
       "17      109525           FORD        EXPLORER                   2013   \n",
       "24      340117         TOYOTA          SIENNA                   2011   \n",
       "28       58484      CHEVROLET  SILVERADO 2500                   2005   \n",
       "\n",
       "   purchase_price  trade_in  vehicle_financing customer_age customer_income  \\\n",
       "3   15001 - 20000         1                  0      41 - 50               ?   \n",
       "13  15001 - 20000         0                  0      41 - 50               ?   \n",
       "17  30001 - 35000         0                  0      41 - 50               ?   \n",
       "24  20001 - 25000         0                  0      41 - 50               ?   \n",
       "28  20001 - 25000         1                  0      71 - 80               ?   \n",
       "\n",
       "   customer_gender  customer_previous_purchase customer_distance_to_dealer  \\\n",
       "3                M                           0                           4   \n",
       "13               F                           1                           6   \n",
       "17               F                           0                          11   \n",
       "24               M                           0                          13   \n",
       "28               M                           0                         140   \n",
       "\n",
       "   post_purchase_satisfaction  vehicle_warranty_used  subsequent_purchases  \n",
       "3                           ?                      0                     1  \n",
       "13                          ?                      1                     0  \n",
       "17                          ?                      0                     0  \n",
       "24                          ?                      0                     0  \n",
       "28                          ?                      0                     0  "
      ]
     },
     "execution_count": 2,
     "metadata": {},
     "output_type": "execute_result"
    }
   ],
   "source": [
    "import pandas as pd\n",
    "import seaborn as sns\n",
    "\n",
    "\n",
    "data = pd.read_csv('CaseCompetitionData.csv', sep=',')\n",
    "print(data.dtypes)\n",
    "data.loc[data['customer_income'] == '?'].head()"
   ]
  },
  {
   "cell_type": "code",
   "execution_count": 6,
   "metadata": {},
   "outputs": [
    {
     "name": "stdout",
     "output_type": "stream",
     "text": [
      "insert_num                     0\n",
      "purchase_make                  0\n",
      "purchase_model                 0\n",
      "purchase_vehicle_year          0\n",
      "purchase_price                 0\n",
      "trade_in                       0\n",
      "vehicle_financing              0\n",
      "customer_age                   0\n",
      "customer_income                0\n",
      "customer_gender                0\n",
      "customer_previous_purchase     0\n",
      "customer_distance_to_dealer    0\n",
      "post_purchase_satisfaction     0\n",
      "vehicle_warranty_used          0\n",
      "subsequent_purchases           0\n",
      "dtype: int64\n",
      "[ 0  9  1  2  4  3  7  8  5 10  6]\n",
      "361559\n",
      "307870\n",
      "360340\n",
      "49091\n",
      "6162\n",
      "3\n"
     ]
    }
   ],
   "source": [
    "print(data.isna().sum()) # checks to see if there are any null records\n",
    "print(data['subsequent_purchases'].unique()) # used this to check variable types in the rows => found '?'in 4\n",
    "print(len(data)) # len of data set\n",
    "# checking out missing data with conditionals\n",
    "print(len(data.loc[(data['purchase_price'] !='?') & (data['customer_income'] != '?') & (data['customer_distance_to_dealer'] != '?')])) \n",
    "print(len(data.loc[data['post_purchase_satisfaction'] == '?'])) #satisfaction survey is a small group of non null\n",
    "print(len(data.loc[data['customer_income'] == '?']))\n",
    "print(len(data.loc[data['customer_distance_to_dealer'] == '?']))\n",
    "print(len(data.loc[data['purchase_price'] == '?']))"
   ]
  },
  {
   "cell_type": "code",
   "execution_count": 4,
   "metadata": {},
   "outputs": [
    {
     "name": "stdout",
     "output_type": "stream",
     "text": [
      "   subsequent_purchases  insert_num\n",
      "0                     0      238004\n",
      "1                     1       98861\n",
      "2                     2       10363\n",
      "3                     3        3855\n",
      "4                     4        3173\n",
      "AxesSubplot(0.125,0.125;0.775x0.755)\n",
      "   percent_total  subsequent_purchases\n",
      "0      65.827154                     0\n",
      "1      27.342979                     1\n",
      "2       2.866199                     2\n",
      "3       1.066216                     3\n",
      "4       0.877588                     4\n",
      "5       0.563394                     5\n",
      "6       0.296494                     6\n",
      "7       0.300919                     7\n",
      "8       0.284877                     8\n",
      "9       0.302302                     9\n"
     ]
    },
    {
     "data": {
      "image/png": "[encoded data removed]",
      "text/plain": [
       "<Figure size 432x288 with 1 Axes>"
      ]
     },
     "metadata": {
      "needs_background": "light"
     },
     "output_type": "display_data"
    }
   ],
   "source": [
    "# reset index lets you create new data frame keeping the column names\n",
    "sub_pur = data.groupby('subsequent_purchases')['insert_num'].count().to_frame().reset_index()  \n",
    "print(sub_pur.head())\n",
    "ax = sns.barplot(x='subsequent_purchases', y='insert_num', data=sub_pur) # seeing subsequent purchase distribution\n",
    "print(ax)\n",
    "total = len(data['insert_num'])\n",
    "sub_pur['percent_total'] = sub_pur['insert_num']/total*100\n",
    "print(sub_pur[['percent_total', 'subsequent_purchases']].head(10)) # looking at it in tabel format\n",
    "# this also shows us that we are looking at a moderately unbalanced problem with roughly 34% being true positives"
   ]
  },
  {
   "cell_type": "code",
   "execution_count": 5,
   "metadata": {},
   "outputs": [
    {
     "data": {
      "text/plain": [
       "0.21135692929784627"
      ]
     },
     "execution_count": 5,
     "metadata": {},
     "output_type": "execute_result"
    }
   ],
   "source": [
    "data['customer_previous_purchase'].mean()\n"
   ]
  },
  {
   "cell_type": "code",
   "execution_count": 3,
   "metadata": {},
   "outputs": [
    {
     "data": {
      "image/png": "[encoded data removed]",
      "text/plain": [
       "<Figure size 432x288 with 1 Axes>"
      ]
     },
     "metadata": {
      "needs_background": "light"
     },
     "output_type": "display_data"
    }
   ],
   "source": [
    "#sns.violinplot(x=data['purchase_vehicle_year']) # simple check of what year people are buying cars (remember its 2013)\n",
    "year_parsed = data[data['purchase_vehicle_year'] >= 2000] # parsing to get a closer look at distribution\n",
    "year_parsed = year_parsed.groupby('purchase_vehicle_year')['insert_num'].count().to_frame().reset_index()\n",
    "sns.barplot(x='purchase_vehicle_year', y='insert_num', data=year_parsed)\n",
    "#2010-2012 hold vast majority of purchases\n",
    "\n",
    "year_parsed.to_csv('purchase_year_distribution.csv')"
   ]
  },
  {
   "cell_type": "code",
   "execution_count": 5,
   "metadata": {},
   "outputs": [],
   "source": [
    "distance_dist = data.groupby('customer_distance_to_dealer')['insert_num'].count().to_frame().reset_index()\n",
    "distance_dist.to_csv('distance_dist.csv')"
   ]
  },
  {
   "cell_type": "code",
   "execution_count": 4,
   "metadata": {},
   "outputs": [
    {
     "data": {
      "image/png": "[encoded data removed]",
      "text/plain": [
       "<Figure size 432x288 with 1 Axes>"
      ]
     },
     "metadata": {
      "needs_background": "light"
     },
     "output_type": "display_data"
    }
   ],
   "source": [
    "price_count = data.groupby('purchase_price')['insert_num'].count().to_frame().reset_index()\n",
    "sns.barplot(x='purchase_price', y='insert_num', data=price_count)\n",
    "price_count\n",
    "#most cars in 10,000 - 35,000 range, makes sense\n",
    "price_count.to_csv('purchase_price_distribution.csv')"
   ]
  },
  {
   "cell_type": "code",
   "execution_count": 7,
   "metadata": {},
   "outputs": [],
   "source": [
    "income_dist = data.groupby('customer_income')['insert_num'].count().to_frame().reset_index()\n",
    "income_dist.to_csv('income_dist.csv')"
   ]
  },
  {
   "cell_type": "code",
   "execution_count": 11,
   "metadata": {
    "scrolled": false
   },
   "outputs": [],
   "source": [
    "data.groupby('trade_in')['insert_num'].count().to_frame().to_csv('trade_dist.csv')\n",
    "data.groupby('vehicle_warranty_used')['insert_num'].count().to_frame().to_csv('warranty_dist.csv')\n",
    "data.groupby('customer_previous_purchase')['insert_num'].count().to_frame().to_csv('prev_dist.csv')\n",
    "data.groupby('vehicle_financing')['insert_num'].count().to_frame().to_csv('fin_dist.csv')"
   ]
  },
  {
   "cell_type": "code",
   "execution_count": null,
   "metadata": {},
   "outputs": [],
   "source": []
  },
  {
   "cell_type": "code",
   "execution_count": null,
   "metadata": {},
   "outputs": [],
   "source": []
  },
  {
   "cell_type": "code",
   "execution_count": 9,
   "metadata": {
    "scrolled": true
   },
   "outputs": [],
   "source": [
    "data['actual'] = 1\n",
    "data.loc[data['subsequent_purchases'] == 0, 'actual'] = 0"
   ]
  },
  {
   "cell_type": "code",
   "execution_count": 10,
   "metadata": {},
   "outputs": [
    {
     "data": {
      "text/html": [
       "<div>\n",
       "<style scoped>\n",
       "    .dataframe tbody tr th:only-of-type {\n",
       "        vertical-align: middle;\n",
       "    }\n",
       "\n",
       "    .dataframe tbody tr th {\n",
       "        vertical-align: top;\n",
       "    }\n",
       "\n",
       "    .dataframe thead th {\n",
       "        text-align: right;\n",
       "    }\n",
       "</style>\n",
       "<table border=\"1\" class=\"dataframe\">\n",
       "  <thead>\n",
       "    <tr style=\"text-align: right;\">\n",
       "      <th></th>\n",
       "      <th>purchase_vehicle_year</th>\n",
       "      <th>insert_num</th>\n",
       "    </tr>\n",
       "  </thead>\n",
       "  <tbody>\n",
       "    <tr>\n",
       "      <td>0</td>\n",
       "      <td>2000</td>\n",
       "      <td>225</td>\n",
       "    </tr>\n",
       "    <tr>\n",
       "      <td>1</td>\n",
       "      <td>2001</td>\n",
       "      <td>252</td>\n",
       "    </tr>\n",
       "    <tr>\n",
       "      <td>2</td>\n",
       "      <td>2002</td>\n",
       "      <td>1382</td>\n",
       "    </tr>\n",
       "    <tr>\n",
       "      <td>3</td>\n",
       "      <td>2003</td>\n",
       "      <td>3518</td>\n",
       "    </tr>\n",
       "    <tr>\n",
       "      <td>4</td>\n",
       "      <td>2004</td>\n",
       "      <td>5637</td>\n",
       "    </tr>\n",
       "    <tr>\n",
       "      <td>5</td>\n",
       "      <td>2005</td>\n",
       "      <td>8306</td>\n",
       "    </tr>\n",
       "    <tr>\n",
       "      <td>6</td>\n",
       "      <td>2006</td>\n",
       "      <td>13387</td>\n",
       "    </tr>\n",
       "    <tr>\n",
       "      <td>7</td>\n",
       "      <td>2007</td>\n",
       "      <td>19204</td>\n",
       "    </tr>\n",
       "    <tr>\n",
       "      <td>8</td>\n",
       "      <td>2008</td>\n",
       "      <td>22247</td>\n",
       "    </tr>\n",
       "    <tr>\n",
       "      <td>9</td>\n",
       "      <td>2009</td>\n",
       "      <td>19091</td>\n",
       "    </tr>\n",
       "    <tr>\n",
       "      <td>10</td>\n",
       "      <td>2010</td>\n",
       "      <td>45687</td>\n",
       "    </tr>\n",
       "    <tr>\n",
       "      <td>11</td>\n",
       "      <td>2011</td>\n",
       "      <td>40887</td>\n",
       "    </tr>\n",
       "    <tr>\n",
       "      <td>12</td>\n",
       "      <td>2012</td>\n",
       "      <td>41639</td>\n",
       "    </tr>\n",
       "    <tr>\n",
       "      <td>13</td>\n",
       "      <td>2013</td>\n",
       "      <td>15273</td>\n",
       "    </tr>\n",
       "    <tr>\n",
       "      <td>14</td>\n",
       "      <td>2014</td>\n",
       "      <td>642</td>\n",
       "    </tr>\n",
       "  </tbody>\n",
       "</table>\n",
       "</div>"
      ],
      "text/plain": [
       "    purchase_vehicle_year  insert_num\n",
       "0                    2000         225\n",
       "1                    2001         252\n",
       "2                    2002        1382\n",
       "3                    2003        3518\n",
       "4                    2004        5637\n",
       "5                    2005        8306\n",
       "6                    2006       13387\n",
       "7                    2007       19204\n",
       "8                    2008       22247\n",
       "9                    2009       19091\n",
       "10                   2010       45687\n",
       "11                   2011       40887\n",
       "12                   2012       41639\n",
       "13                   2013       15273\n",
       "14                   2014         642"
      ]
     },
     "execution_count": 10,
     "metadata": {},
     "output_type": "execute_result"
    },
    {
     "data": {
      "image/png": "[encoded data removed]",
      "text/plain": [
       "<Figure size 432x288 with 1 Axes>"
      ]
     },
     "metadata": {
      "needs_background": "light"
     },
     "output_type": "display_data"
    }
   ],
   "source": [
    "trade_in_yes = data.loc[(data['actual'] == 1) & (data['purchase_vehicle_year'] >= 2000)].groupby('purchase_vehicle_year')['insert_num'].count().to_frame().reset_index()\n",
    "trade_in_no = data.loc[(data['actual'] == 0) & (data['purchase_vehicle_year'] >= 2000)].groupby('purchase_vehicle_year')['insert_num'].count().to_frame().reset_index()\n",
    "sns.barplot(x='purchase_vehicle_year', y='insert_num', data=trade_in_yes)\n",
    "trade_in_yes\n",
    "trade_in_no\n",
    "# "
   ]
  },
  {
   "cell_type": "code",
   "execution_count": 11,
   "metadata": {},
   "outputs": [
    {
     "data": {
      "text/plain": [
       "<matplotlib.axes._subplots.AxesSubplot at 0x240a8158f08>"
      ]
     },
     "execution_count": 11,
     "metadata": {},
     "output_type": "execute_result"
    },
    {
     "data": {
      "image/png": "[encoded data removed]",
      "text/plain": [
       "<Figure size 432x288 with 1 Axes>"
      ]
     },
     "metadata": {
      "needs_background": "light"
     },
     "output_type": "display_data"
    }
   ],
   "source": [
    "#sns.barplot(x='purchase_vehicle_year', y='insert_num', data=trade_in_no)\n",
    "trade_in_ratio = data.loc[data['purchase_vehicle_year'] >= 2000].groupby('purchase_vehicle_year')['actual'].mean().to_frame().reset_index()\n",
    "sns.barplot(x='purchase_vehicle_year', y='actual', data=trade_in_ratio)\n",
    "\n",
    "# while newer trade ins (2010 - 2012) make up the bulk of repeat customers (like most other categories) older cars have \n",
    "# the higher ratio of repeat buyers"
   ]
  },
  {
   "cell_type": "code",
   "execution_count": null,
   "metadata": {},
   "outputs": [],
   "source": []
  },
  {
   "cell_type": "code",
   "execution_count": 12,
   "metadata": {},
   "outputs": [
    {
     "data": {
      "text/html": [
       "<div>\n",
       "<style scoped>\n",
       "    .dataframe tbody tr th:only-of-type {\n",
       "        vertical-align: middle;\n",
       "    }\n",
       "\n",
       "    .dataframe tbody tr th {\n",
       "        vertical-align: top;\n",
       "    }\n",
       "\n",
       "    .dataframe thead th {\n",
       "        text-align: right;\n",
       "    }\n",
       "</style>\n",
       "<table border=\"1\" class=\"dataframe\">\n",
       "  <thead>\n",
       "    <tr style=\"text-align: right;\">\n",
       "      <th></th>\n",
       "      <th>post_purchase_satisfaction</th>\n",
       "      <th>actual</th>\n",
       "    </tr>\n",
       "  </thead>\n",
       "  <tbody>\n",
       "    <tr>\n",
       "      <td>0</td>\n",
       "      <td>0</td>\n",
       "      <td>12</td>\n",
       "    </tr>\n",
       "    <tr>\n",
       "      <td>1</td>\n",
       "      <td>1</td>\n",
       "      <td>1</td>\n",
       "    </tr>\n",
       "    <tr>\n",
       "      <td>2</td>\n",
       "      <td>10</td>\n",
       "      <td>819</td>\n",
       "    </tr>\n",
       "    <tr>\n",
       "      <td>3</td>\n",
       "      <td>3</td>\n",
       "      <td>5</td>\n",
       "    </tr>\n",
       "    <tr>\n",
       "      <td>4</td>\n",
       "      <td>4</td>\n",
       "      <td>6</td>\n",
       "    </tr>\n",
       "    <tr>\n",
       "      <td>5</td>\n",
       "      <td>5</td>\n",
       "      <td>12</td>\n",
       "    </tr>\n",
       "    <tr>\n",
       "      <td>6</td>\n",
       "      <td>6</td>\n",
       "      <td>13</td>\n",
       "    </tr>\n",
       "    <tr>\n",
       "      <td>7</td>\n",
       "      <td>7</td>\n",
       "      <td>34</td>\n",
       "    </tr>\n",
       "    <tr>\n",
       "      <td>8</td>\n",
       "      <td>8</td>\n",
       "      <td>94</td>\n",
       "    </tr>\n",
       "    <tr>\n",
       "      <td>9</td>\n",
       "      <td>9</td>\n",
       "      <td>223</td>\n",
       "    </tr>\n",
       "  </tbody>\n",
       "</table>\n",
       "</div>"
      ],
      "text/plain": [
       "  post_purchase_satisfaction  actual\n",
       "0                          0      12\n",
       "1                          1       1\n",
       "2                         10     819\n",
       "3                          3       5\n",
       "4                          4       6\n",
       "5                          5      12\n",
       "6                          6      13\n",
       "7                          7      34\n",
       "8                          8      94\n",
       "9                          9     223"
      ]
     },
     "execution_count": 12,
     "metadata": {},
     "output_type": "execute_result"
    },
    {
     "data": {
      "image/png": "[encoded data removed]",
      "text/plain": [
       "<Figure size 432x288 with 1 Axes>"
      ]
     },
     "metadata": {
      "needs_background": "light"
     },
     "output_type": "display_data"
    }
   ],
   "source": [
    "data_1 = data.loc[data['post_purchase_satisfaction'] != '?'].groupby('post_purchase_satisfaction')['actual'].count().to_frame().reset_index()\n",
    "\n",
    "data_2 = data.loc[data['post_purchase_satisfaction'] != '?'].groupby('post_purchase_satisfaction')['actual'].mean().to_frame().reset_index()\n",
    "\n",
    "sns.barplot(x='post_purchase_satisfaction', y='actual', data=data_2)\n",
    "data_1.head(10)"
   ]
  },
  {
   "cell_type": "code",
   "execution_count": null,
   "metadata": {},
   "outputs": [],
   "source": [
    "\n"
   ]
  },
  {
   "cell_type": "code",
   "execution_count": null,
   "metadata": {},
   "outputs": [],
   "source": []
  },
  {
   "cell_type": "code",
   "execution_count": null,
   "metadata": {},
   "outputs": [],
   "source": []
  },
  {
   "cell_type": "code",
   "execution_count": null,
   "metadata": {},
   "outputs": [],
   "source": []
  },
  {
   "cell_type": "code",
   "execution_count": null,
   "metadata": {},
   "outputs": [],
   "source": []
  }
 ],
 "metadata": {
  "kernelspec": {
   "display_name": "Python 3",
   "language": "python",
   "name": "python3"
  },
  "language_info": {
   "codemirror_mode": {
    "name": "ipython",
    "version": 3
   },
   "file_extension": ".py",
   "mimetype": "text/x-python",
   "name": "python",
   "nbconvert_exporter": "python",
   "pygments_lexer": "ipython3",
   "version": "3.7.4"
  }
 },
 "nbformat": 4,
 "nbformat_minor": 2
}
