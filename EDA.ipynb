{
 "cells": [
  {
   "cell_type": "code",
   "execution_count": 2,
   "metadata": {},
   "outputs": [
    {
     "data": {
      "text/html": [
       "<div>\n",
       "<style scoped>\n",
       "    .dataframe tbody tr th:only-of-type {\n",
       "        vertical-align: middle;\n",
       "    }\n",
       "\n",
       "    .dataframe tbody tr th {\n",
       "        vertical-align: top;\n",
       "    }\n",
       "\n",
       "    .dataframe thead th {\n",
       "        text-align: right;\n",
       "    }\n",
       "</style>\n",
       "<table border=\"1\" class=\"dataframe\">\n",
       "  <thead>\n",
       "    <tr style=\"text-align: right;\">\n",
       "      <th></th>\n",
       "      <th>insert_num</th>\n",
       "      <th>purchase_make</th>\n",
       "      <th>purchase_model</th>\n",
       "      <th>purchase_vehicle_year</th>\n",
       "      <th>purchase_price</th>\n",
       "      <th>trade_in</th>\n",
       "      <th>vehicle_financing</th>\n",
       "      <th>customer_age</th>\n",
       "      <th>customer_income</th>\n",
       "      <th>customer_gender</th>\n",
       "      <th>customer_previous_purchase</th>\n",
       "      <th>customer_distance_to_dealer</th>\n",
       "      <th>post_purchase_satisfaction</th>\n",
       "      <th>vehicle_warranty_used</th>\n",
       "      <th>subsequent_purchases</th>\n",
       "    </tr>\n",
       "  </thead>\n",
       "  <tbody>\n",
       "    <tr>\n",
       "      <td>0</td>\n",
       "      <td>81690</td>\n",
       "      <td>DODGE</td>\n",
       "      <td>CHARGER</td>\n",
       "      <td>2010</td>\n",
       "      <td>10001 - 15000</td>\n",
       "      <td>0</td>\n",
       "      <td>0</td>\n",
       "      <td>21 - 30</td>\n",
       "      <td>20001 - 40000</td>\n",
       "      <td>U</td>\n",
       "      <td>0</td>\n",
       "      <td>9</td>\n",
       "      <td>?</td>\n",
       "      <td>1</td>\n",
       "      <td>0</td>\n",
       "    </tr>\n",
       "    <tr>\n",
       "      <td>1</td>\n",
       "      <td>109994</td>\n",
       "      <td>FORD</td>\n",
       "      <td>EXPLORER SPORT TRAC</td>\n",
       "      <td>2007</td>\n",
       "      <td>15001 - 20000</td>\n",
       "      <td>0</td>\n",
       "      <td>1</td>\n",
       "      <td>61 - 70</td>\n",
       "      <td>20001 - 40000</td>\n",
       "      <td>M</td>\n",
       "      <td>1</td>\n",
       "      <td>15</td>\n",
       "      <td>?</td>\n",
       "      <td>0</td>\n",
       "      <td>0</td>\n",
       "    </tr>\n",
       "    <tr>\n",
       "      <td>2</td>\n",
       "      <td>11399</td>\n",
       "      <td>BMW</td>\n",
       "      <td>328</td>\n",
       "      <td>2010</td>\n",
       "      <td>20001 - 25000</td>\n",
       "      <td>1</td>\n",
       "      <td>1</td>\n",
       "      <td>31 - 40</td>\n",
       "      <td>80001 - 100000</td>\n",
       "      <td>F</td>\n",
       "      <td>1</td>\n",
       "      <td>18</td>\n",
       "      <td>?</td>\n",
       "      <td>0</td>\n",
       "      <td>9</td>\n",
       "    </tr>\n",
       "    <tr>\n",
       "      <td>3</td>\n",
       "      <td>360305</td>\n",
       "      <td>VOLVO</td>\n",
       "      <td>S40</td>\n",
       "      <td>2008</td>\n",
       "      <td>15001 - 20000</td>\n",
       "      <td>1</td>\n",
       "      <td>0</td>\n",
       "      <td>41 - 50</td>\n",
       "      <td>?</td>\n",
       "      <td>M</td>\n",
       "      <td>0</td>\n",
       "      <td>4</td>\n",
       "      <td>?</td>\n",
       "      <td>0</td>\n",
       "      <td>1</td>\n",
       "    </tr>\n",
       "    <tr>\n",
       "      <td>4</td>\n",
       "      <td>36685</td>\n",
       "      <td>CHEVROLET</td>\n",
       "      <td>CRUZE</td>\n",
       "      <td>2012</td>\n",
       "      <td>10001 - 15000</td>\n",
       "      <td>1</td>\n",
       "      <td>1</td>\n",
       "      <td>21 - 30</td>\n",
       "      <td>40001 - 60000</td>\n",
       "      <td>M</td>\n",
       "      <td>0</td>\n",
       "      <td>2</td>\n",
       "      <td>?</td>\n",
       "      <td>0</td>\n",
       "      <td>0</td>\n",
       "    </tr>\n",
       "  </tbody>\n",
       "</table>\n",
       "</div>"
      ],
      "text/plain": [
       "   insert_num purchase_make       purchase_model  purchase_vehicle_year  \\\n",
       "0       81690         DODGE              CHARGER                   2010   \n",
       "1      109994          FORD  EXPLORER SPORT TRAC                   2007   \n",
       "2       11399           BMW                  328                   2010   \n",
       "3      360305         VOLVO                  S40                   2008   \n",
       "4       36685     CHEVROLET                CRUZE                   2012   \n",
       "\n",
       "  purchase_price  trade_in  vehicle_financing customer_age customer_income  \\\n",
       "0  10001 - 15000         0                  0      21 - 30   20001 - 40000   \n",
       "1  15001 - 20000         0                  1      61 - 70   20001 - 40000   \n",
       "2  20001 - 25000         1                  1      31 - 40  80001 - 100000   \n",
       "3  15001 - 20000         1                  0      41 - 50               ?   \n",
       "4  10001 - 15000         1                  1      21 - 30   40001 - 60000   \n",
       "\n",
       "  customer_gender  customer_previous_purchase customer_distance_to_dealer  \\\n",
       "0               U                           0                           9   \n",
       "1               M                           1                          15   \n",
       "2               F                           1                          18   \n",
       "3               M                           0                           4   \n",
       "4               M                           0                           2   \n",
       "\n",
       "  post_purchase_satisfaction  vehicle_warranty_used  subsequent_purchases  \n",
       "0                          ?                      1                     0  \n",
       "1                          ?                      0                     0  \n",
       "2                          ?                      0                     9  \n",
       "3                          ?                      0                     1  \n",
       "4                          ?                      0                     0  "
      ]
     },
     "execution_count": 2,
     "metadata": {},
     "output_type": "execute_result"
    }
   ],
   "source": [
    "import pandas as pd\n",
    "import seaborn as sns\n",
    "\n",
    "\n",
    "data = pd.read_csv('CaseCompetitionData.csv', sep=',')\n",
    "data.head(5)"
   ]
  },
  {
   "cell_type": "code",
   "execution_count": 3,
   "metadata": {},
   "outputs": [
    {
     "name": "stdout",
     "output_type": "stream",
     "text": [
      "insert_num                     0\n",
      "purchase_make                  0\n",
      "purchase_model                 0\n",
      "purchase_vehicle_year          0\n",
      "purchase_price                 0\n",
      "trade_in                       0\n",
      "vehicle_financing              0\n",
      "customer_age                   0\n",
      "customer_income                0\n",
      "customer_gender                0\n",
      "customer_previous_purchase     0\n",
      "customer_distance_to_dealer    0\n",
      "post_purchase_satisfaction     0\n",
      "vehicle_warranty_used          0\n",
      "subsequent_purchases           0\n",
      "dtype: int64\n",
      "[ 0  9  1  2  4  3  7  8  5 10  6]\n",
      "361559\n",
      "307870\n",
      "1219\n"
     ]
    }
   ],
   "source": [
    "print(data.isna().sum()) # checks to see if there are any null records\n",
    "print(data['subsequent_purchases'].unique()) # used this to check variable types in the rows => found '?'in 4\n",
    "print(len(data)) # len of data set\n",
    "# checking out missing data with conditionals\n",
    "print(len(data.loc[(data['purchase_price'] !='?') & (data['customer_income'] != '?') & (data['customer_distance_to_dealer'] != '?')])) \n",
    "print(len(data.loc[data['post_purchase_satisfaction'] != '?'])) #satisfaction survey is a small group of non null"
   ]
  },
  {
   "cell_type": "code",
   "execution_count": 4,
   "metadata": {},
   "outputs": [
    {
     "name": "stdout",
     "output_type": "stream",
     "text": [
      "   subsequent_purchases  insert_num\n",
      "0                     0      238004\n",
      "1                     1       98861\n",
      "2                     2       10363\n",
      "3                     3        3855\n",
      "4                     4        3173\n",
      "AxesSubplot(0.125,0.125;0.775x0.755)\n",
      "   percent_total  subsequent_purchases\n",
      "0      65.827154                     0\n",
      "1      27.342979                     1\n",
      "2       2.866199                     2\n",
      "3       1.066216                     3\n",
      "4       0.877588                     4\n",
      "5       0.563394                     5\n",
      "6       0.296494                     6\n",
      "7       0.300919                     7\n",
      "8       0.284877                     8\n",
      "9       0.302302                     9\n"
     ]
    },
    {
     "data": {
      "image/png": "[encoded data removed]",
      "text/plain": [
       "<Figure size 432x288 with 1 Axes>"
      ]
     },
     "metadata": {
      "needs_background": "light"
     },
     "output_type": "display_data"
    }
   ],
   "source": [
    "# reset index lets you create new data frame keeping the column names\n",
    "sub_pur = data.groupby('subsequent_purchases')['insert_num'].count().to_frame().reset_index()  \n",
    "print(sub_pur.head())\n",
    "ax = sns.barplot(x='subsequent_purchases', y='insert_num', data=sub_pur) # seeing subsequent purchase distribution\n",
    "print(ax)\n",
    "total = len(data['insert_num'])\n",
    "sub_pur['percent_total'] = sub_pur['insert_num']/total*100\n",
    "print(sub_pur[['percent_total', 'subsequent_purchases']].head(10)) # looking at it in tabel format\n",
    "# this also shows us that we are looking at a moderately unbalanced problem with roughly 34% being true positives"
   ]
  },
  {
   "cell_type": "code",
   "execution_count": 13,
   "metadata": {},
   "outputs": [
    {
     "data": {
      "text/plain": [
       "<matplotlib.axes._subplots.AxesSubplot at 0x17d66f7a648>"
      ]
     },
     "execution_count": 13,
     "metadata": {},
     "output_type": "execute_result"
    },
    {
     "data": {
      "image/png": "[encoded data removed]",
      "text/plain": [
       "<Figure size 432x288 with 1 Axes>"
      ]
     },
     "metadata": {
      "needs_background": "light"
     },
     "output_type": "display_data"
    }
   ],
   "source": [
    "#sns.violinplot(x=data['purchase_vehicle_year']) # simple check of what year people are buying cars (remember its 2013)\n",
    "year_parsed = data[data['purchase_vehicle_year'] >= 2000] # parsing to get a closer look at distribution\n",
    "year_parsed = year_parsed.groupby('purchase_vehicle_year')['insert_num'].count().to_frame().reset_index()\n",
    "sns.barplot(x='purchase_vehicle_year', y='insert_num', data=year_parsed)\n",
    "#2010-2012 hold vast majority of purchases"
   ]
  },
  {
   "cell_type": "code",
   "execution_count": 16,
   "metadata": {},
   "outputs": [
    {
     "data": {
      "text/plain": [
       "<matplotlib.axes._subplots.AxesSubplot at 0x17d672b6048>"
      ]
     },
     "execution_count": 16,
     "metadata": {},
     "output_type": "execute_result"
    },
    {
     "data": {
      "image/png": "[encoded data removed]",
      "text/plain": [
       "<Figure size 432x288 with 1 Axes>"
      ]
     },
     "metadata": {
      "needs_background": "light"
     },
     "output_type": "display_data"
    }
   ],
   "source": [
    "data['actual'] = 1\n",
    "data.loc[data['subsequent_purchases'] == 0, 'actual'] = 0 # creating a label that will be used later in machine learning\n",
    "subs = data.loc[data['purchase_vehicle_year'] >= 2000]\n",
    "sns.violinplot(x=subs['actual'], y=subs['purchase_vehicle_year']) # checking distribution of car year models against whether they are repeat customers\n",
    "#looks like a rather similar distribution so this might not be entirely too telling"
   ]
  },
  {
   "cell_type": "code",
   "execution_count": 15,
   "metadata": {},
   "outputs": [
    {
     "data": {
      "text/html": [
       "<div>\n",
       "<style scoped>\n",
       "    .dataframe tbody tr th:only-of-type {\n",
       "        vertical-align: middle;\n",
       "    }\n",
       "\n",
       "    .dataframe tbody tr th {\n",
       "        vertical-align: top;\n",
       "    }\n",
       "\n",
       "    .dataframe thead th {\n",
       "        text-align: right;\n",
       "    }\n",
       "</style>\n",
       "<table border=\"1\" class=\"dataframe\">\n",
       "  <thead>\n",
       "    <tr style=\"text-align: right;\">\n",
       "      <th></th>\n",
       "      <th>purchase_price</th>\n",
       "      <th>insert_num</th>\n",
       "    </tr>\n",
       "  </thead>\n",
       "  <tbody>\n",
       "    <tr>\n",
       "      <td>0</td>\n",
       "      <td>0 - 5000</td>\n",
       "      <td>4425</td>\n",
       "    </tr>\n",
       "    <tr>\n",
       "      <td>1</td>\n",
       "      <td>10001 - 15000</td>\n",
       "      <td>101301</td>\n",
       "    </tr>\n",
       "    <tr>\n",
       "      <td>2</td>\n",
       "      <td>15001 - 20000</td>\n",
       "      <td>118303</td>\n",
       "    </tr>\n",
       "    <tr>\n",
       "      <td>3</td>\n",
       "      <td>20001 - 25000</td>\n",
       "      <td>66408</td>\n",
       "    </tr>\n",
       "    <tr>\n",
       "      <td>4</td>\n",
       "      <td>25001 - 30000</td>\n",
       "      <td>32352</td>\n",
       "    </tr>\n",
       "    <tr>\n",
       "      <td>5</td>\n",
       "      <td>30001 - 35000</td>\n",
       "      <td>15274</td>\n",
       "    </tr>\n",
       "    <tr>\n",
       "      <td>6</td>\n",
       "      <td>35001 - 40000</td>\n",
       "      <td>7276</td>\n",
       "    </tr>\n",
       "    <tr>\n",
       "      <td>7</td>\n",
       "      <td>40001 - 45000</td>\n",
       "      <td>3061</td>\n",
       "    </tr>\n",
       "    <tr>\n",
       "      <td>8</td>\n",
       "      <td>45001 - 50000</td>\n",
       "      <td>1577</td>\n",
       "    </tr>\n",
       "    <tr>\n",
       "      <td>9</td>\n",
       "      <td>50001 - 55000</td>\n",
       "      <td>681</td>\n",
       "    </tr>\n",
       "    <tr>\n",
       "      <td>10</td>\n",
       "      <td>5001 - 10000</td>\n",
       "      <td>10039</td>\n",
       "    </tr>\n",
       "    <tr>\n",
       "      <td>11</td>\n",
       "      <td>55001 - 60000</td>\n",
       "      <td>376</td>\n",
       "    </tr>\n",
       "    <tr>\n",
       "      <td>12</td>\n",
       "      <td>60001 - 65000</td>\n",
       "      <td>208</td>\n",
       "    </tr>\n",
       "    <tr>\n",
       "      <td>13</td>\n",
       "      <td>65001 - 70000</td>\n",
       "      <td>136</td>\n",
       "    </tr>\n",
       "    <tr>\n",
       "      <td>14</td>\n",
       "      <td>70001 - 75000</td>\n",
       "      <td>64</td>\n",
       "    </tr>\n",
       "    <tr>\n",
       "      <td>15</td>\n",
       "      <td>75001 - 80000</td>\n",
       "      <td>40</td>\n",
       "    </tr>\n",
       "    <tr>\n",
       "      <td>16</td>\n",
       "      <td>80001 - 85000</td>\n",
       "      <td>14</td>\n",
       "    </tr>\n",
       "    <tr>\n",
       "      <td>17</td>\n",
       "      <td>85001 - 90000</td>\n",
       "      <td>17</td>\n",
       "    </tr>\n",
       "    <tr>\n",
       "      <td>18</td>\n",
       "      <td>90001 - 95000</td>\n",
       "      <td>4</td>\n",
       "    </tr>\n",
       "    <tr>\n",
       "      <td>19</td>\n",
       "      <td>?</td>\n",
       "      <td>3</td>\n",
       "    </tr>\n",
       "  </tbody>\n",
       "</table>\n",
       "</div>"
      ],
      "text/plain": [
       "   purchase_price  insert_num\n",
       "0        0 - 5000        4425\n",
       "1   10001 - 15000      101301\n",
       "2   15001 - 20000      118303\n",
       "3   20001 - 25000       66408\n",
       "4   25001 - 30000       32352\n",
       "5   30001 - 35000       15274\n",
       "6   35001 - 40000        7276\n",
       "7   40001 - 45000        3061\n",
       "8   45001 - 50000        1577\n",
       "9   50001 - 55000         681\n",
       "10   5001 - 10000       10039\n",
       "11  55001 - 60000         376\n",
       "12  60001 - 65000         208\n",
       "13  65001 - 70000         136\n",
       "14  70001 - 75000          64\n",
       "15  75001 - 80000          40\n",
       "16  80001 - 85000          14\n",
       "17  85001 - 90000          17\n",
       "18  90001 - 95000           4\n",
       "19              ?           3"
      ]
     },
     "execution_count": 15,
     "metadata": {},
     "output_type": "execute_result"
    },
    {
     "data": {
      "image/png": "[encoded data removed]",
      "text/plain": [
       "<Figure size 432x288 with 1 Axes>"
      ]
     },
     "metadata": {
      "needs_background": "light"
     },
     "output_type": "display_data"
    }
   ],
   "source": [
    "price_count = data.groupby('purchase_price')['insert_num'].count().to_frame().reset_index()\n",
    "sns.barplot(x='purchase_price', y='insert_num', data=price_count)\n",
    "price_count\n",
    "#most cars in 10,000 - 35,000 range, makes sense"
   ]
  },
  {
   "cell_type": "code",
   "execution_count": 110,
   "metadata": {
    "scrolled": false
   },
   "outputs": [
    {
     "name": "stdout",
     "output_type": "stream",
     "text": [
      "360405\n",
      "  customer_age  actual\n",
      "0       0 - 20    6343\n",
      "1         101+    1311\n",
      "2      21 - 30   84906\n",
      "3      31 - 40   89749\n",
      "4      41 - 50   85678\n",
      "5      51 - 60   55469\n",
      "6      61 - 70   26325\n",
      "7      71 - 80    8217\n",
      "8      81 - 90    2243\n",
      "9     91 - 100     164\n"
     ]
    },
    {
     "data": {
      "text/plain": [
       "<matplotlib.axes._subplots.AxesSubplot at 0x20b47461488>"
      ]
     },
     "execution_count": 110,
     "metadata": {},
     "output_type": "execute_result"
    },
    {
     "data": {
      "image/png": "[encoded data removed]",
      "text/plain": [
       "<Figure size 432x288 with 1 Axes>"
      ]
     },
     "metadata": {
      "needs_background": "light"
     },
     "output_type": "display_data"
    }
   ],
   "source": [
    "print(len(data[data['customer_age'] != '?'])) # only a couple people have unknown ages\n",
    "age_counts = data.groupby('customer_age')['actual'].count().to_frame().reset_index()\n",
    "print(age_counts.head(10))\n",
    "sns.barplot(x='customer_age', y='actual', data=age_counts)"
   ]
  },
  {
   "cell_type": "code",
   "execution_count": 18,
   "metadata": {},
   "outputs": [
    {
     "data": {
      "text/html": [
       "<div>\n",
       "<style scoped>\n",
       "    .dataframe tbody tr th:only-of-type {\n",
       "        vertical-align: middle;\n",
       "    }\n",
       "\n",
       "    .dataframe tbody tr th {\n",
       "        vertical-align: top;\n",
       "    }\n",
       "\n",
       "    .dataframe thead th {\n",
       "        text-align: right;\n",
       "    }\n",
       "</style>\n",
       "<table border=\"1\" class=\"dataframe\">\n",
       "  <thead>\n",
       "    <tr style=\"text-align: right;\">\n",
       "      <th></th>\n",
       "      <th>customer_age</th>\n",
       "      <th>actual</th>\n",
       "    </tr>\n",
       "  </thead>\n",
       "  <tbody>\n",
       "    <tr>\n",
       "      <td>0</td>\n",
       "      <td>0 - 20</td>\n",
       "      <td>0.364654</td>\n",
       "    </tr>\n",
       "    <tr>\n",
       "      <td>1</td>\n",
       "      <td>101+</td>\n",
       "      <td>0.447750</td>\n",
       "    </tr>\n",
       "    <tr>\n",
       "      <td>2</td>\n",
       "      <td>21 - 30</td>\n",
       "      <td>0.338410</td>\n",
       "    </tr>\n",
       "    <tr>\n",
       "      <td>3</td>\n",
       "      <td>31 - 40</td>\n",
       "      <td>0.335046</td>\n",
       "    </tr>\n",
       "    <tr>\n",
       "      <td>4</td>\n",
       "      <td>41 - 50</td>\n",
       "      <td>0.347510</td>\n",
       "    </tr>\n",
       "  </tbody>\n",
       "</table>\n",
       "</div>"
      ],
      "text/plain": [
       "  customer_age    actual\n",
       "0       0 - 20  0.364654\n",
       "1         101+  0.447750\n",
       "2      21 - 30  0.338410\n",
       "3      31 - 40  0.335046\n",
       "4      41 - 50  0.347510"
      ]
     },
     "execution_count": 18,
     "metadata": {},
     "output_type": "execute_result"
    },
    {
     "data": {
      "image/png": "[encoded data removed]",
      "text/plain": [
       "<Figure size 432x288 with 1 Axes>"
      ]
     },
     "metadata": {
      "needs_background": "light"
     },
     "output_type": "display_data"
    }
   ],
   "source": [
    "age_buckets = data.groupby('customer_age')['actual'].mean().to_frame().reset_index()\n",
    "sns.barplot(x='customer_age', y='actual', data=age_buckets)\n",
    "#interesting that 101+ stands out as a higher liklihood to be a repeat\n",
    "age_buckets.head()"
   ]
  },
  {
   "cell_type": "code",
   "execution_count": 19,
   "metadata": {},
   "outputs": [
    {
     "name": "stdout",
     "output_type": "stream",
     "text": [
      "    post_purchase_satisfaction  insert_num\n",
      "0                            0          12\n",
      "1                            1           1\n",
      "10                           2           0\n",
      "2                            3           5\n",
      "3                            4           6\n",
      "4                            5          12\n",
      "5                            6          13\n",
      "6                            7          34\n",
      "7                            8          94\n",
      "8                            9         223\n",
      "9                           10         819\n",
      "    post_purchase_satisfaction  insert_num\n",
      "0                            0           7\n",
      "1                            1           1\n",
      "10                           2           0\n",
      "2                            3           2\n",
      "3                            4           2\n",
      "4                            5          10\n",
      "5                            6           7\n",
      "6                            7          26\n",
      "7                            8          66\n",
      "8                            9         149\n",
      "9                           10         523\n",
      "    post_purchase_satisfaction  insert_num\n",
      "0                            0           5\n",
      "9                            1           0\n",
      "10                           2           0\n",
      "1                            3           3\n",
      "2                            4           4\n",
      "3                            5           2\n",
      "4                            6           6\n",
      "5                            7           8\n",
      "6                            8          28\n",
      "7                            9          74\n",
      "8                           10         296\n",
      "    post_purchase_satisfaction  insert_num   ratio_0   ratio_1\n",
      "0                            0          12  0.583333  0.416667\n",
      "1                            1           1  1.000000  3.000000\n",
      "10                           2           0       NaN       NaN\n",
      "2                            3           5  0.400000  0.800000\n",
      "3                            4           6  0.333333  0.333333\n",
      "4                            5          12  0.833333  0.500000\n",
      "5                            6          13  0.538462  0.615385\n",
      "6                            7          34  0.764706  0.823529\n",
      "7                            8          94  0.702128  0.787234\n",
      "8                            9         223  0.668161  1.327354\n",
      "9                           10         819  0.638584  0.000000\n"
     ]
    },
    {
     "name": "stderr",
     "output_type": "stream",
     "text": [
      "C:\\Users\\999Na\\Anaconda3\\lib\\site-packages\\ipykernel_launcher.py:2: SettingWithCopyWarning: \n",
      "A value is trying to be set on a copy of a slice from a DataFrame.\n",
      "Try using .loc[row_indexer,col_indexer] = value instead\n",
      "\n",
      "See the caveats in the documentation: http://pandas.pydata.org/pandas-docs/stable/user_guide/indexing.html#returning-a-view-versus-a-copy\n",
      "  \n"
     ]
    }
   ],
   "source": [
    "data_2 = data.loc[data['post_purchase_satisfaction'] != '?'] \n",
    "data_2['post_purchase_satisfaction'] = pd.to_numeric(data_2['post_purchase_satisfaction'])\n",
    "prefs_count = data_2.groupby('post_purchase_satisfaction')['insert_num'].count().to_frame().reset_index()\n",
    "prefs_count['post_purchase_satisfaction'] = pd.to_numeric(prefs_count['post_purchase_satisfaction'])\n",
    "prefs_count = prefs_count.append({'post_purchase_satisfaction' : 2 , 'insert_num' : 0} , ignore_index=True)\n",
    "prefs_count.sort_values(by=['post_purchase_satisfaction'], ascending=True, inplace=True)\n",
    "print(prefs_count.head(11))\n",
    "\n",
    "prefs_0 = data_2.loc[data['actual'] == 0].groupby('post_purchase_satisfaction')['insert_num'].count().to_frame().reset_index()\n",
    "prefs_1 = data_2.loc[data['actual'] == 1].groupby('post_purchase_satisfaction')['insert_num'].count().to_frame().reset_index()\n",
    "prefs_1 = prefs_1.append({'post_purchase_satisfaction' : 1 , 'insert_num' : 0} , ignore_index=True)\n",
    "prefs_0 = prefs_0.append({'post_purchase_satisfaction' : 2 , 'insert_num' : 0} , ignore_index=True)\n",
    "prefs_1 = prefs_1.append({'post_purchase_satisfaction' : 2 , 'insert_num' : 0} , ignore_index=True)\n",
    "for num in range(0:10):\n",
    "    if perfs_1[]\n",
    "#print(prefs_0)\n",
    "print(prefs_0)\n",
    "print(prefs_1)\n",
    "print(prefs_count)"
   ]
  },
  {
   "cell_type": "code",
   "execution_count": null,
   "metadata": {},
   "outputs": [],
   "source": []
  },
  {
   "cell_type": "code",
   "execution_count": null,
   "metadata": {},
   "outputs": [],
   "source": []
  },
  {
   "cell_type": "code",
   "execution_count": null,
   "metadata": {},
   "outputs": [],
   "source": []
  },
  {
   "cell_type": "code",
   "execution_count": null,
   "metadata": {},
   "outputs": [],
   "source": []
  },
  {
   "cell_type": "code",
   "execution_count": null,
   "metadata": {},
   "outputs": [],
   "source": []
  },
  {
   "cell_type": "code",
   "execution_count": null,
   "metadata": {},
   "outputs": [],
   "source": []
  }
 ],
 "metadata": {
  "kernelspec": {
   "display_name": "Python 3",
   "language": "python",
   "name": "python3"
  },
  "language_info": {
   "codemirror_mode": {
    "name": "ipython",
    "version": 3
   },
   "file_extension": ".py",
   "mimetype": "text/x-python",
   "name": "python",
   "nbconvert_exporter": "python",
   "pygments_lexer": "ipython3",
   "version": "3.7.4"
  }
 },
 "nbformat": 4,
 "nbformat_minor": 2
}
