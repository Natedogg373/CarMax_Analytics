{
 "cells": [
  {
   "cell_type": "code",
   "execution_count": 1,
   "metadata": {},
   "outputs": [
    {
     "name": "stdout",
     "output_type": "stream",
     "text": [
      "361556\n",
      "312468\n",
      "355397\n",
      "360405\n"
     ]
    },
    {
     "name": "stderr",
     "output_type": "stream",
     "text": [
      "C:\\Users\\999Na\\Anaconda3\\lib\\site-packages\\ipykernel_launcher.py:31: SettingWithCopyWarning:\n",
      "\n",
      "\n",
      "A value is trying to be set on a copy of a slice from a DataFrame.\n",
      "Try using .loc[row_indexer,col_indexer] = value instead\n",
      "\n",
      "See the caveats in the documentation: http://pandas.pydata.org/pandas-docs/stable/user_guide/indexing.html#returning-a-view-versus-a-copy\n",
      "\n"
     ]
    }
   ],
   "source": [
    "import pandas as pd\n",
    "import seaborn as sns\n",
    "import plotly.express as px\n",
    "import plotly.offline as py\n",
    "import matplotlib.pyplot as plt\n",
    "import numpy as np\n",
    "\n",
    "\n",
    "data = pd.read_csv('CaseCompetitionData.csv', sep=',')\n",
    "data['actual'] = 1\n",
    "data.loc[data['subsequent_purchases'] == 0, 'actual'] = 0\n",
    "data['customer_age'] = data['customer_age'].map({'21 - 30':25, '61 - 70':65, '31 - 40':35, '41 - 50':45, '51 - 60':55, '101+':102, '71 - 80':75,\n",
    " '0 - 20':10, '81 - 90':85, '?':'?', '91 - 100':95})\n",
    "data['customer_income'] = data['customer_income'].map({'20001 - 40000':30000, '80001 - 100000':90000, '40001 - 60000':50000, '60001 - 80000':70000,\n",
    " '120001 - 140000':130000, '0 - 20000':10000, '100001 - 120000':110000, '160001 - 180000':170000,\n",
    " '200001+':220000, '140001 - 160000':150000, '180001 - 200000':190000, '?':'?'})\n",
    "data['purchase_price'] = data['purchase_price'].map({'10001 - 15000':12500, '15001 - 20000':17500, \n",
    " '20001 - 25000':22500, '25001 - 30000':27500, '30001 - 35000':32500, '0 - 5000':2500, '45001 - 50000':47500, \n",
    " '35001 - 40000':27500, '5001 - 10000':7500, '40001 - 45000':42500, '55001 - 60000':57500, '50001 - 55000':52500, \n",
    " '60001 - 65000':62500, '65001 - 70000':67500, '70001 - 75000':72500, '75001 - 80000':77500, '85001 - 90000':87500,\n",
    " '90001 - 95000':92500, '80001 - 85000':82500, '?':'?'})\n",
    "data['counter'] = 1\n",
    "price = data.loc[data['purchase_price'] != '?']\n",
    "income = data.loc[data['customer_income'] != '?']\n",
    "distance = data.loc[data['customer_distance_to_dealer'] != '?']\n",
    "age = data.loc[data['customer_age'] != '?']\n",
    "print(len(price))\n",
    "print(len(income))\n",
    "print(len(distance))\n",
    "print(len(age))\n",
    "distance['customer_distance_to_dealer'] = distance['customer_distance_to_dealer'].astype(np.int64)"
   ]
  },
  {
   "cell_type": "code",
   "execution_count": 32,
   "metadata": {},
   "outputs": [
    {
     "name": "stdout",
     "output_type": "stream",
     "text": [
      "   trade_in    actual\n",
      "0         0  0.322550\n",
      "1         1  0.363858\n",
      "   customer_previous_purchase    actual\n",
      "0                           0  0.329577\n",
      "1                           1  0.387068\n",
      "   vehicle_warranty_used    actual\n",
      "0                      0  0.335684\n",
      "1                      1  0.359969\n",
      "   vehicle_financing    actual\n",
      "0                  0  0.370446\n",
      "1                  1  0.333032\n"
     ]
    }
   ],
   "source": [
    "### Quantifying subs ratio for binary features\n",
    "\n",
    "trade_in = data.groupby('trade_in')['actual'].mean().to_frame().reset_index()\n",
    "print(trade_in.head())\n",
    "customer_previous_purchase = data.groupby('customer_previous_purchase')['actual'].mean().to_frame().reset_index()\n",
    "print(customer_previous_purchase.head())\n",
    "warranty_used = data.groupby('vehicle_warranty_used')['actual'].mean().to_frame().reset_index()\n",
    "print(warranty_used.head())\n",
    "financing = data.groupby('vehicle_financing')['actual'].mean().to_frame().reset_index()\n",
    "print(financing.head())\n",
    "trade_in.to_csv('trade_subs.csv')\n",
    "customer_previous_purchase.to_csv('prev_subs.csv')\n",
    "warranty_used.to_csv('war_subs.csv')\n",
    "financing.to_csv('fin_subs.csv')\n",
    "\n",
    "\n",
    "\n"
   ]
  },
  {
   "cell_type": "code",
   "execution_count": 4,
   "metadata": {},
   "outputs": [
    {
     "data": {
      "text/plain": [
       "'parallel_cats.html'"
      ]
     },
     "execution_count": 4,
     "metadata": {},
     "output_type": "execute_result"
    }
   ],
   "source": [
    "### Trade_in subs split distribution\n",
    "\n",
    "par_cats = data[['actual', 'trade_in']]\n",
    "par_cats.dtypes\n",
    "fig = px.parallel_categories(par_cats)\n",
    "py.offline.plot(fig, filename='parallel_cats.html', auto_open=True)"
   ]
  },
  {
   "cell_type": "code",
   "execution_count": null,
   "metadata": {},
   "outputs": [],
   "source": [
    "purch_subs = data.groupby()"
   ]
  },
  {
   "cell_type": "code",
   "execution_count": 41,
   "metadata": {},
   "outputs": [
    {
     "data": {
      "text/plain": [
       "'temp-plot.html'"
      ]
     },
     "execution_count": 41,
     "metadata": {},
     "output_type": "execute_result"
    }
   ],
   "source": [
    "### Trade_in purchase year subs ratio\n",
    "\n",
    "purchase_year = data.loc[data['purchase_vehicle_year'] >= 2000].groupby(['trade_in', 'purchase_vehicle_year'])['actual'].mean().to_frame().reset_index()\n",
    "purchase_year\n",
    "fig = px.bar(purchase_year, x='purchase_vehicle_year', y='actual', facet_row='trade_in')\n",
    "py.offline.plot(fig, 'year_previous.html', auto_open=True)\n",
    "\n",
    "#purchase_year.to_csv('purchase_year.csv')"
   ]
  },
  {
   "cell_type": "code",
   "execution_count": 39,
   "metadata": {},
   "outputs": [],
   "source": [
    "### Trade in purchase year subs split distribution\n",
    "\n",
    "par_cats = price.loc[price['purchase_vehicle_year'] >= 2000][['actual', 'purchase_vehicle_year', 'trade_in']]\n",
    "par_cats.to_csv('trade_year_subs.csv')\n",
    "#print(par_cats['purchase_vehicle_year'].unique())\n",
    "#fig = px.parallel_categories(par_cats)\n",
    "#py.offline.plot(fig, filename='parallel_cats.html', auto_open=True)"
   ]
  },
  {
   "cell_type": "code",
   "execution_count": 42,
   "metadata": {},
   "outputs": [],
   "source": [
    "### Trade in income subs ratio\n",
    "\n",
    "income_trade = income.groupby(['customer_income', 'trade_in'])['actual'].mean().to_frame().reset_index()\n",
    "#purchase_year\n",
    "#fig = px.bar(income_trade, x='customer_income', y='actual', facet_row='trade_in')\n",
    "#py.offline.plot(fig, 'income_trade.html', auto_open=True)\n",
    "income_trade.to_csv('income_trade_subs.csv')"
   ]
  },
  {
   "cell_type": "code",
   "execution_count": 43,
   "metadata": {},
   "outputs": [],
   "source": [
    "### Trade in purchase price subs ratio\n",
    "\n",
    "price_trade = price.groupby(['purchase_price', 'trade_in'])['actual'].mean().to_frame().reset_index()\n",
    "#purchase_year\n",
    "#fig = px.bar(price_trade, x='purchase_price', y='actual', facet_row='trade_in')\n",
    "#py.offline.plot(fig, 'price_trade.html', auto_open=True)\n",
    "#data['actual'].mean()\n",
    "price_trade.to_csv('price_trade_subs.csv')"
   ]
  },
  {
   "cell_type": "code",
   "execution_count": 9,
   "metadata": {},
   "outputs": [
    {
     "data": {
      "text/plain": [
       "'temp-plot.html'"
      ]
     },
     "execution_count": 9,
     "metadata": {},
     "output_type": "execute_result"
    }
   ],
   "source": [
    "### trade in age subs ratio\n",
    "\n",
    "age_trade = age.groupby(['customer_age', 'trade_in'])['actual'].mean().to_frame().reset_index()\n",
    "purchase_year\n",
    "fig = px.bar(age_trade, x='customer_age', y='actual', facet_row='trade_in')\n",
    "py.offline.plot(fig, 'age_trade.html', auto_open=True)"
   ]
  },
  {
   "cell_type": "code",
   "execution_count": 63,
   "metadata": {},
   "outputs": [],
   "source": [
    "### trade in distance to dealer subs ratio\n",
    "\n",
    "dist_subs = distance.loc[distance['customer_distance_to_dealer'] <= 50].groupby(['customer_distance_to_dealer', 'customer_previous_purchase'])['actual'].mean().to_frame().reset_index()\n",
    "purchase_year\n",
    "fig = px.line(dist_subs, x='customer_distance_to_dealer', y='actual', facet_row='customer_previous_purchase')\n",
    "py.offline.plot(fig, 'dist_trade.html', auto_open=True)\n",
    "dist_subs.to_csv('dist_prev_subs_50.csv')"
   ]
  },
  {
   "cell_type": "code",
   "execution_count": 3,
   "metadata": {},
   "outputs": [
    {
     "data": {
      "text/plain": [
       "'temp-plot.html'"
      ]
     },
     "execution_count": 3,
     "metadata": {},
     "output_type": "execute_result"
    }
   ],
   "source": [
    "### trade in make subs ratio\n",
    "\n",
    "make_trade = data.groupby(['purchase_make', 'trade_in'])['actual'].mean().to_frame().reset_index()\n",
    "\n",
    "#fig = px.bar(make_trade, x='purchase_make', y='actual', facet_row='trade_in')\n",
    "#py.offline.plot(fig, 'make_trade.html', auto_open=True)\n",
    "\n",
    "make_subs = data.groupby('purchase_make')['actual'].mean().to_frame().reset_index()\n",
    "fig = px.bar(make_subs, x='purchase_make', y='actual')\n",
    "py.offline.plot(fig, 'make_subs.html', auto_open=True)"
   ]
  },
  {
   "cell_type": "code",
   "execution_count": 4,
   "metadata": {},
   "outputs": [
    {
     "data": {
      "text/plain": [
       "'temp-plot.html'"
      ]
     },
     "execution_count": 4,
     "metadata": {},
     "output_type": "execute_result"
    }
   ],
   "source": [
    "make_prev = data.groupby(['purchase_make', 'customer_previous_purchase'])['actual'].mean().to_frame().reset_index()\n",
    "fig = px.bar(make_prev, x='purchase_make', y='actual', facet_row='customer_previous_purchase')\n",
    "py.offline.plot(fig, 'make_prev.html', auto_open=True)"
   ]
  },
  {
   "cell_type": "code",
   "execution_count": 13,
   "metadata": {},
   "outputs": [
    {
     "name": "stdout",
     "output_type": "stream",
     "text": [
      "0.35903806022061013\n",
      "0.5550632128474738\n"
     ]
    },
    {
     "ename": "PermissionError",
     "evalue": "[Errno 13] Permission denied: 'low_make_subs.csv'",
     "output_type": "error",
     "traceback": [
      "\u001b[1;31m---------------------------------------------------------------------------\u001b[0m",
      "\u001b[1;31mPermissionError\u001b[0m                           Traceback (most recent call last)",
      "\u001b[1;32m<ipython-input-13-94a20ba96e90>\u001b[0m in \u001b[0;36m<module>\u001b[1;34m\u001b[0m\n\u001b[0;32m      8\u001b[0m \u001b[0msns\u001b[0m\u001b[1;33m.\u001b[0m\u001b[0mbarplot\u001b[0m\u001b[1;33m(\u001b[0m\u001b[0mx\u001b[0m\u001b[1;33m=\u001b[0m\u001b[1;34m'purchase_make'\u001b[0m\u001b[1;33m,\u001b[0m \u001b[0my\u001b[0m\u001b[1;33m=\u001b[0m\u001b[1;34m'actual'\u001b[0m\u001b[1;33m,\u001b[0m \u001b[0mdata\u001b[0m\u001b[1;33m=\u001b[0m\u001b[0mlow_make\u001b[0m\u001b[1;33m)\u001b[0m\u001b[1;33m\u001b[0m\u001b[1;33m\u001b[0m\u001b[0m\n\u001b[0;32m      9\u001b[0m \u001b[0mprint\u001b[0m\u001b[1;33m(\u001b[0m\u001b[0mlow_make\u001b[0m\u001b[1;33m[\u001b[0m\u001b[1;34m'actual'\u001b[0m\u001b[1;33m]\u001b[0m\u001b[1;33m.\u001b[0m\u001b[0mmean\u001b[0m\u001b[1;33m(\u001b[0m\u001b[1;33m)\u001b[0m\u001b[1;33m)\u001b[0m\u001b[1;33m\u001b[0m\u001b[1;33m\u001b[0m\u001b[0m\n\u001b[1;32m---> 10\u001b[1;33m \u001b[0mlow_make\u001b[0m\u001b[1;33m.\u001b[0m\u001b[0mto_csv\u001b[0m\u001b[1;33m(\u001b[0m\u001b[1;34m'low_make_subs.csv'\u001b[0m\u001b[1;33m)\u001b[0m\u001b[1;33m\u001b[0m\u001b[1;33m\u001b[0m\u001b[0m\n\u001b[0m\u001b[0;32m     11\u001b[0m \u001b[1;31m#makes\u001b[0m\u001b[1;33m\u001b[0m\u001b[1;33m\u001b[0m\u001b[1;33m\u001b[0m\u001b[0m\n\u001b[0;32m     12\u001b[0m \u001b[0mlow_demand\u001b[0m\u001b[1;33m.\u001b[0m\u001b[0mto_csv\u001b[0m\u001b[1;33m(\u001b[0m\u001b[1;34m'low_demand_dist.csv'\u001b[0m\u001b[1;33m)\u001b[0m\u001b[1;33m\u001b[0m\u001b[1;33m\u001b[0m\u001b[0m\n",
      "\u001b[1;32m~\\Anaconda3\\lib\\site-packages\\pandas\\core\\generic.py\u001b[0m in \u001b[0;36mto_csv\u001b[1;34m(self, path_or_buf, sep, na_rep, float_format, columns, header, index, index_label, mode, encoding, compression, quoting, quotechar, line_terminator, chunksize, date_format, doublequote, escapechar, decimal)\u001b[0m\n\u001b[0;32m   3226\u001b[0m             \u001b[0mdecimal\u001b[0m\u001b[1;33m=\u001b[0m\u001b[0mdecimal\u001b[0m\u001b[1;33m,\u001b[0m\u001b[1;33m\u001b[0m\u001b[1;33m\u001b[0m\u001b[0m\n\u001b[0;32m   3227\u001b[0m         )\n\u001b[1;32m-> 3228\u001b[1;33m         \u001b[0mformatter\u001b[0m\u001b[1;33m.\u001b[0m\u001b[0msave\u001b[0m\u001b[1;33m(\u001b[0m\u001b[1;33m)\u001b[0m\u001b[1;33m\u001b[0m\u001b[1;33m\u001b[0m\u001b[0m\n\u001b[0m\u001b[0;32m   3229\u001b[0m \u001b[1;33m\u001b[0m\u001b[0m\n\u001b[0;32m   3230\u001b[0m         \u001b[1;32mif\u001b[0m \u001b[0mpath_or_buf\u001b[0m \u001b[1;32mis\u001b[0m \u001b[1;32mNone\u001b[0m\u001b[1;33m:\u001b[0m\u001b[1;33m\u001b[0m\u001b[1;33m\u001b[0m\u001b[0m\n",
      "\u001b[1;32m~\\Anaconda3\\lib\\site-packages\\pandas\\io\\formats\\csvs.py\u001b[0m in \u001b[0;36msave\u001b[1;34m(self)\u001b[0m\n\u001b[0;32m    181\u001b[0m                 \u001b[0mself\u001b[0m\u001b[1;33m.\u001b[0m\u001b[0mmode\u001b[0m\u001b[1;33m,\u001b[0m\u001b[1;33m\u001b[0m\u001b[1;33m\u001b[0m\u001b[0m\n\u001b[0;32m    182\u001b[0m                 \u001b[0mencoding\u001b[0m\u001b[1;33m=\u001b[0m\u001b[0mself\u001b[0m\u001b[1;33m.\u001b[0m\u001b[0mencoding\u001b[0m\u001b[1;33m,\u001b[0m\u001b[1;33m\u001b[0m\u001b[1;33m\u001b[0m\u001b[0m\n\u001b[1;32m--> 183\u001b[1;33m                 \u001b[0mcompression\u001b[0m\u001b[1;33m=\u001b[0m\u001b[0mself\u001b[0m\u001b[1;33m.\u001b[0m\u001b[0mcompression\u001b[0m\u001b[1;33m,\u001b[0m\u001b[1;33m\u001b[0m\u001b[1;33m\u001b[0m\u001b[0m\n\u001b[0m\u001b[0;32m    184\u001b[0m             )\n\u001b[0;32m    185\u001b[0m             \u001b[0mclose\u001b[0m \u001b[1;33m=\u001b[0m \u001b[1;32mTrue\u001b[0m\u001b[1;33m\u001b[0m\u001b[1;33m\u001b[0m\u001b[0m\n",
      "\u001b[1;32m~\\Anaconda3\\lib\\site-packages\\pandas\\io\\common.py\u001b[0m in \u001b[0;36m_get_handle\u001b[1;34m(path_or_buf, mode, encoding, compression, memory_map, is_text)\u001b[0m\n\u001b[0;32m    397\u001b[0m         \u001b[1;32mif\u001b[0m \u001b[0mencoding\u001b[0m\u001b[1;33m:\u001b[0m\u001b[1;33m\u001b[0m\u001b[1;33m\u001b[0m\u001b[0m\n\u001b[0;32m    398\u001b[0m             \u001b[1;31m# Encoding\u001b[0m\u001b[1;33m\u001b[0m\u001b[1;33m\u001b[0m\u001b[1;33m\u001b[0m\u001b[0m\n\u001b[1;32m--> 399\u001b[1;33m             \u001b[0mf\u001b[0m \u001b[1;33m=\u001b[0m \u001b[0mopen\u001b[0m\u001b[1;33m(\u001b[0m\u001b[0mpath_or_buf\u001b[0m\u001b[1;33m,\u001b[0m \u001b[0mmode\u001b[0m\u001b[1;33m,\u001b[0m \u001b[0mencoding\u001b[0m\u001b[1;33m=\u001b[0m\u001b[0mencoding\u001b[0m\u001b[1;33m,\u001b[0m \u001b[0mnewline\u001b[0m\u001b[1;33m=\u001b[0m\u001b[1;34m\"\"\u001b[0m\u001b[1;33m)\u001b[0m\u001b[1;33m\u001b[0m\u001b[1;33m\u001b[0m\u001b[0m\n\u001b[0m\u001b[0;32m    400\u001b[0m         \u001b[1;32melif\u001b[0m \u001b[0mis_text\u001b[0m\u001b[1;33m:\u001b[0m\u001b[1;33m\u001b[0m\u001b[1;33m\u001b[0m\u001b[0m\n\u001b[0;32m    401\u001b[0m             \u001b[1;31m# No explicit encoding\u001b[0m\u001b[1;33m\u001b[0m\u001b[1;33m\u001b[0m\u001b[1;33m\u001b[0m\u001b[0m\n",
      "\u001b[1;31mPermissionError\u001b[0m: [Errno 13] Permission denied: 'low_make_subs.csv'"
     ]
    },
    {
     "data": {
      "image/png": "[encoded data removed]",
      "text/plain": [
       "<Figure size 432x288 with 1 Axes>"
      ]
     },
     "metadata": {
      "needs_background": "light"
     },
     "output_type": "display_data"
    }
   ],
   "source": [
    "makes = data\n",
    "makes['counter'] = 1\n",
    "makes = makes.groupby('purchase_make')['counter'].sum().to_frame().reset_index()\n",
    "\n",
    "low_demand = makes.loc[makes['counter'] < 2000]\n",
    "print(data.loc[data.purchase_make.isin(low_demand['purchase_make'].unique())]['actual'].mean())\n",
    "low_make = data.loc[data.purchase_make.isin(low_demand['purchase_make'].unique())].groupby('purchase_make')['actual'].mean().to_frame().reset_index()\n",
    "sns.barplot(x='purchase_make', y='actual', data=low_make)\n",
    "print(low_make['actual'].mean())\n",
    "low_make.to_csv('low_make_subs.csv')\n",
    "#makes\n",
    "low_demand.to_csv('low_demand_dist.csv')\n",
    "make_subs.groupby('purchase_make')['actual'].mean().to_frame().reset_index().to_csv('make_subs.csv')"
   ]
  },
  {
   "cell_type": "code",
   "execution_count": 14,
   "metadata": {},
   "outputs": [],
   "source": [
    "make_fin = data.groupby(['purchase_make', 'vehicle_financing'])['actual'].mean().to_frame().reset_index()\n",
    "#fig = px.bar(make_fin, x='purchase_make', y='actual', facet_row='vehicle_financing')\n",
    "#py.offline.plot(fig, 'make_fin.html', auto_open=True)\n",
    "make_fin.to_csv('make_fin_subs.csv')"
   ]
  },
  {
   "cell_type": "code",
   "execution_count": 38,
   "metadata": {},
   "outputs": [],
   "source": [
    "### Purchase price subs ratio\n",
    "\n",
    "purch_ratio = price.groupby('purchase_price')['actual'].mean().to_frame().reset_index()\n",
    "purch_ratio.to_csv('purch_subs.csv')\n",
    "#fig = px.bar(purch_ratio, x='purchase_price', y='actual')\n",
    "#py.offline.plot(fig, 'price_subs.html', auto_open=True)"
   ]
  },
  {
   "cell_type": "code",
   "execution_count": 13,
   "metadata": {},
   "outputs": [
    {
     "data": {
      "text/html": [
       "<div>\n",
       "<style scoped>\n",
       "    .dataframe tbody tr th:only-of-type {\n",
       "        vertical-align: middle;\n",
       "    }\n",
       "\n",
       "    .dataframe tbody tr th {\n",
       "        vertical-align: top;\n",
       "    }\n",
       "\n",
       "    .dataframe thead th {\n",
       "        text-align: right;\n",
       "    }\n",
       "</style>\n",
       "<table border=\"1\" class=\"dataframe\">\n",
       "  <thead>\n",
       "    <tr style=\"text-align: right;\">\n",
       "      <th></th>\n",
       "      <th>purchase_price</th>\n",
       "      <th>actual</th>\n",
       "    </tr>\n",
       "  </thead>\n",
       "  <tbody>\n",
       "    <tr>\n",
       "      <td>0</td>\n",
       "      <td>2500</td>\n",
       "      <td>2944</td>\n",
       "    </tr>\n",
       "    <tr>\n",
       "      <td>1</td>\n",
       "      <td>7500</td>\n",
       "      <td>3764</td>\n",
       "    </tr>\n",
       "    <tr>\n",
       "      <td>2</td>\n",
       "      <td>12500</td>\n",
       "      <td>33753</td>\n",
       "    </tr>\n",
       "    <tr>\n",
       "      <td>3</td>\n",
       "      <td>17500</td>\n",
       "      <td>39607</td>\n",
       "    </tr>\n",
       "    <tr>\n",
       "      <td>4</td>\n",
       "      <td>22500</td>\n",
       "      <td>22396</td>\n",
       "    </tr>\n",
       "    <tr>\n",
       "      <td>5</td>\n",
       "      <td>27500</td>\n",
       "      <td>13560</td>\n",
       "    </tr>\n",
       "    <tr>\n",
       "      <td>6</td>\n",
       "      <td>32500</td>\n",
       "      <td>5199</td>\n",
       "    </tr>\n",
       "    <tr>\n",
       "      <td>7</td>\n",
       "      <td>47500</td>\n",
       "      <td>1716</td>\n",
       "    </tr>\n",
       "    <tr>\n",
       "      <td>8</td>\n",
       "      <td>52500</td>\n",
       "      <td>249</td>\n",
       "    </tr>\n",
       "    <tr>\n",
       "      <td>9</td>\n",
       "      <td>57500</td>\n",
       "      <td>158</td>\n",
       "    </tr>\n",
       "    <tr>\n",
       "      <td>10</td>\n",
       "      <td>62500</td>\n",
       "      <td>97</td>\n",
       "    </tr>\n",
       "    <tr>\n",
       "      <td>11</td>\n",
       "      <td>67500</td>\n",
       "      <td>54</td>\n",
       "    </tr>\n",
       "    <tr>\n",
       "      <td>12</td>\n",
       "      <td>72500</td>\n",
       "      <td>25</td>\n",
       "    </tr>\n",
       "    <tr>\n",
       "      <td>13</td>\n",
       "      <td>77500</td>\n",
       "      <td>18</td>\n",
       "    </tr>\n",
       "    <tr>\n",
       "      <td>14</td>\n",
       "      <td>82500</td>\n",
       "      <td>6</td>\n",
       "    </tr>\n",
       "    <tr>\n",
       "      <td>15</td>\n",
       "      <td>87500</td>\n",
       "      <td>5</td>\n",
       "    </tr>\n",
       "    <tr>\n",
       "      <td>16</td>\n",
       "      <td>92500</td>\n",
       "      <td>3</td>\n",
       "    </tr>\n",
       "  </tbody>\n",
       "</table>\n",
       "</div>"
      ],
      "text/plain": [
       "    purchase_price  actual\n",
       "0             2500    2944\n",
       "1             7500    3764\n",
       "2            12500   33753\n",
       "3            17500   39607\n",
       "4            22500   22396\n",
       "5            27500   13560\n",
       "6            32500    5199\n",
       "7            47500    1716\n",
       "8            52500     249\n",
       "9            57500     158\n",
       "10           62500      97\n",
       "11           67500      54\n",
       "12           72500      25\n",
       "13           77500      18\n",
       "14           82500       6\n",
       "15           87500       5\n",
       "16           92500       3"
      ]
     },
     "execution_count": 13,
     "metadata": {},
     "output_type": "execute_result"
    }
   ],
   "source": [
    "### purchase price subs=1 distribution \n",
    "\n",
    "purch = price.loc[data['actual'] == 1].groupby('purchase_price')['actual'].sum().to_frame().reset_index()\n",
    "fig = px.bar(purch, x='purchase_price', y='actual')\n",
    "py.offline.plot(fig, 'price_subs_1_dist.html', auto_open=True)\n",
    "purch"
   ]
  },
  {
   "cell_type": "code",
   "execution_count": 18,
   "metadata": {},
   "outputs": [
    {
     "data": {
      "text/plain": [
       "'temp-plot.html'"
      ]
     },
     "execution_count": 18,
     "metadata": {},
     "output_type": "execute_result"
    }
   ],
   "source": [
    "### purchase price distribution\n",
    "\n",
    "purch_dist = price.groupby('purchase_price')['insert_num'].count().to_frame().reset_index()\n",
    "fig = px.bar(purch_dist, x='purchase_price', y='insert_num')\n",
    "py.offline.plot(fig, 'price_dist.html', auto_open=True)"
   ]
  },
  {
   "cell_type": "code",
   "execution_count": 19,
   "metadata": {},
   "outputs": [
    {
     "data": {
      "text/plain": [
       "'temp-plot.html'"
      ]
     },
     "execution_count": 19,
     "metadata": {},
     "output_type": "execute_result"
    }
   ],
   "source": [
    "### purchase price warranty subs ratio\n",
    "\n",
    "warranty_price = price.groupby(['vehicle_warranty_used', 'purchase_price'])['actual'].mean().to_frame().reset_index()\n",
    "fig = px.bar(warranty_price, x='purchase_price', y='actual', facet_row='vehicle_warranty_used')\n",
    "py.offline.plot(fig, 'warranty_price.html', auto_open=True)"
   ]
  },
  {
   "cell_type": "code",
   "execution_count": 20,
   "metadata": {},
   "outputs": [
    {
     "data": {
      "text/plain": [
       "'temp-plot.html'"
      ]
     },
     "execution_count": 20,
     "metadata": {},
     "output_type": "execute_result"
    }
   ],
   "source": [
    "### purchase price year subs ratio\n",
    "\n",
    "price_year = price.loc[price['purchase_vehicle_year'] > 2000].groupby(['purchase_vehicle_year', 'purchase_price'])['actual'].mean().to_frame().reset_index()\n",
    "fig = px.bar(price_year, x='purchase_price', y='actual', facet_row='purchase_vehicle_year', width=1600, height=1600)\n",
    "py.offline.plot(fig, 'price_year.html', auto_open=True)"
   ]
  },
  {
   "cell_type": "code",
   "execution_count": 21,
   "metadata": {},
   "outputs": [
    {
     "data": {
      "text/plain": [
       "'parallel_cats.html'"
      ]
     },
     "execution_count": 21,
     "metadata": {},
     "output_type": "execute_result"
    }
   ],
   "source": [
    "### purchase price subs split distribution\n",
    "\n",
    "par_cats = price[['actual', 'purchase_price']]\n",
    "par_cats.dtypes\n",
    "fig = px.parallel_categories(par_cats)\n",
    "py.offline.plot(fig, filename='parallel_cats.html', auto_open=True)"
   ]
  },
  {
   "cell_type": "code",
   "execution_count": 28,
   "metadata": {},
   "outputs": [
    {
     "data": {
      "text/plain": [
       "'temp-plot.html'"
      ]
     },
     "execution_count": 28,
     "metadata": {},
     "output_type": "execute_result"
    }
   ],
   "source": [
    "### purchase price income subs ratio\n",
    "\n",
    "price_income = price.merge(income['insert_num'], on='insert_num')\n",
    "price_income = price_income.groupby(['purchase_price', 'customer_income'])['actual'].mean().to_frame().reset_index()\n",
    "fig = px.bar(price_income, x='purchase_price', y='actual', facet_row='customer_income', width=1600, height=1600)\n",
    "py.offline.plot(fig, 'price_income.html', auto_open=True)"
   ]
  },
  {
   "cell_type": "code",
   "execution_count": 29,
   "metadata": {},
   "outputs": [
    {
     "data": {
      "text/plain": [
       "'temp-plot.html'"
      ]
     },
     "execution_count": 29,
     "metadata": {},
     "output_type": "execute_result"
    }
   ],
   "source": [
    "### purchase price income distribution\n",
    "\n",
    "price_income = price.merge(income['insert_num'], on='insert_num')\n",
    "price_income = price_income.groupby(['purchase_price', 'customer_income'])['actual'].count().to_frame().reset_index()\n",
    "fig = px.bar(price_income, x='purchase_price', y='actual', facet_row='customer_income', width=1600, height=1600)\n",
    "py.offline.plot(fig, 'price_income.html', auto_open=True)"
   ]
  }
 ],
 "metadata": {
  "kernelspec": {
   "display_name": "Python 3",
   "language": "python",
   "name": "python3"
  },
  "language_info": {
   "codemirror_mode": {
    "name": "ipython",
    "version": 3
   },
   "file_extension": ".py",
   "mimetype": "text/x-python",
   "name": "python",
   "nbconvert_exporter": "python",
   "pygments_lexer": "ipython3",
   "version": "3.7.4"
  }
 },
 "nbformat": 4,
 "nbformat_minor": 2
}
